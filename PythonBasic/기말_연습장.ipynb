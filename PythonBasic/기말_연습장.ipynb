{
 "cells": [
  {
   "cell_type": "code",
   "execution_count": 17,
   "id": "b09727d2-4616-4646-90e6-b7d73d77b30f",
   "metadata": {},
   "outputs": [
    {
     "data": {
      "text/plain": [
       "(50, 40, 30, 20, 10)"
      ]
     },
     "execution_count": 17,
     "metadata": {},
     "output_type": "execute_result"
    }
   ],
   "source": [
    "#튜플 슬라이싱\n",
    "\n",
    "tp = (10,20,30,40,50)\n",
    "\n",
    "tp1=tp[::-1]\n",
    "tp1"
   ]
  },
  {
   "cell_type": "code",
   "execution_count": 20,
   "id": "2bd6f801-b8b8-4d61-b5d6-9b3738204327",
   "metadata": {},
   "outputs": [
    {
     "data": {
      "text/plain": [
       "'요어싶고하강종'"
      ]
     },
     "execution_count": 20,
     "metadata": {},
     "output_type": "execute_result"
    }
   ],
   "source": [
    "st = '종강하고싶어요'\n",
    "\n",
    "st_rv = st[::-1]\n",
    "st_rv"
   ]
  },
  {
   "cell_type": "code",
   "execution_count": 47,
   "id": "c709d984-25a4-4dbc-971a-75601bbecf78",
   "metadata": {},
   "outputs": [
    {
     "name": "stdout",
     "output_type": "stream",
     "text": [
      "5\n"
     ]
    }
   ],
   "source": [
    "tp2 = 1,2,3,4,5   #튜플 생성(패킹)\n",
    "\n",
    "a,b,c,d,e = tp2   #개별 할당(언패킹)\n",
    "print(e)"
   ]
  },
  {
   "cell_type": "code",
   "execution_count": 45,
   "id": "9fe889ea-2cee-41d4-ba9d-afe240efb0b8",
   "metadata": {},
   "outputs": [
    {
     "name": "stdout",
     "output_type": "stream",
     "text": [
      "1  2  3  \n",
      "4  5  6  \n",
      "7  8  9  \n"
     ]
    }
   ],
   "source": [
    "tt = ((1,2,3),(4,5,6),(7,8,9))\n",
    "\n",
    "for i in range(0,len(tt)):\n",
    "    for k in range(0,len(tt[i])):\n",
    "        print(tt[i][k],end='  ')\n",
    "    print()"
   ]
  },
  {
   "cell_type": "code",
   "execution_count": 50,
   "id": "33e8b586-626a-40de-9aa7-7c74c8f0e50f",
   "metadata": {},
   "outputs": [
    {
     "name": "stdout",
     "output_type": "stream",
     "text": [
      "나히아 <- 평점:89\n",
      "기생수 <- 평점:92\n",
      "장송의 프리렌 <- 평점:85\n",
      "쓰레기의 본망 <- 평점:95\n"
     ]
    }
   ],
   "source": [
    "애니 = {}\n",
    "\n",
    "애니['나히아'] = 89\n",
    "애니['기생수'] = 92\n",
    "애니['장송의 프리렌'] = 85\n",
    "애니['쓰레기의 본망'] = 95\n",
    "\n",
    "for i in 애니.keys():\n",
    "    print('%s <- 평점:%s' %(i,애니[i]))"
   ]
  },
  {
   "cell_type": "code",
   "execution_count": 62,
   "id": "857c246c-6dc6-4069-8ad1-d574ae88b883",
   "metadata": {},
   "outputs": [
    {
     "data": {
      "text/plain": [
       "['장송의 프리렌', '쓰레기의 본망', '나히아', '기생수']"
      ]
     },
     "execution_count": 62,
     "metadata": {},
     "output_type": "execute_result"
    }
   ],
   "source": [
    "sorted(애니.keys(), reverse=True)\n"
   ]
  },
  {
   "cell_type": "code",
   "execution_count": 65,
   "id": "739512d2-623f-4e44-b32c-1938ac0e7f4a",
   "metadata": {},
   "outputs": [
    {
     "name": "stdout",
     "output_type": "stream",
     "text": [
      "a\n",
      "None\n"
     ]
    }
   ],
   "source": [
    "def A():\n",
    "    print('a')\n",
    "    return\n",
    "\n",
    "b=A()\n",
    "print(b)"
   ]
  },
  {
   "cell_type": "code",
   "execution_count": 82,
   "id": "118fdfe5-b240-4c44-b75e-144cd167cf7c",
   "metadata": {},
   "outputs": [
    {
     "name": "stdout",
     "output_type": "stream",
     "text": [
      "myCar1 100 red\n",
      "myCar2 0 red\n"
     ]
    }
   ],
   "source": [
    "class Car:\n",
    "    def __init__(self):\n",
    "        self.color = 'red'\n",
    "        self.speed = 0\n",
    "\n",
    "    def upSpeed(self, speed):\n",
    "        self.speed += speed\n",
    "        \n",
    "    def downSpeed(self, speed):\n",
    "        self.speed -= speed\n",
    "\n",
    "myCar1 = Car()\n",
    "myCar2 = Car()\n",
    "\n",
    "myCar1.upSpeed(100)\n",
    "\n",
    "print('myCar1',myCar1.speed, myCar1.color)\n",
    "print('myCar2',myCar2.speed, myCar2.color)"
   ]
  },
  {
   "cell_type": "code",
   "execution_count": 113,
   "id": "fae43b89-6a7a-40ef-8f59-c30fed61fd01",
   "metadata": {},
   "outputs": [
    {
     "name": "stdout",
     "output_type": "stream",
     "text": [
      "1. 이름:Alice      나이:24\n",
      "2. 이름:Bob        나이:50\n",
      "3. 이름:Charlie    나이:18\n"
     ]
    }
   ],
   "source": [
    "#복습1\n",
    "names = ['Alice', 'Bob' ,'Charlie']\n",
    "ages = ['24', '50' ,'18']\n",
    "\n",
    "list_dic = dict(zip(names,ages))\n",
    "\n",
    "k=1\n",
    "for i in list_dic.keys():\n",
    "    print(f'{k}. 이름:{i:10s} 나이:{list_dic[i]}')\n",
    "    k+=1"
   ]
  },
  {
   "cell_type": "code",
   "execution_count": 116,
   "id": "9ca8fcaa-46b6-4b78-88ff-0b77ca004b97",
   "metadata": {},
   "outputs": [
    {
     "name": "stdin",
     "output_type": "stream",
     "text": [
      "이름을 입력하세요:  이 현 진\n"
     ]
    },
    {
     "name": "stdout",
     "output_type": "stream",
     "text": [
      "중간 이름은:  현\n",
      "2 번 등장\n"
     ]
    }
   ],
   "source": [
    "#복습2\n",
    "name = input('이름을 입력하세요: ')\n",
    "name_list = name.split()\n",
    "print('중간 이름은: ',name_list[1])\n",
    "\n",
    "s = 'Korea is awesome! I REALLY LOVE KOREA.'\n",
    "print(s.lower().count('korea'),'번 등장')"
   ]
  },
  {
   "cell_type": "code",
   "execution_count": 119,
   "id": "1f774602-2f61-413a-bee9-707fe9b4aba8",
   "metadata": {},
   "outputs": [
    {
     "name": "stdout",
     "output_type": "stream",
     "text": [
      "1 2 3 \n",
      "4 5 6 \n",
      "7 8 9 \n"
     ]
    }
   ],
   "source": [
    "#튜플1\n",
    "tt = ((1,2,3),(4,5,6),(7,8,9))\n",
    "\n",
    "for i in range(len(tt)):\n",
    "    for k in range(len(tt[i])):\n",
    "        print(tt[i][k], end=' ')\n",
    "    print('')"
   ]
  },
  {
   "cell_type": "code",
   "execution_count": 120,
   "id": "ef79c1ba-6532-4332-92ae-beeb7b2f4ce9",
   "metadata": {},
   "outputs": [
    {
     "name": "stdin",
     "output_type": "stream",
     "text": [
      "단어를 입력하세요:  one\n"
     ]
    },
    {
     "name": "stdout",
     "output_type": "stream",
     "text": [
      "하나\n"
     ]
    }
   ],
   "source": [
    "#실습1\n",
    "\n",
    "word = {'one':'하나',\n",
    "        'two':'둘',\n",
    "        'three':'셋',\n",
    "        'four':'넷',\n",
    "        'five':'다섯'\n",
    "}\n",
    "\n",
    "word_in = input('단어를 입력하세요: ')\n",
    "if word_in in word:\n",
    "    print(word[word_in])"
   ]
  },
  {
   "cell_type": "code",
   "execution_count": 126,
   "id": "07394456-44fe-4145-b676-5db45aacd72f",
   "metadata": {},
   "outputs": [
    {
     "name": "stdin",
     "output_type": "stream",
     "text": [
      "메뉴 하나를 선택하세요 Americano\n",
      "몇 잔을 주문하시겠습니까? 4\n",
      "계속 주문하시겠습니까?(y/n) y\n",
      "메뉴 하나를 선택하세요 Caffe Latte\n",
      "몇 잔을 주문하시겠습니까? 2\n",
      "계속 주문하시겠습니까?(y/n) n\n"
     ]
    },
    {
     "name": "stdout",
     "output_type": "stream",
     "text": [
      "Americano 4개\n",
      "총 가격은 --> 12000\n"
     ]
    },
    {
     "ename": "KeyError",
     "evalue": "'Ice Americano'",
     "output_type": "error",
     "traceback": [
      "\u001b[0;31m---------------------------------------------------------------------------\u001b[0m",
      "\u001b[0;31mKeyError\u001b[0m                                  Traceback (most recent call last)",
      "Cell \u001b[0;32mIn[126], line 18\u001b[0m\n\u001b[1;32m     15\u001b[0m     con \u001b[38;5;241m=\u001b[39m \u001b[38;5;28minput\u001b[39m(\u001b[38;5;124m'\u001b[39m\u001b[38;5;124m계속 주문하시겠습니까?(y/n)\u001b[39m\u001b[38;5;124m'\u001b[39m)\n\u001b[1;32m     17\u001b[0m \u001b[38;5;28;01mfor\u001b[39;00m i \u001b[38;5;129;01min\u001b[39;00m menu:\n\u001b[0;32m---> 18\u001b[0m     \u001b[38;5;28mprint\u001b[39m(\u001b[38;5;124mf\u001b[39m\u001b[38;5;124m'\u001b[39m\u001b[38;5;132;01m{\u001b[39;00mi\u001b[38;5;132;01m}\u001b[39;00m\u001b[38;5;124m \u001b[39m\u001b[38;5;132;01m{\u001b[39;00m\u001b[43mmenu_buy\u001b[49m\u001b[43m[\u001b[49m\u001b[43mi\u001b[49m\u001b[43m]\u001b[49m\u001b[38;5;132;01m}\u001b[39;00m\u001b[38;5;124m개\u001b[39m\u001b[38;5;124m'\u001b[39m)\n\u001b[1;32m     19\u001b[0m     total\u001b[38;5;241m+\u001b[39m\u001b[38;5;241m=\u001b[39mmenu_buy[i]\u001b[38;5;241m*\u001b[39mmenu[i]\n\u001b[1;32m     20\u001b[0m     \u001b[38;5;28mprint\u001b[39m(\u001b[38;5;124mf\u001b[39m\u001b[38;5;124m'\u001b[39m\u001b[38;5;124m총 가격은 --> \u001b[39m\u001b[38;5;132;01m{\u001b[39;00mtotal\u001b[38;5;132;01m}\u001b[39;00m\u001b[38;5;124m'\u001b[39m)\n",
      "\u001b[0;31mKeyError\u001b[0m: 'Ice Americano'"
     ]
    }
   ],
   "source": [
    "menu = {'Americano':3000,\n",
    "        'Ice Americano':3500,\n",
    "        'Cappuccino':4000,\n",
    "        'Caffe Latte':4500,\n",
    "        'Espresso':3600\n",
    "}\n",
    "\n",
    "con='y'\n",
    "total=0\n",
    "menu_buy={}\n",
    "while con=='y':\n",
    "    menu_pick=input('메뉴 하나를 선택하세요')\n",
    "    menu_count=int(input('몇 잔을 주문하시겠습니까?'))\n",
    "    menu_buy[menu_pick]=menu_count\n",
    "    con = input('계속 주문하시겠습니까?(y/n)')\n",
    "\n",
    "for i in menu_buy.keys():\n",
    "    if i in menu:\n",
    "        total += menu"
   ]
  },
  {
   "cell_type": "code",
   "execution_count": null,
   "id": "6e6aa922-9ed7-4662-87cf-59008c838d6f",
   "metadata": {},
   "outputs": [],
   "source": []
  }
 ],
 "metadata": {
  "kernelspec": {
   "display_name": "Python 3 (ipykernel)",
   "language": "python",
   "name": "python3"
  },
  "language_info": {
   "codemirror_mode": {
    "name": "ipython",
    "version": 3
   },
   "file_extension": ".py",
   "mimetype": "text/x-python",
   "name": "python",
   "nbconvert_exporter": "python",
   "pygments_lexer": "ipython3",
   "version": "3.12.5"
  }
 },
 "nbformat": 4,
 "nbformat_minor": 5
}
