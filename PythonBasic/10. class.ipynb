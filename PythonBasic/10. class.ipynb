{
 "cells": [
  {
   "cell_type": "code",
   "execution_count": 15,
   "id": "ac3e4aac-f28d-4bf2-99a6-8d29d53d5ced",
   "metadata": {},
   "outputs": [
    {
     "name": "stdout",
     "output_type": "stream",
     "text": [
      "1\n",
      "2\n",
      "3\n"
     ]
    }
   ],
   "source": [
    "#클래스 생성\n",
    "\n",
    "class Counter:\n",
    "    def __init__(self):\n",
    "        self.count = 0\n",
    "\n",
    "    def increment(self):\n",
    "        self.count += 1\n",
    "\n",
    "a = Counter()\n",
    "\n",
    "a.increment()\n",
    "print(a.count)\n",
    "a.increment()\n",
    "print(a.count)\n",
    "a.increment()\n",
    "print(a.count)"
   ]
  },
  {
   "cell_type": "code",
   "execution_count": 16,
   "id": "740d4605-890c-4dd0-8763-420fadfaf410",
   "metadata": {},
   "outputs": [
    {
     "name": "stdout",
     "output_type": "stream",
     "text": [
      "2\n",
      "5\n",
      "10\n"
     ]
    }
   ],
   "source": [
    "class Counter1:\n",
    "    def __init__(self):\n",
    "        self.count = 0\n",
    "\n",
    "    def increment1(self, num):\n",
    "        self.count += num\n",
    "        return self.count\n",
    "\n",
    "b = Counter1()\n",
    "\n",
    "print(b.increment1(2))\n",
    "print(b.increment1(3))\n",
    "print(b.increment1(5))"
   ]
  },
  {
   "cell_type": "code",
   "execution_count": 26,
   "id": "4b481202-df78-4cea-b064-b0556fb51e9f",
   "metadata": {},
   "outputs": [
    {
     "name": "stdout",
     "output_type": "stream",
     "text": [
      "0\n",
      "1\n",
      "100\n",
      "101\n"
     ]
    }
   ],
   "source": [
    "class Counter2:\n",
    "    def __init__(self, initValue=0):\n",
    "        self.count = initValue\n",
    "\n",
    "    def increment2(self):\n",
    "        self.count += 1\n",
    "\n",
    "a = Counter2()\n",
    "b = Counter2(100)\n",
    "\n",
    "print(a.count)\n",
    "a.increment2()\n",
    "print(a.count)\n",
    "print(b.count)\n",
    "b.increment2()\n",
    "print(b.count)"
   ]
  },
  {
   "cell_type": "code",
   "execution_count": 44,
   "id": "dfa51aa1-c4c8-4ede-a7be-d5de6a596e7d",
   "metadata": {},
   "outputs": [
    {
     "name": "stdout",
     "output_type": "stream",
     "text": [
      "10 55 True\n",
      "15 55 True\n",
      "15 100 True\n"
     ]
    }
   ],
   "source": [
    "class Television:\n",
    "    def __init__(self, channel, volume, on):\n",
    "        self.channel = channel\n",
    "        self.volume = volume\n",
    "        self.on = on\n",
    "\n",
    "    def show(self):\n",
    "        print(self.channel, self.volume, self.on)\n",
    "\n",
    "    def setchannel(self, channel):\n",
    "        self.channel = channel\n",
    "        return self.channel\n",
    "    \n",
    "    def setvolume(self, volume):\n",
    "        self.volume = volume\n",
    "        return self.volume\n",
    "\n",
    "t = Television(10,55,True)\n",
    "\n",
    "t.show()\n",
    "\n",
    "t.setchannel(15)\n",
    "t.show()\n",
    "\n",
    "t.setvolume(100)\n",
    "t.show()"
   ]
  },
  {
   "cell_type": "code",
   "execution_count": 40,
   "id": "5084a797-9181-412b-93e1-2a141f9683fb",
   "metadata": {},
   "outputs": [
    {
     "name": "stdout",
     "output_type": "stream",
     "text": [
      "자동차1의 색상은 red이며, 현재 속도는 100km 입니다.\n",
      "자동차2의 색상은 red이며, 현재 속도는 0km 입니다.\n"
     ]
    }
   ],
   "source": [
    "#16p\n",
    "\n",
    "class Car:\n",
    "    def __init__(self,speed=0,color='red'):\n",
    "        self.color = color\n",
    "        self.speed = speed\n",
    "\n",
    "    def upSpeed(self, speed):\n",
    "        self.speed += speed\n",
    "        return self.speed\n",
    "        \n",
    "    def downSpeed(self, speed):\n",
    "        self.speed -= speed\n",
    "        return self.speed\n",
    "        \n",
    "myCar1 = Car()\n",
    "myCar2 = Car()\n",
    "\n",
    "myCar1.upSpeed(100)\n",
    "\n",
    "print(f'자동차1의 색상은 {myCar1.color}이며, 현재 속도는 {myCar1.speed}km 입니다.')\n",
    "print(f'자동차2의 색상은 {myCar2.color}이며, 현재 속도는 {myCar2.speed}km 입니다.')"
   ]
  },
  {
   "cell_type": "code",
   "execution_count": 1,
   "id": "040bfb92-843b-4853-90f5-f09252249243",
   "metadata": {},
   "outputs": [
    {
     "name": "stdout",
     "output_type": "stream",
     "text": [
      "원의 면적 314.0\n",
      "원의 둘레 62.800000000000004\n"
     ]
    }
   ],
   "source": [
    "#실습1\n",
    "class Circle:\n",
    "    def __init__(self, r=0):\n",
    "        self.r = r\n",
    "\n",
    "    def getArea(self, r):\n",
    "        return 3.14*(r**2)\n",
    "\n",
    "    def getPrimetaer(self, r):\n",
    "        return 2*r*3.14\n",
    "        \n",
    "\n",
    "c = Circle(10)\n",
    "\n",
    "print('원의 면적 %.1f' %c.getArea(10))\n",
    "print('원의 둘레 %.15f' %c.getPrimetaer(10))"
   ]
  },
  {
   "cell_type": "code",
   "execution_count": null,
   "id": "9a0203d8-77a1-4872-96e3-16c2a27b474c",
   "metadata": {},
   "outputs": [],
   "source": []
  }
 ],
 "metadata": {
  "kernelspec": {
   "display_name": "Python 3 (ipykernel)",
   "language": "python",
   "name": "python3"
  },
  "language_info": {
   "codemirror_mode": {
    "name": "ipython",
    "version": 3
   },
   "file_extension": ".py",
   "mimetype": "text/x-python",
   "name": "python",
   "nbconvert_exporter": "python",
   "pygments_lexer": "ipython3",
   "version": "3.12.5"
  }
 },
 "nbformat": 4,
 "nbformat_minor": 5
}
