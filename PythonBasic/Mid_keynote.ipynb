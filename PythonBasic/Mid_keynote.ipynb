{
 "cells": [
  {
   "cell_type": "code",
   "execution_count": 12,
   "id": "1256324e-7e20-4e41-a41a-fff2b5a5615a",
   "metadata": {},
   "outputs": [],
   "source": [
    "###2장_변수###\n",
    "\n",
    "#다양한 타입의 변수\n",
    "a = 3 #int(integer):정수\n",
    "b = 2.4 #float:소수\n",
    "c = \"234\" #str(string):문자열\n",
    "d = True #bool(boolean):논리형\n",
    "e = [1,2,3,\"파이썬\"] #list, 데이터 변경 가능\n",
    "f = (1,2,3,\"파이썬\") #tuple, 데이터 변결 불가능 ex) f[3] = 4 <-- 에러남\n",
    "g = {1:\"A\", \"나라\":\"B\"} #dictionary\n",
    "h = {1,2,3,\"파이썬\"} #set:집합"
   ]
  },
  {
   "cell_type": "code",
   "execution_count": 13,
   "id": "3bbaa314-2d0e-4404-83a1-b4e5d3c5fe98",
   "metadata": {},
   "outputs": [
    {
     "name": "stdout",
     "output_type": "stream",
     "text": [
      "안녕하세요\n",
      "저는 숭실대학교 사학과 1학년 입니다.\n"
     ]
    }
   ],
   "source": [
    "#실습 1\n",
    "hello = \"안녕하세요\"\n",
    "print(hello)\n",
    "\n",
    "university = \"숭실대학교\"\n",
    "grade = 1\n",
    "department = \"사학과\"\n",
    "print(\"저는 %s %s %d학년 입니다.\" %(university, department, grade))"
   ]
  },
  {
   "cell_type": "code",
   "execution_count": 14,
   "id": "ca16eaea-3610-4aed-8419-a5312f89f9b3",
   "metadata": {},
   "outputs": [
    {
     "name": "stdin",
     "output_type": "stream",
     "text": [
      "이름을 입력하세요. 이현진\n"
     ]
    },
    {
     "name": "stdout",
     "output_type": "stream",
     "text": [
      "이현진 님 한영합니다.\n"
     ]
    },
    {
     "name": "stdin",
     "output_type": "stream",
     "text": [
      "설별을 입력하세요. 남성\n",
      "학번을 입력하세요. 20242130\n"
     ]
    },
    {
     "name": "stdout",
     "output_type": "stream",
     "text": [
      "이현진 님의 성별은 남성\n",
      "이현진 님의 학번은 20242130 입니다.\n"
     ]
    }
   ],
   "source": [
    "#실습 2\n",
    "name=input(\"이름을 입력하세요.\")\n",
    "print(\"%s 님 한영합니다.\" %name)\n",
    "gender = input(\"성별을 입력하세요.\")\n",
    "student_num = int(input(\"학번을 입력하세요.\"))\n",
    "print(\"%s 님의 성별은 %s\\n%s 님의 학번은 %d 입니다.\" %(name, gender, name, student_num))`"
   ]
  },
  {
   "cell_type": "code",
   "execution_count": 15,
   "id": "1bef3bbf-9960-4eab-8cab-52190cb102b8",
   "metadata": {},
   "outputs": [
    {
     "name": "stdout",
     "output_type": "stream",
     "text": [
      "택배 배송을 위한 정보를 입력하세요.\n"
     ]
    },
    {
     "name": "stdin",
     "output_type": "stream",
     "text": [
      "1) 받는 분 이름: 1\n",
      "2) 받는 분 연락처: 2\n",
      "3) 받는 분 주소: 3\n",
      "4) 배송 메시지: 4\n"
     ]
    },
    {
     "name": "stdout",
     "output_type": "stream",
     "text": [
      "\n",
      "아래 정보로 배송하겠습니다.\n",
      "======================================================\n",
      "-받는 분 이름: 1\n",
      "-받는 분 연락처: 2\n",
      "-받는 분 주소: 3\n",
      "-배송 메시지: 4\n",
      "======================================================\n"
     ]
    }
   ],
   "source": [
    "#연습\n",
    "print(\"택배 배송을 위한 정보를 입력하세요.\")\n",
    "name=input(\"1) 받는 분 이름:\")\n",
    "num=input(\"2) 받는 분 연락처:\")\n",
    "address=input(\"3) 받는 분 주소:\")\n",
    "messege=input(\"4) 배송 메시지:\")\n",
    "\n",
    "print(\"\\n아래 정보로 배송하겠습니다.\")\n",
    "print(\"======================================================\")\n",
    "print(\"-받는 분 이름: %s\" %name)\n",
    "print(\"-받는 분 연락처: %s\" %num)\n",
    "print(\"-받는 분 주소: %s\" %address)\n",
    "print(\"-배송 메시지: %s\" %messege)\n",
    "print(\"======================================================\")"
   ]
  },
  {
   "cell_type": "code",
   "execution_count": 17,
   "id": "09be35af-e0ab-4056-ae2a-0f9a26bba6e7",
   "metadata": {},
   "outputs": [
    {
     "name": "stdout",
     "output_type": "stream",
     "text": [
      "집에가고싶\n",
      "어집에가고\n",
      "싶어집에가\n",
      "고싶어집에\n",
      "가고싶어집\n",
      "에가고싶어\n",
      "\n"
     ]
    }
   ],
   "source": [
    "###3장_문자열###\n",
    "#문자열\n",
    "text = '''집에가고싶\n",
    "어집에가고\n",
    "싶어집에가\n",
    "고싶어집에\n",
    "가고싶어집\n",
    "에가고싶어\n",
    "'''\n",
    "print(text)"
   ]
  },
  {
   "cell_type": "code",
   "execution_count": 18,
   "id": "3d17c34b-0c79-42b3-9e24-fb307dcea9bb",
   "metadata": {},
   "outputs": [
    {
     "name": "stdout",
     "output_type": "stream",
     "text": [
      "집에가고싶어, 제발 집에 보내주세요\n"
     ]
    }
   ],
   "source": [
    "#문자열 연결\n",
    "home = \"집에가고싶어\"\n",
    "finish = home + \", 제발 집에 보내주세요\"\n",
    "print(finish)"
   ]
  },
  {
   "cell_type": "code",
   "execution_count": 23,
   "id": "34b2c531-0814-432b-8bc8-88e430e50af1",
   "metadata": {},
   "outputs": [
    {
     "name": "stdout",
     "output_type": "stream",
     "text": [
      "6\n",
      "60\n",
      "집에가고싶어집에가고싶어집에가고싶어집에가고싶어집에가고싶어집에가고싶어집에가고싶어집에가고싶어집에가고싶어집에가고싶어\n"
     ]
    }
   ],
   "source": [
    "#문자열 반복\n",
    "home = \"집에가고싶어\"\n",
    "print(len(home))\n",
    "finish = home*10\n",
    "print(len(finish))\n",
    "print(finish)"
   ]
  },
  {
   "cell_type": "code",
   "execution_count": 26,
   "id": "5747173b-0936-4484-8fec-fbd67ee405f6",
   "metadata": {},
   "outputs": [
    {
     "name": "stdout",
     "output_type": "stream",
     "text": [
      "PYTHON\n",
      "python\n",
      "P-y-t-h-o-n\n",
      "Python\n"
     ]
    }
   ],
   "source": [
    "#문자열 매소드\n",
    "word = 'Python'\n",
    "print(word.upper())\n",
    "print(word.lower())\n",
    "print('-'.join(word))\n",
    "print(word)"
   ]
  },
  {
   "cell_type": "code",
   "execution_count": 33,
   "id": "5aac2c0b-7d74-4555-b029-f6323e38d93b",
   "metadata": {},
   "outputs": [
    {
     "name": "stdout",
     "output_type": "stream",
     "text": [
      "     6789십\n",
      "12345     \n",
      "5.12346\n"
     ]
    }
   ],
   "source": [
    "#문자열 형식화\n",
    "print(\"%10s\" %\"6789십\")\n",
    "print(\"%-10d\" %12345)\n",
    "print(\"%.5f\" % 5.123456789)"
   ]
  },
  {
   "cell_type": "code",
   "execution_count": null,
   "id": "6a45ee83-4852-48e8-b78c-5c3e508280c1",
   "metadata": {},
   "outputs": [],
   "source": []
  },
  {
   "cell_type": "code",
   "execution_count": 67,
   "id": "a46baec9-f74d-462b-8240-97e906eb83da",
   "metadata": {},
   "outputs": [
    {
     "name": "stdout",
     "output_type": "stream",
     "text": [
      "123.450000\n",
      "  123.5\n"
     ]
    }
   ],
   "source": [
    "print('%f' %123.45)\n",
    "print('%7.1f' %123.45)"
   ]
  },
  {
   "cell_type": "code",
   "execution_count": 2,
   "id": "c1fc9e1d-6e47-48a6-8bed-aaacdee40438",
   "metadata": {},
   "outputs": [
    {
     "name": "stdout",
     "output_type": "stream",
     "text": [
      "100   300 00200\n",
      "100 200 300\n"
     ]
    }
   ],
   "source": [
    "#print()함수를 사용한 다양한 출력: format()함수\n",
    "print(\"{0:d} {1:5d} {2:05d}\" .format(100,300,200))\n",
    "\n",
    "print(\"{2:d} {1:d} {0:d}\" .format(300, 200, 100))"
   ]
  },
  {
   "cell_type": "code",
   "execution_count": 3,
   "id": "d11efe76-2aff-4afb-a7e4-214e42c79f56",
   "metadata": {},
   "outputs": [
    {
     "name": "stdout",
     "output_type": "stream",
     "text": [
      "안녕, 내 이름은 이민희야. 난 지모고 97세 틀복치야~!\n"
     ]
    }
   ],
   "source": [
    "#print()함수를 사용한 다양한 출력: f-string\n",
    "name = '이민희'\n",
    "age = 97\n",
    "print(f\"안녕, 내 이름은 {name}야. 난 지모고 {age}세 틀복치야~!\")"
   ]
  },
  {
   "cell_type": "code",
   "execution_count": 5,
   "id": "f0f0e5cb-663d-47f5-ad49-35ca99305624",
   "metadata": {},
   "outputs": [
    {
     "name": "stdout",
     "output_type": "stream",
     "text": [
      "오늘은 좋은날\n",
      "아자아자아자\n",
      "뽀롱 뽀롱 뽀롱 뽀로로\n"
     ]
    }
   ],
   "source": [
    "#실습 1\n",
    "print(\"오늘은 \"+\"좋은날\")\n",
    "print(\"아자\"*3)\n",
    "print(\"뽀롱 \"*3+\"뽀로로\")"
   ]
  },
  {
   "cell_type": "code",
   "execution_count": 16,
   "id": "0d66c449-5f5f-41d3-a1a4-cd99844857c2",
   "metadata": {},
   "outputs": [
    {
     "name": "stdout",
     "output_type": "stream",
     "text": [
      "pi값(소수 둘째자리까지 반올림): 3.15\n",
      "pi값(소수 둘째자리까지 반올림): 3.15\n",
      "pi값(소수 둘째자리까지 반올림): 3.15\n"
     ]
    }
   ],
   "source": [
    "#실습 2\n",
    "pi = 3.14959\n",
    "print(\"pi값(소수 둘째자리까지 반올림): %.2f\" %pi)\n",
    "print(\"pi값(소수 둘째자리까지 반올림): {:.2f}\".format(pi))\n",
    "print(f\"pi값(소수 둘째자리까지 반올림): {pi:.2f}\")"
   ]
  },
  {
   "cell_type": "code",
   "execution_count": 19,
   "id": "cd824f10-0ea8-4a65-9969-f96127c3a824",
   "metadata": {},
   "outputs": [
    {
     "name": "stdout",
     "output_type": "stream",
     "text": [
      "she said, \"Hellp!\"\n",
      "she said, \"Hellp!\"\n",
      "This is a backslash: \\\n",
      "노는 게 제일 좋아 \n",
      "친구들 모여라 \n",
      "언제나 즐거워 \n",
      "개구쟁이 뽀로로\n"
     ]
    }
   ],
   "source": [
    "#실습 3\n",
    "print('she said, \"Hellp!\"')\n",
    "print(\"she said, \\\"Hellp!\\\"\")\n",
    "\n",
    "print(\"This is a backslash: \\\\\")\n",
    "\n",
    "print(\"노는 게 제일 좋아 \\n친구들 모여라 \\n언제나 즐거워 \\n개구쟁이 뽀로로\")"
   ]
  },
  {
   "cell_type": "code",
   "execution_count": 69,
   "id": "775ca758-700a-470d-9e1c-1d45e5ccd7ec",
   "metadata": {},
   "outputs": [
    {
     "data": {
      "text/plain": [
       "-21"
      ]
     },
     "execution_count": 69,
     "metadata": {},
     "output_type": "execute_result"
    }
   ],
   "source": [
    "x,y=-1,3\n",
    "(-1*y)**3+2*x**2*y"
   ]
  },
  {
   "cell_type": "code",
   "execution_count": 21,
   "id": "41eec205-6f8c-4ab6-afd8-d73a8f80640d",
   "metadata": {},
   "outputs": [],
   "source": [
    "###4장_숫자타입과연산자###\n",
    "#산술 연산자\n",
    "a,b = 10, 20 # 동시에 대입"
   ]
  },
  {
   "cell_type": "code",
   "execution_count": 22,
   "id": "a677dbe7-5cb1-4ed8-803a-6888fbabc0a9",
   "metadata": {},
   "outputs": [],
   "source": [
    "#산술 연산자\n",
    "a=10; b=20 #순차적으로 대입\n",
    "\n",
    "a=10\n",
    "b=20"
   ]
  },
  {
   "cell_type": "code",
   "execution_count": null,
   "id": "5408838b-5eb6-4b42-ad21-e6242d9244b1",
   "metadata": {},
   "outputs": [],
   "source": []
  },
  {
   "cell_type": "code",
   "execution_count": 27,
   "id": "b14163b5-5ea0-4035-b62d-27e5e85b4392",
   "metadata": {},
   "outputs": [
    {
     "name": "stdout",
     "output_type": "stream",
     "text": [
      "1001 = 1001\n",
      "100.1231\n",
      "400\n"
     ]
    }
   ],
   "source": [
    "#산술 연산자: 데이터 타입 변경\n",
    "a = 100; b = 100.123\n",
    "print(str(a) + \"1 = 1001\")\n",
    "print(str(b) + \"1\")\n",
    "\n",
    "c = \"300\"\n",
    "print(a + int(c))"
   ]
  },
  {
   "cell_type": "code",
   "execution_count": 29,
   "id": "977ef9c3-f42c-4c41-b254-9bfc3aadc72e",
   "metadata": {},
   "outputs": [
    {
     "name": "stdout",
     "output_type": "stream",
     "text": [
      "32\n",
      "1\n"
     ]
    }
   ],
   "source": [
    "#실습 2(대충)\n",
    "print(97 // 3)\n",
    "print(97%3)"
   ]
  },
  {
   "cell_type": "code",
   "execution_count": 32,
   "id": "0c83281f-8cc6-4fe1-8e6e-5534a44ec6d3",
   "metadata": {},
   "outputs": [
    {
     "name": "stdin",
     "output_type": "stream",
     "text": [
      "교환할 금액을 입력하세요:  7777\n"
     ]
    },
    {
     "name": "stdout",
     "output_type": "stream",
     "text": [
      "500원 짜리 15 개\n",
      "100원 짜리 2 개\n",
      "50원 짜리 1 개\n",
      "10원 짜리 2 개\n",
      "나머지 7 원\n"
     ]
    }
   ],
   "source": [
    "#실습 5(개인)\n",
    "exchange=int(input(\"교환할 금액을 입력하세요: \"))\n",
    "print(f\"500원 짜리 {exchange//500} 개\")\n",
    "exchange-=exchange//500*500\n",
    "print(f\"100원 짜리 {exchange//100} 개\")\n",
    "exchange-=exchange//100*100\n",
    "print(f\"50원 짜리 {exchange//50} 개\")\n",
    "exchange-=exchange//50*50\n",
    "print(f\"10원 짜리 {exchange//10} 개\")\n",
    "exchange-=exchange//10*10\n",
    "print(f\"나머지 {exchange} 원\")"
   ]
  },
  {
   "cell_type": "code",
   "execution_count": 33,
   "id": "0fbdadcb-12d9-4be7-a751-74d83fdaf9a8",
   "metadata": {},
   "outputs": [
    {
     "name": "stdin",
     "output_type": "stream",
     "text": [
      "교환할 금액을 입력하세요:  7777\n"
     ]
    },
    {
     "name": "stdout",
     "output_type": "stream",
     "text": [
      "500원 짜리 15개\n",
      "100원 짜리 2개\n",
      "50원 짜리 1개\n",
      "10원 짜리 2개\n",
      "나머지 7 원\n"
     ]
    }
   ],
   "source": [
    "#실습 5(수업)\n",
    "money = int(input(\"교환할 금액을 입력하세요: \"))\n",
    "print(\"500원 짜리 %d개\" %(money//500))\n",
    "money %= 500\n",
    "print(\"100원 짜리 %d개\" %(money//100))\n",
    "money %= 100\n",
    "print(\"50원 짜리 %d개\" %(money//50))\n",
    "money %= 50\n",
    "print(\"10원 짜리 %d개\" %(money//10))\n",
    "money %= 10\n",
    "print(\"나머지\",money,\"원\")"
   ]
  },
  {
   "cell_type": "code",
   "execution_count": 68,
   "id": "68e3a2e5-5275-4202-a59f-e937f4038a17",
   "metadata": {},
   "outputs": [
    {
     "data": {
      "text/plain": [
       "True"
      ]
     },
     "execution_count": 68,
     "metadata": {},
     "output_type": "execute_result"
    }
   ],
   "source": [
    "#실습 6\n",
    "(10 > -10) and (3.14 > 0) or (-1 == 0) #True and True or False --> True"
   ]
  },
  {
   "cell_type": "code",
   "execution_count": 70,
   "id": "0ea0788d-fc0f-4ed1-9acd-c68c3a94f7d3",
   "metadata": {},
   "outputs": [
    {
     "name": "stdin",
     "output_type": "stream",
     "text": [
      "개찰구로 이동?(y/n) n\n"
     ]
    },
    {
     "name": "stdout",
     "output_type": "stream",
     "text": [
      "역 앞 대기\n"
     ]
    }
   ],
   "source": [
    "###5장_조건문###\n",
    "#알고리즘의 표현: 의사코드\n",
    "walk=input(\"개찰구로 이동?(y/n)\")\n",
    "if walk == \"y\":\n",
    "    tag = input(\"교통카드 태그?(y/n)\")\n",
    "    if tag == \"y\":\n",
    "        print(\"개찰구 통과\")\n",
    "    elif tag == \"n\":\n",
    "        card = input(\"일회용 교통카드 발급?(y/n)\")\n",
    "        if card == \"y\":\n",
    "            print(\"카드 겟\")\n",
    "        elif card == \"n\":\n",
    "            print(\"개찰구 앞 대기\")\n",
    "        else :\n",
    "            print(\"ㅋ\")\n",
    "    else :\n",
    "        print(\"ㅋ\")\n",
    "elif walk == \"n\":\n",
    "    print(\"역 앞 대기\")\n",
    "else :\n",
    "    print(\"ㅋ\")"
   ]
  },
  {
   "cell_type": "code",
   "execution_count": 74,
   "id": "12442e43-71d1-4869-9afd-5e68eaa0065f",
   "metadata": {},
   "outputs": [
    {
     "name": "stdin",
     "output_type": "stream",
     "text": [
      "비번 입력:  0610\n"
     ]
    },
    {
     "name": "stdout",
     "output_type": "stream",
     "text": [
      "ok\n"
     ]
    }
   ],
   "source": [
    "pw = input('비번 입력: ')\n",
    "\n",
    "if pw=='0610':\n",
    "    print('ok')"
   ]
  },
  {
   "cell_type": "code",
   "execution_count": 80,
   "id": "064b9e8c-0f21-483e-9cde-18e0462b70e7",
   "metadata": {},
   "outputs": [
    {
     "data": {
      "text/plain": [
       "'Turn on'"
      ]
     },
     "execution_count": 80,
     "metadata": {},
     "output_type": "execute_result"
    }
   ],
   "source": [
    "current = 50\n",
    "target = 60\n",
    "\n",
    "result = \"Turn on\" if current < target else \"Turn off\"\n",
    "result"
   ]
  },
  {
   "cell_type": "code",
   "execution_count": 83,
   "id": "0f0ae51a-6a8b-49e9-8148-96468615111e",
   "metadata": {},
   "outputs": [
    {
     "name": "stdin",
     "output_type": "stream",
     "text": [
      "연산자를 고르세요\n",
      "1: 덧셈, 2: 뺄셈, 3: 곱셈, 4: 나눗셈\n",
      " 3\n",
      "숫자1:  4\n",
      "숫자2:  5\n"
     ]
    },
    {
     "name": "stdout",
     "output_type": "stream",
     "text": [
      "20\n"
     ]
    }
   ],
   "source": [
    "a1=int(input('연산자를 고르세요\\n1: 덧셈, 2: 뺄셈, 3: 곱셈, 4: 나눗셈\\n'))\n",
    "b1=int(input('숫자1: '))\n",
    "b2=int(input('숫자2: '))\n",
    "if a1 == 1:\n",
    "    print(b1+b2)\n",
    "elif a1 == 2:\n",
    "    print(b1-b2)\n",
    "elif a1 == 3:\n",
    "    print(b1*b2)\n",
    "elif a1 == 4:\n",
    "    print(b1/b2)\n",
    "else:\n",
    "    print('오류')\n"
   ]
  },
  {
   "cell_type": "code",
   "execution_count": 45,
   "id": "10a79e5f-5356-4b00-b2fb-28ae161cecb5",
   "metadata": {},
   "outputs": [
    {
     "name": "stdout",
     "output_type": "stream",
     "text": [
      "는\n",
      "['a', 'b', 'c']\n",
      "['a', 'b', 'c']\n",
      "[2, 3]\n"
     ]
    }
   ],
   "source": [
    "##7장_리스트###\n",
    "cc = ['파이썬', '공부는', '꿀잼']\n",
    "cc\n",
    "print(cc[1][2])\n",
    "\n",
    "ee = [1,2,3,['a','b','c']]\n",
    "\n",
    "print(ee[3])\n",
    "print(ee[-1])\n",
    "print(ee[1:3])"
   ]
  },
  {
   "cell_type": "code",
   "execution_count": 98,
   "id": "ffc32294-9d8e-44e4-8455-32802599bac9",
   "metadata": {},
   "outputs": [
    {
     "name": "stdout",
     "output_type": "stream",
     "text": [
      "[20, 30, 40, 50]\n",
      "[70, 80]\n",
      "[10, 30, 50]\n",
      "[80, 70, 60, 50, 40, 30, 20, 10]\n",
      "[70, 80, 10, 20, 30, 40, 50, 60]\n",
      "[30, 40, 50, 60]\n",
      "[]\n",
      "[70, 60, 50, 40]\n",
      "[]\n"
     ]
    }
   ],
   "source": [
    "#실습 1\n",
    "a_list=[10,20,30,40,50,60,70,80]\n",
    "print(a_list[1:5])\n",
    "print(a_list[-2:])\n",
    "print(a_list[0:5:2])\n",
    "print(a_list[::-1])\n",
    "print(a_list[-2:]+  a_list[:-2])\n",
    "print(a_list[-6:-2])\n",
    "print(a_list[-2:-6])\n",
    "print(a_list[-2:-6:-1])\n",
    "print(a_list[-6:-2:-1])"
   ]
  },
  {
   "cell_type": "code",
   "execution_count": 62,
   "id": "4c1fb68c-4270-4f5a-ae7c-5c05f606fbaf",
   "metadata": {},
   "outputs": [
    {
     "name": "stdout",
     "output_type": "stream",
     "text": [
      "[5, 6]\n",
      "[9, 8, 7, 6, 5, 4]\n",
      "[7, 8, 9]\n"
     ]
    },
    {
     "data": {
      "text/plain": [
       "[4, 5, 6, 9, 8, 7]"
      ]
     },
     "execution_count": 62,
     "metadata": {},
     "output_type": "execute_result"
    }
   ],
   "source": [
    "#실습 2\n",
    "number = [4,5,6,7,8,9]\n",
    "\n",
    "print(number[1:3])\n",
    "print(number[::-1])\n",
    "print(number[-3:])\n",
    "number[:3]+number[-1:-4:-1]"
   ]
  },
  {
   "cell_type": "code",
   "execution_count": 72,
   "id": "0ddf5656-745c-4f8a-bdbe-ee8abcb8aba8",
   "metadata": {},
   "outputs": [
    {
     "name": "stdin",
     "output_type": "stream",
     "text": [
      "1번째 숫자:  1\n",
      "2번째 숫자:  2\n",
      "3번째 숫자:  3\n",
      "4번째 숫자:  4\n"
     ]
    },
    {
     "name": "stdout",
     "output_type": "stream",
     "text": [
      "합계 -> 10\n"
     ]
    }
   ],
   "source": [
    "#값을 바꿀 수 있는 리스트\n",
    "aa = []\n",
    "for i in range(0,4):\n",
    "    aa.append(0)\n",
    "aa\n",
    "\n",
    "hap=0\n",
    "for k in range(0,4):\n",
    "    aa[k] = int(input(str(k+1)+\"번째 숫자: \"))\n",
    "\n",
    "for h in aa:\n",
    "    hap += h\n",
    "print(\"합계 -> %d\" %hap)"
   ]
  },
  {
   "cell_type": "code",
   "execution_count": 80,
   "id": "caf3182e-b038-4752-9872-038f4442a179",
   "metadata": {},
   "outputs": [
    {
     "name": "stdout",
     "output_type": "stream",
     "text": [
      "3 * 2 =  6\n",
      "3 * 3 =  9\n",
      "3 * 4 = 12\n",
      "3 * 5 = 15\n",
      "3 * 6 = 18\n",
      "5 * 2 = 10\n",
      "5 * 3 = 15\n",
      "5 * 4 = 20\n",
      "5 * 5 = 25\n",
      "5 * 6 = 30\n",
      "7 * 2 = 14\n",
      "7 * 3 = 21\n",
      "7 * 4 = 28\n",
      "7 * 5 = 35\n",
      "7 * 6 = 42\n"
     ]
    }
   ],
   "source": [
    "#실습 3\n",
    "list1 = [3,5,7]\n",
    "list2 = [2,3,4,5,6]\n",
    "\n",
    "for i in list1:\n",
    "    for k in list2:\n",
    "        print(\"%d * %d = %2d\" %(i,k,i*k))"
   ]
  },
  {
   "cell_type": "code",
   "execution_count": 85,
   "id": "2490cb54-72c9-493c-9f45-bc2190dd7d79",
   "metadata": {},
   "outputs": [
    {
     "name": "stdin",
     "output_type": "stream",
     "text": [
      "1번째 숫자:  1\n",
      "2번째 숫자:  2\n",
      "3번째 숫자:  3\n",
      "4번째 숫자:  4\n",
      "5번째 숫자:  5\n",
      "6번째 숫자:  6\n",
      "7번째 숫자:  7\n",
      "8번째 숫자:  8\n",
      "9번째 숫자:  9\n",
      "10번째 숫자:  10\n"
     ]
    },
    {
     "name": "stdout",
     "output_type": "stream",
     "text": [
      "합계 -> 55\n"
     ]
    }
   ],
   "source": [
    "aa = []\n",
    "total = 0\n",
    "i = 0\n",
    "k = 0\n",
    "h = 0\n",
    "while k < 10:\n",
    "    aa.append(0)\n",
    "    k += 1\n",
    "\n",
    "while i < 10:\n",
    "    aa[i] = int(input(str(i+1)+\"번째 숫자: \"))\n",
    "    i += 1\n",
    "\n",
    "while h < 10:\n",
    "    total += aa[h]\n",
    "    h += 1\n",
    "\n",
    "print(\"합계 -> %d\" %total)"
   ]
  },
  {
   "cell_type": "code",
   "execution_count": 88,
   "id": "5c2cd4a2-6bea-46cb-b16a-b544880f7ddd",
   "metadata": {},
   "outputs": [
    {
     "name": "stdout",
     "output_type": "stream",
     "text": [
      "20\n",
      "[20]\n",
      "[10, [101, 202], 30]\n",
      "[10, 101, 202, 30]\n"
     ]
    }
   ],
   "source": [
    "#차이!\n",
    "aa = [10,20,30]\n",
    "bb = [10,20,30]\n",
    "print(aa[1])\n",
    "\n",
    "print(aa[1:2])\n",
    "\n",
    "aa[1]=[101,202]\n",
    "print(aa)\n",
    "\n",
    "bb[1:2]=[101,202]\n",
    "print(bb)"
   ]
  },
  {
   "cell_type": "code",
   "execution_count": 8,
   "id": "f962d1de-aafd-4ca9-a4cc-aab361b36836",
   "metadata": {},
   "outputs": [
    {
     "name": "stdin",
     "output_type": "stream",
     "text": [
      "1: 좋아하는 과일을 입력하세요:  바나나\n",
      "2: 좋아하는 과일을 입력하세요:  딸기\n",
      "3: 좋아하는 과일을 입력하세요:  포도\n"
     ]
    },
    {
     "name": "stdout",
     "output_type": "stream",
     "text": [
      "당신이 좋아하는 과일은 ['바나나', '딸기', '포도'] 입니다\n"
     ]
    }
   ],
   "source": [
    "#실습 4\n",
    "fruit=[]\n",
    "k=0\n",
    "while k < 3:\n",
    "    fruit.append(0)\n",
    "    k += 1\n",
    "\n",
    "print(\"한번에 하나씩 총 3개 좋아하는 과일을 입력하세요.\")\n",
    "\n",
    "for i in range(3):\n",
    "    fruit[i]=input(\"%d: 좋아하는 과일을 입력하세요: \" %(i+1))\n",
    "\n",
    "print(\"당신이 좋아하는 과일은 %s 입니다\" %fruit)"
   ]
  },
  {
   "cell_type": "code",
   "execution_count": 2,
   "id": "7700ac93-1c0d-4eb5-92d3-92cc6aa6a09b",
   "metadata": {},
   "outputs": [
    {
     "name": "stdout",
     "output_type": "stream",
     "text": [
      "한번에 하나씩 총 3개 좋아하는 과일을 입력하세요.\n"
     ]
    },
    {
     "name": "stdin",
     "output_type": "stream",
     "text": [
      "1: 좋아하는 과일을 입력하세요:  바나나\n",
      "2: 좋아하는 과일을 입력하세요:  딸기\n",
      "3: 좋아하는 과일을 입력하세요:  포도\n"
     ]
    },
    {
     "name": "stdout",
     "output_type": "stream",
     "text": [
      "당신이 좋아하는 과일은 ['바나나', '딸기', '포도'] 입니다\n"
     ]
    }
   ],
   "source": [
    "fruits=[]\n",
    "print(\"한번에 하나씩 총 3개 좋아하는 과일을 입력하세요.\")\n",
    "\n",
    "for i in range(3):\n",
    "    fruit= input(\"%d: 좋아하는 과일을 입력하세요: \" %(i+1))\n",
    "    fruits.append(fruit)\n",
    "\n",
    "print(\"당신이 좋아하는 과일은 %s 입니다\" %fruits)"
   ]
  },
  {
   "cell_type": "code",
   "execution_count": 17,
   "id": "a76e4d0b-f259-4928-99ac-302d5f18d507",
   "metadata": {},
   "outputs": [
    {
     "name": "stdout",
     "output_type": "stream",
     "text": [
      "[1, 2, 4, 6, 3, 5, 7, 8]\n"
     ]
    }
   ],
   "source": [
    "a = [1,2,4,6]\n",
    "\n",
    "b = [3,5,7,8]\n",
    "\n",
    "c = a + b\n",
    "print(c)\n",
    "c.remove(3)"
   ]
  },
  {
   "cell_type": "code",
   "execution_count": 18,
   "id": "79b1b985-c05f-4e92-add8-f86d48af9c09",
   "metadata": {},
   "outputs": [
    {
     "name": "stdout",
     "output_type": "stream",
     "text": [
      "플랙+미트볼+양상추+마요네즈\n",
      "플랙+미트볼+양상추+케찹\n",
      "플랙+미트볼+양상추+칠리\n",
      "플랙+미트볼+토미토+마요네즈\n",
      "플랙+미트볼+토미토+케찹\n",
      "플랙+미트볼+토미토+칠리\n",
      "플랙+미트볼+오이+마요네즈\n",
      "플랙+미트볼+오이+케찹\n",
      "플랙+미트볼+오이+칠리\n",
      "플랙+소시지+양상추+마요네즈\n",
      "플랙+소시지+양상추+케찹\n",
      "플랙+소시지+양상추+칠리\n",
      "플랙+소시지+토미토+마요네즈\n",
      "플랙+소시지+토미토+케찹\n",
      "플랙+소시지+토미토+칠리\n",
      "플랙+소시지+오이+마요네즈\n",
      "플랙+소시지+오이+케찹\n",
      "플랙+소시지+오이+칠리\n",
      "플랙+닭가슴살+양상추+마요네즈\n",
      "플랙+닭가슴살+양상추+케찹\n",
      "플랙+닭가슴살+양상추+칠리\n",
      "플랙+닭가슴살+토미토+마요네즈\n",
      "플랙+닭가슴살+토미토+케찹\n",
      "플랙+닭가슴살+토미토+칠리\n",
      "플랙+닭가슴살+오이+마요네즈\n",
      "플랙+닭가슴살+오이+케찹\n",
      "플랙+닭가슴살+오이+칠리\n",
      "위트+미트볼+양상추+마요네즈\n",
      "위트+미트볼+양상추+케찹\n",
      "위트+미트볼+양상추+칠리\n",
      "위트+미트볼+토미토+마요네즈\n",
      "위트+미트볼+토미토+케찹\n",
      "위트+미트볼+토미토+칠리\n",
      "위트+미트볼+오이+마요네즈\n",
      "위트+미트볼+오이+케찹\n",
      "위트+미트볼+오이+칠리\n",
      "위트+소시지+양상추+마요네즈\n",
      "위트+소시지+양상추+케찹\n",
      "위트+소시지+양상추+칠리\n",
      "위트+소시지+토미토+마요네즈\n",
      "위트+소시지+토미토+케찹\n",
      "위트+소시지+토미토+칠리\n",
      "위트+소시지+오이+마요네즈\n",
      "위트+소시지+오이+케찹\n",
      "위트+소시지+오이+칠리\n",
      "위트+닭가슴살+양상추+마요네즈\n",
      "위트+닭가슴살+양상추+케찹\n",
      "위트+닭가슴살+양상추+칠리\n",
      "위트+닭가슴살+토미토+마요네즈\n",
      "위트+닭가슴살+토미토+케찹\n",
      "위트+닭가슴살+토미토+칠리\n",
      "위트+닭가슴살+오이+마요네즈\n",
      "위트+닭가슴살+오이+케찹\n",
      "위트+닭가슴살+오이+칠리\n",
      "허니오트+미트볼+양상추+마요네즈\n",
      "허니오트+미트볼+양상추+케찹\n",
      "허니오트+미트볼+양상추+칠리\n",
      "허니오트+미트볼+토미토+마요네즈\n",
      "허니오트+미트볼+토미토+케찹\n",
      "허니오트+미트볼+토미토+칠리\n",
      "허니오트+미트볼+오이+마요네즈\n",
      "허니오트+미트볼+오이+케찹\n",
      "허니오트+미트볼+오이+칠리\n",
      "허니오트+소시지+양상추+마요네즈\n",
      "허니오트+소시지+양상추+케찹\n",
      "허니오트+소시지+양상추+칠리\n",
      "허니오트+소시지+토미토+마요네즈\n",
      "허니오트+소시지+토미토+케찹\n",
      "허니오트+소시지+토미토+칠리\n",
      "허니오트+소시지+오이+마요네즈\n",
      "허니오트+소시지+오이+케찹\n",
      "허니오트+소시지+오이+칠리\n",
      "허니오트+닭가슴살+양상추+마요네즈\n",
      "허니오트+닭가슴살+양상추+케찹\n",
      "허니오트+닭가슴살+양상추+칠리\n",
      "허니오트+닭가슴살+토미토+마요네즈\n",
      "허니오트+닭가슴살+토미토+케찹\n",
      "허니오트+닭가슴살+토미토+칠리\n",
      "허니오트+닭가슴살+오이+마요네즈\n",
      "허니오트+닭가슴살+오이+케찹\n",
      "허니오트+닭가슴살+오이+칠리\n",
      "화이트+미트볼+양상추+마요네즈\n",
      "화이트+미트볼+양상추+케찹\n",
      "화이트+미트볼+양상추+칠리\n",
      "화이트+미트볼+토미토+마요네즈\n",
      "화이트+미트볼+토미토+케찹\n",
      "화이트+미트볼+토미토+칠리\n",
      "화이트+미트볼+오이+마요네즈\n",
      "화이트+미트볼+오이+케찹\n",
      "화이트+미트볼+오이+칠리\n",
      "화이트+소시지+양상추+마요네즈\n",
      "화이트+소시지+양상추+케찹\n",
      "화이트+소시지+양상추+칠리\n",
      "화이트+소시지+토미토+마요네즈\n",
      "화이트+소시지+토미토+케찹\n",
      "화이트+소시지+토미토+칠리\n",
      "화이트+소시지+오이+마요네즈\n",
      "화이트+소시지+오이+케찹\n",
      "화이트+소시지+오이+칠리\n",
      "화이트+닭가슴살+양상추+마요네즈\n",
      "화이트+닭가슴살+양상추+케찹\n",
      "화이트+닭가슴살+양상추+칠리\n",
      "화이트+닭가슴살+토미토+마요네즈\n",
      "화이트+닭가슴살+토미토+케찹\n",
      "화이트+닭가슴살+토미토+칠리\n",
      "화이트+닭가슴살+오이+마요네즈\n",
      "화이트+닭가슴살+오이+케찹\n",
      "화이트+닭가슴살+오이+칠리\n"
     ]
    }
   ],
   "source": [
    "빵 = ['플랙', '위트', '허니오트', '화이트']\n",
    "고기 = ['미트볼', '소시지', '닭가슴살']\n",
    "야채 = ['양상추', '토미토', '오이']\n",
    "소스 = ['마요네즈', '케찹', '칠리']\n",
    "\n",
    "for i in 빵:\n",
    "    for k in 고기:\n",
    "        for h in 야채:\n",
    "            for j in 소스:\n",
    "                print(\"%s+%s+%s+%s\" %(i,k,h,j))"
   ]
  },
  {
   "cell_type": "code",
   "execution_count": 47,
   "id": "e92b7951-89f6-4742-96cc-0725ee0233f9",
   "metadata": {},
   "outputs": [
    {
     "name": "stdout",
     "output_type": "stream",
     "text": [
      "bb[0]에는 198이, bb[99]에는 0이 입력됩니다.\n"
     ]
    }
   ],
   "source": [
    "aa = []\n",
    "bb = []\n",
    "value = 0\n",
    "\n",
    "for i in range(0,100):\n",
    "    aa.append(value)\n",
    "    value += 2\n",
    "bb=aa[::-1]\n",
    "\n",
    "print(\"bb[0]에는 %d이, bb[99]에는 %d이 입력됩니다.\" %(bb[0],bb[99]))"
   ]
  },
  {
   "cell_type": "code",
   "execution_count": 1,
   "id": "c6288304-6b77-4a5d-9007-49c0af742a36",
   "metadata": {},
   "outputs": [
    {
     "name": "stdout",
     "output_type": "stream",
     "text": [
      "bb[0]에는 597이, bb[199]에는 0이 입력됩니다.\n"
     ]
    }
   ],
   "source": [
    "k=3\n",
    "aa=[]\n",
    "for i in range(0,200):\n",
    "    aa.append(k*i)\n",
    "\n",
    "bb=aa[::-1]\n",
    "print(\"bb[0]에는 %d이, bb[199]에는 %d이 입력됩니다.\" %(bb[0],bb[199]))"
   ]
  },
  {
   "cell_type": "code",
   "execution_count": null,
   "id": "90781c9f-0d2e-46e2-81ac-a40dc1a5f1d5",
   "metadata": {},
   "outputs": [],
   "source": []
  },
  {
   "cell_type": "code",
   "execution_count": 4,
   "id": "6deda5ae-a782-42d9-82ac-bd99f32d37c6",
   "metadata": {},
   "outputs": [
    {
     "name": "stdin",
     "output_type": "stream",
     "text": [
      "연산자:  +\n",
      "첫 번째 수 입력:  5\n",
      "두 번째 수 입력:  5\n"
     ]
    },
    {
     "name": "stdout",
     "output_type": "stream",
     "text": [
      "5 + 5 = 10\n"
     ]
    },
    {
     "name": "stdin",
     "output_type": "stream",
     "text": [
      "연산자:  -\n",
      "첫 번째 수 입력:  5\n",
      "두 번째 수 입력:  5\n"
     ]
    },
    {
     "name": "stdout",
     "output_type": "stream",
     "text": [
      "5 - 5 = 0\n"
     ]
    },
    {
     "name": "stdin",
     "output_type": "stream",
     "text": [
      "연산자:  *\n",
      "첫 번째 수 입력:  5\n",
      "두 번째 수 입력:  5\n"
     ]
    },
    {
     "name": "stdout",
     "output_type": "stream",
     "text": [
      "5 * 5 = 25\n"
     ]
    },
    {
     "name": "stdin",
     "output_type": "stream",
     "text": [
      "연산자:  -\n",
      "첫 번째 수 입력:  5\n",
      "두 번째 수 입력:  5\n"
     ]
    },
    {
     "name": "stdout",
     "output_type": "stream",
     "text": [
      "5 - 5 = 0\n"
     ]
    },
    {
     "name": "stdin",
     "output_type": "stream",
     "text": [
      "연산자:  /\n",
      "첫 번째 수 입력:  5\n",
      "두 번째 수 입력:  5\n"
     ]
    },
    {
     "name": "stdout",
     "output_type": "stream",
     "text": [
      "5 / 5 = 1\n"
     ]
    },
    {
     "name": "stdin",
     "output_type": "stream",
     "text": [
      "연산자:  d\n"
     ]
    },
    {
     "name": "stdout",
     "output_type": "stream",
     "text": [
      "변수를 잘못 입력함.\n"
     ]
    }
   ],
   "source": [
    "while True:\n",
    "    ch = input(\"연산자: \")\n",
    "    if ch in ['+','-','*','/']:\n",
    "        a = int(input('첫 번째 수 입력: '))\n",
    "        b = int(input('두 번째 수 입력: '))\n",
    "\n",
    "        if ch == '+':\n",
    "            print('%d + %d = %d' %(a,b,a+b))\n",
    "        elif ch == '-':\n",
    "            print('%d - %d = %d' %(a,b,a-b))\n",
    "        elif ch == '*':\n",
    "            print('%d * %d = %d' %(a,b,a*b))\n",
    "        elif ch == '/':\n",
    "            print('%d / %d = %d' %(a,b,a/b))\n",
    "    else:\n",
    "        print('변수를 잘못 입력함.')\n",
    "        break"
   ]
  },
  {
   "cell_type": "code",
   "execution_count": 11,
   "id": "08963b80-4bc8-46b5-a772-a4242928c963",
   "metadata": {},
   "outputs": [
    {
     "name": "stdout",
     "output_type": "stream",
     "text": [
      "국가목록: ['Korea', 'China', 'Russia', 'Malaysia']\n",
      "추가 후 국가목록: ['Korea', 'China', 'Russia', 'Malaysia', 'Nepal']\n",
      "Japan 는(은) 국가목록에 없습니다.\n",
      "Russia 는(은) 국가목록에 있습니다.\n"
     ]
    }
   ],
   "source": [
    "#실습 5-1\n",
    "\n",
    "nations = ['Korea','China','Russia','Malaysia']\n",
    "print('국가목록: %s' %nations)\n",
    "\n",
    "nations.append('Nepal')\n",
    "print('추가 후 국가목록: %s' %nations)\n",
    "\n",
    "#실습 5-2\n",
    "\n",
    "nation = ['Japan', 'Russia']\n",
    "\n",
    "for k in nation:\n",
    "    if k in nations:\n",
    "        print('%s 는(은) 국가목록에 있습니다.' %k)\n",
    "    elif k not in nations:\n",
    "        print('%s 는(은) 국가목록에 없습니다.' %k)"
   ]
  },
  {
   "cell_type": "code",
   "execution_count": null,
   "id": "7a028fe6-14eb-4871-a385-0a8a0a4dc56b",
   "metadata": {},
   "outputs": [],
   "source": []
  },
  {
   "cell_type": "code",
   "execution_count": 6,
   "id": "632deafc-243c-4fbc-adbb-cdb22060a803",
   "metadata": {},
   "outputs": [
    {
     "name": "stdin",
     "output_type": "stream",
     "text": [
      "숫자를 입력하세요:  10\n",
      "계속?(y/n):  y\n",
      "숫자를 입력하세요:  20\n",
      "계속?(y/n):  Y\n",
      "숫자를 입력하세요:  30\n",
      "계속?(y/n):  n\n"
     ]
    },
    {
     "name": "stdout",
     "output_type": "stream",
     "text": [
      "합계는: 60\n"
     ]
    }
   ],
   "source": [
    "total = 0\n",
    "\n",
    "while True:\n",
    "    num=int(input('숫자를 입력하세요: '))\n",
    "    answer = input('계속?(y/n): ')   \n",
    "    if answer in ['Y','y']:\n",
    "        total += num\n",
    "        continue\n",
    "    elif answer in ['N','n']:\n",
    "        total += num\n",
    "        print('합계는: %s' %total)\n",
    "        break\n",
    "    else:\n",
    "        print('잘못 입력하셨습니다.')\n",
    "        break"
   ]
  },
  {
   "cell_type": "code",
   "execution_count": null,
   "id": "14ced768-57a2-465a-91e0-ba15a60d9e48",
   "metadata": {},
   "outputs": [],
   "source": []
  },
  {
   "cell_type": "code",
   "execution_count": 12,
   "id": "a7b36d49-ec76-43b9-934a-8a8df7391b57",
   "metadata": {},
   "outputs": [
    {
     "name": "stdin",
     "output_type": "stream",
     "text": [
      "숫자를 입력:  10\n",
      "계속?(y/n):  20\n"
     ]
    },
    {
     "name": "stdout",
     "output_type": "stream",
     "text": [
      "합계는: 10\n"
     ]
    }
   ],
   "source": [
    "con = 'y'\n",
    "hap = 0\n",
    "\n",
    "while con in ['y','Y']:\n",
    "    num = int(input('숫자를 입력: '))\n",
    "    hap += num\n",
    "    con = input('계속?(y/n): ')\n",
    "print('합계는: %s' %hap)"
   ]
  },
  {
   "cell_type": "code",
   "execution_count": 15,
   "id": "3d966b56-ca72-4c53-8ced-975a443b3663",
   "metadata": {},
   "outputs": [
    {
     "name": "stdout",
     "output_type": "stream",
     "text": [
      "  1   2   3   4 \n",
      "  5   6   7   8 \n",
      "  9  10  11  12 \n"
     ]
    }
   ],
   "source": [
    "list1 = []\n",
    "list2 = []\n",
    "value = 1\n",
    "\n",
    "for i in range(0,3):\n",
    "    for k in range (0,4):\n",
    "        list1.append(value)\n",
    "        value += 1\n",
    "    list2.append(list1)\n",
    "    list1 = []\n",
    "\n",
    "for i in range(0,3):\n",
    "    for k in range(0,4):\n",
    "        print('%3d' %list2[i][k], end=' ')\n",
    "    print(\"\")"
   ]
  },
  {
   "cell_type": "code",
   "execution_count": null,
   "id": "8f598328-a634-4a58-86ab-82555e4e969f",
   "metadata": {},
   "outputs": [],
   "source": []
  },
  {
   "cell_type": "code",
   "execution_count": 17,
   "id": "1cb72df4-fabd-4105-90cd-7dc630bfa116",
   "metadata": {},
   "outputs": [
    {
     "name": "stdout",
     "output_type": "stream",
     "text": [
      "  0   3   6   9  12 \n",
      " 15  18  21  24  27 \n",
      " 30  33  36  39  42 \n",
      " 45  48  51  54  57 \n"
     ]
    }
   ],
   "source": [
    "#실습 7\n",
    "\n",
    "list3 = []\n",
    "list4 = []\n",
    "value = 0\n",
    "\n",
    "for i in range(0,4):\n",
    "    for k in range (0,5):\n",
    "        list3.append(value*3)\n",
    "        value += 1\n",
    "    list4.append(list3)\n",
    "    list3 = []\n",
    "\n",
    "for i in range(0,4):\n",
    "    for k in range(0,5):\n",
    "        print('%3d' %list4[i][k], end=' ')\n",
    "    print(\"\")"
   ]
  },
  {
   "cell_type": "code",
   "execution_count": 7,
   "id": "b7b376ea-3f9b-4c48-8d8e-b23b233e4f11",
   "metadata": {},
   "outputs": [
    {
     "name": "stdout",
     "output_type": "stream",
     "text": [
      "학생의 점수합계를 알려드리니다.\n",
      "1번째 학생: 385 2번째 학생: 370 3번째 학생: 410 \n",
      "각 과목의 점수합계를 알려드리니다.\n",
      "1번째 과목: 240 2번째 과목: 235 3번째 과목: 230 4번째 과목: 210 5번째 과목: 250 "
     ]
    }
   ],
   "source": [
    "#이렇게까지는 안 나옴(난이도: 상)\n",
    "s = [[70,85,80,70,80],[80,70,80,50,90],[90,80,70,90,80]]\n",
    "hap = 0\n",
    "result1 = []\n",
    "result2 = []\n",
    "print('학생의 점수합계를 알려드리니다.')\n",
    "for i in range(3):\n",
    "    for k in range(5):\n",
    "        hap += s[i][k]\n",
    "    result1.append(hap)\n",
    "    hap = 0\n",
    "for h in range(3):\n",
    "    print('%d번째 학생: %d' %(h+1,result1[h]), end=' ')\n",
    "print(\"\")\n",
    "\n",
    "print('각 과목의 점수합계를 알려드리니다.')\n",
    "for i in range(5):\n",
    "    for k in range(3):\n",
    "        hap += s[k][i]\n",
    "    result2.append(hap)\n",
    "    hap = 0\n",
    "for h in range(5):\n",
    "    print('%d번째 과목: %d' %(h+1,result2[h]), end= ' ')\n",
    "    "
   ]
  },
  {
   "cell_type": "code",
   "execution_count": null,
   "id": "a246c830-18db-4c31-81d0-1a99e0442523",
   "metadata": {},
   "outputs": [],
   "source": [
    "###6장_반복문###"
   ]
  },
  {
   "cell_type": "code",
   "execution_count": 9,
   "id": "578957db-8be5-464b-b21d-20cfda109db1",
   "metadata": {},
   "outputs": [
    {
     "name": "stdout",
     "output_type": "stream",
     "text": [
      "187500\n"
     ]
    }
   ],
   "source": [
    "#10p\n",
    "\n",
    "i, total = 0, 0\n",
    "\n",
    "for i in range(501,1001,2):\n",
    "    total += i\n",
    "\n",
    "print(total)"
   ]
  },
  {
   "cell_type": "code",
   "execution_count": 11,
   "id": "2ebbda12-ffb9-4d10-9391-263e6187cebe",
   "metadata": {},
   "outputs": [
    {
     "name": "stdout",
     "output_type": "stream",
     "text": [
      "735\n"
     ]
    }
   ],
   "source": [
    "#실습 1-1\n",
    "\n",
    "i , total = 0, 0\n",
    "\n",
    "for i in range(0,101,7):\n",
    "    total += i\n",
    "\n",
    "print(total)"
   ]
  },
  {
   "cell_type": "code",
   "execution_count": 13,
   "id": "733d4a3a-b13b-4b32-88d8-3b879123bc02",
   "metadata": {},
   "outputs": [
    {
     "name": "stdin",
     "output_type": "stream",
     "text": [
      "값을 입력하세요:  100\n"
     ]
    },
    {
     "name": "stdout",
     "output_type": "stream",
     "text": [
      "5050\n"
     ]
    }
   ],
   "source": [
    "#실습 1-2\n",
    "\n",
    "i, total = 0, 0\n",
    "\n",
    "num = int(input('값을 입력하세요: '))\n",
    "for i in range(0,num+1):\n",
    "    total += i\n",
    "print(total)"
   ]
  },
  {
   "cell_type": "code",
   "execution_count": 18,
   "id": "360b294b-5e39-483c-9f12-5221a780c6ab",
   "metadata": {},
   "outputs": [
    {
     "name": "stdout",
     "output_type": "stream",
     "text": [
      "0 1 1 2 3 5 8 13 21 34 "
     ]
    }
   ],
   "source": [
    "#실습 2-1   # 외워라!!!!!!!!!!!!!!!!!\n",
    "\n",
    "a = 0\n",
    "b = 1\n",
    "for i in range(10):\n",
    "    print(a, end=' ')\n",
    "    a, b = b, a+b"
   ]
  },
  {
   "cell_type": "code",
   "execution_count": 19,
   "id": "08096db6-41a4-45c0-9b52-9c48cb55bcdb",
   "metadata": {},
   "outputs": [
    {
     "name": "stdin",
     "output_type": "stream",
     "text": [
      "수를 입력하세요:  5\n"
     ]
    },
    {
     "name": "stdout",
     "output_type": "stream",
     "text": [
      "5! = 120\n"
     ]
    }
   ],
   "source": [
    "#실습2-2\n",
    "\n",
    "i, total = 1, 1\n",
    "\n",
    "num = int(input('수를 입력하세요: '))\n",
    "for i in range(1,num+1):\n",
    "    total *= i\n",
    "\n",
    "print('%d! = %d' %(num,total))"
   ]
  },
  {
   "cell_type": "code",
   "execution_count": 22,
   "id": "50d1e45a-c64d-4947-81bf-5edcf248aa7f",
   "metadata": {},
   "outputs": [
    {
     "name": "stdin",
     "output_type": "stream",
     "text": [
      "시작값:  2\n",
      "끝값:  300\n",
      "증가값:  3\n"
     ]
    },
    {
     "name": "stdout",
     "output_type": "stream",
     "text": [
      "15050\n"
     ]
    }
   ],
   "source": [
    "#실습 3-1\n",
    "i,total = 0, 0\n",
    "\n",
    "start = int(input('시작값: '))\n",
    "end = int(input('끝값: '))+1\n",
    "skip = int(input('증가값: '))\n",
    "\n",
    "for i in range(start,end,skip):\n",
    "    total += i\n",
    "print(total)"
   ]
  },
  {
   "cell_type": "code",
   "execution_count": 23,
   "id": "552b37e8-c215-43f3-a038-687a95c82c28",
   "metadata": {},
   "outputs": [
    {
     "name": "stdin",
     "output_type": "stream",
     "text": [
      "단을 입력하세요:  7\n"
     ]
    },
    {
     "name": "stdout",
     "output_type": "stream",
     "text": [
      "7 * 1 = 7\n",
      "7 * 2 = 14\n",
      "7 * 3 = 21\n",
      "7 * 4 = 28\n",
      "7 * 5 = 35\n",
      "7 * 6 = 42\n",
      "7 * 7 = 49\n",
      "7 * 8 = 56\n",
      "7 * 9 = 63\n"
     ]
    }
   ],
   "source": [
    "#실습 3-2\n",
    "\n",
    "i = 1\n",
    "\n",
    "dan = int(input('단을 입력하세요: '))\n",
    "for i in range(1,10):\n",
    "    print('%d * %d = %d' %(dan,i,dan*i))"
   ]
  },
  {
   "cell_type": "code",
   "execution_count": 50,
   "id": "f14989d8-7d09-4e32-ac7c-f5ff3955e181",
   "metadata": {},
   "outputs": [
    {
     "name": "stdout",
     "output_type": "stream",
     "text": [
      "\n",
      "\n",
      "1 * 1 = 1\t 2 * 1 = 2\t 3 * 1 = 3\t 4 * 1 = 4\t 5 * 1 = 5\t 6 * 1 = 6\t 7 * 1 = 7\t 8 * 1 = 8\t 9 * 1 = 9\t \n",
      "\n",
      "1 * 2 = 2\t 2 * 2 = 4\t 3 * 2 = 6\t 4 * 2 = 8\t 5 * 2 = 10\t 6 * 2 = 12\t 7 * 2 = 14\t 8 * 2 = 16\t 9 * 2 = 18\t \n",
      "\n",
      "1 * 3 = 3\t 2 * 3 = 6\t 3 * 3 = 9\t 4 * 3 = 12\t 5 * 3 = 15\t 6 * 3 = 18\t 7 * 3 = 21\t 8 * 3 = 24\t 9 * 3 = 27\t \n",
      "\n",
      "1 * 4 = 4\t 2 * 4 = 8\t 3 * 4 = 12\t 4 * 4 = 16\t 5 * 4 = 20\t 6 * 4 = 24\t 7 * 4 = 28\t 8 * 4 = 32\t 9 * 4 = 36\t \n",
      "\n",
      "1 * 5 = 5\t 2 * 5 = 10\t 3 * 5 = 15\t 4 * 5 = 20\t 5 * 5 = 25\t 6 * 5 = 30\t 7 * 5 = 35\t 8 * 5 = 40\t 9 * 5 = 45\t \n",
      "\n",
      "1 * 6 = 6\t 2 * 6 = 12\t 3 * 6 = 18\t 4 * 6 = 24\t 5 * 6 = 30\t 6 * 6 = 36\t 7 * 6 = 42\t 8 * 6 = 48\t 9 * 6 = 54\t \n",
      "\n",
      "1 * 7 = 7\t 2 * 7 = 14\t 3 * 7 = 21\t 4 * 7 = 28\t 5 * 7 = 35\t 6 * 7 = 42\t 7 * 7 = 49\t 8 * 7 = 56\t 9 * 7 = 63\t \n",
      "\n",
      "1 * 8 = 8\t 2 * 8 = 16\t 3 * 8 = 24\t 4 * 8 = 32\t 5 * 8 = 40\t 6 * 8 = 48\t 7 * 8 = 56\t 8 * 8 = 64\t 9 * 8 = 72\t \n",
      "\n",
      "1 * 9 = 9\t 2 * 9 = 18\t 3 * 9 = 27\t 4 * 9 = 36\t 5 * 9 = 45\t 6 * 9 = 54\t 7 * 9 = 63\t 8 * 9 = 72\t 9 * 9 = 81\t "
     ]
    }
   ],
   "source": [
    "#중첩 for문 - 구구단 출력(가로)\n",
    "\n",
    "for i in range(1,10):\n",
    "    print('\\n')\n",
    "    for k in range(1,10):\n",
    "        print('%d * %d = %d\\t' %(k,i,k*i), end=' ')"
   ]
  },
  {
   "cell_type": "code",
   "execution_count": 53,
   "id": "86806059-c344-48a1-ad58-36a4b117a8fc",
   "metadata": {},
   "outputs": [
    {
     "name": "stdout",
     "output_type": "stream",
     "text": [
      " #\n",
      "  #\n",
      "   #\n",
      "    #\n",
      "     #\n",
      "      #\n",
      "       #\n"
     ]
    }
   ],
   "source": [
    "#실습 4\n",
    "for i in range(1,8):\n",
    "    print(' '*i+'#')"
   ]
  },
  {
   "cell_type": "code",
   "execution_count": 52,
   "id": "aa6e11eb-f712-49da-a542-0cc95456c2a5",
   "metadata": {},
   "outputs": [
    {
     "name": "stdout",
     "output_type": "stream",
     "text": [
      "\n",
      "\n",
      "9 * 9 = 81\t 9 * 8 = 72\t 9 * 7 = 63\t 9 * 6 = 54\t 9 * 5 = 45\t 9 * 4 = 36\t 9 * 3 = 27\t 9 * 2 = 18\t 9 * 1 = 9\t \n",
      "\n",
      "8 * 9 = 72\t 8 * 8 = 64\t 8 * 7 = 56\t 8 * 6 = 48\t 8 * 5 = 40\t 8 * 4 = 32\t 8 * 3 = 24\t 8 * 2 = 16\t 8 * 1 = 8\t \n",
      "\n",
      "7 * 9 = 63\t 7 * 8 = 56\t 7 * 7 = 49\t 7 * 6 = 42\t 7 * 5 = 35\t 7 * 4 = 28\t 7 * 3 = 21\t 7 * 2 = 14\t 7 * 1 = 7\t \n",
      "\n",
      "6 * 9 = 54\t 6 * 8 = 48\t 6 * 7 = 42\t 6 * 6 = 36\t 6 * 5 = 30\t 6 * 4 = 24\t 6 * 3 = 18\t 6 * 2 = 12\t 6 * 1 = 6\t \n",
      "\n",
      "5 * 9 = 45\t 5 * 8 = 40\t 5 * 7 = 35\t 5 * 6 = 30\t 5 * 5 = 25\t 5 * 4 = 20\t 5 * 3 = 15\t 5 * 2 = 10\t 5 * 1 = 5\t \n",
      "\n",
      "4 * 9 = 36\t 4 * 8 = 32\t 4 * 7 = 28\t 4 * 6 = 24\t 4 * 5 = 20\t 4 * 4 = 16\t 4 * 3 = 12\t 4 * 2 = 8\t 4 * 1 = 4\t \n",
      "\n",
      "3 * 9 = 27\t 3 * 8 = 24\t 3 * 7 = 21\t 3 * 6 = 18\t 3 * 5 = 15\t 3 * 4 = 12\t 3 * 3 = 9\t 3 * 2 = 6\t 3 * 1 = 3\t \n",
      "\n",
      "2 * 9 = 18\t 2 * 8 = 16\t 2 * 7 = 14\t 2 * 6 = 12\t 2 * 5 = 10\t 2 * 4 = 8\t 2 * 3 = 6\t 2 * 2 = 4\t 2 * 1 = 2\t \n",
      "\n",
      "1 * 9 = 9\t 1 * 8 = 8\t 1 * 7 = 7\t 1 * 6 = 6\t 1 * 5 = 5\t 1 * 4 = 4\t 1 * 3 = 3\t 1 * 2 = 2\t 1 * 1 = 1\t "
     ]
    }
   ],
   "source": [
    "#실습 5\n",
    "\n",
    "for i in range(9,0,-1):\n",
    "    print('\\n')\n",
    "    for k in range(9,0,-1):\n",
    "        print('%d * %d = %d\\t' %(i,k,k*i), end=' ')"
   ]
  },
  {
   "cell_type": "code",
   "execution_count": 54,
   "id": "9015fdbb-bc92-4da7-a63e-4192d0edbfc8",
   "metadata": {},
   "outputs": [
    {
     "name": "stdout",
     "output_type": "stream",
     "text": [
      "55\n"
     ]
    }
   ],
   "source": [
    "#실습 6\n",
    "i, total = 1, 0\n",
    "\n",
    "while i < 11:\n",
    "    total += i\n",
    "    i += 1\n",
    "\n",
    "print(total)"
   ]
  },
  {
   "cell_type": "code",
   "execution_count": 55,
   "id": "bc01999f-0333-4944-8333-3c51ea823a5f",
   "metadata": {},
   "outputs": [
    {
     "name": "stdout",
     "output_type": "stream",
     "text": [
      "2550\n"
     ]
    }
   ],
   "source": [
    "#실습 7-1\n",
    "\n",
    "i, hap = 0, 0\n",
    "\n",
    "while i<101:\n",
    "    hap+=i\n",
    "    i += 2\n",
    "\n",
    "print(hap)"
   ]
  },
  {
   "cell_type": "code",
   "execution_count": 56,
   "id": "ebdddf01-a4d7-4dba-9d74-11c87b543143",
   "metadata": {},
   "outputs": [
    {
     "name": "stdout",
     "output_type": "stream",
     "text": [
      "2550\n"
     ]
    }
   ],
   "source": [
    "#실습 7-1(for문)\n",
    "\n",
    "i, hap = 0, 0\n",
    "\n",
    "for i in range(0,101,2):\n",
    "    hap = hap + i\n",
    "\n",
    "print(hap)"
   ]
  },
  {
   "cell_type": "code",
   "execution_count": 60,
   "id": "11c0ba1e-b2ad-4cbe-a66a-8964a6edebe7",
   "metadata": {},
   "outputs": [
    {
     "name": "stdin",
     "output_type": "stream",
     "text": [
      "충전 또는 사용한 연료를 +/-와 함께 입력하시오:  60\n"
     ]
    },
    {
     "name": "stdout",
     "output_type": "stream",
     "text": [
      "현재 탱크의 양은 560 입니다.\n"
     ]
    },
    {
     "name": "stdin",
     "output_type": "stream",
     "text": [
      "충전 또는 사용한 연료를 +/-와 함께 입력하시오:  -300\n"
     ]
    },
    {
     "name": "stdout",
     "output_type": "stream",
     "text": [
      "현재 탱크의 양은 260 입니다.\n"
     ]
    },
    {
     "name": "stdin",
     "output_type": "stream",
     "text": [
      "충전 또는 사용한 연료를 +/-와 함께 입력하시오:  -220\n"
     ]
    },
    {
     "name": "stdout",
     "output_type": "stream",
     "text": [
      "현재 탱크의 양은 40 입니다.\n",
      "경고: 연료가 10%미만이니 충전하세요!\n"
     ]
    }
   ],
   "source": [
    "#실습 7-2\n",
    "\n",
    "tank= 500\n",
    "\n",
    "while tank >= 50:\n",
    "    fuel=int(input('충전 또는 사용한 연료를 +/-와 함께 입력하시오: '))\n",
    "    tank += fuel\n",
    "    print('현재 탱크의 양은 %d 입니다.' %tank)\n",
    "\n",
    "print('경고: 연료가 10%미만이니 충전하세요!')"
   ]
  },
  {
   "cell_type": "code",
   "execution_count": 63,
   "id": "6790ce29-9689-467a-8bec-e12d8dc86781",
   "metadata": {},
   "outputs": [
    {
     "name": "stdout",
     "output_type": "stream",
     "text": [
      "45\n"
     ]
    }
   ],
   "source": [
    "#실습 8\n",
    "\n",
    "i, hap = 1, 0\n",
    "\n",
    "while i <= 101:\n",
    "    if hap>1000:\n",
    "        print(i-1)\n",
    "        break\n",
    "    else:\n",
    "        hap += i\n",
    "        i += 1"
   ]
  },
  {
   "cell_type": "code",
   "execution_count": 65,
   "id": "2fcf1544-9691-42ba-8968-31a34cd7fbdf",
   "metadata": {},
   "outputs": [
    {
     "name": "stdout",
     "output_type": "stream",
     "text": [
      "3367\n"
     ]
    }
   ],
   "source": [
    "#36p\n",
    "\n",
    "hap, i = 0, 0\n",
    "\n",
    "for i in range(1,101):\n",
    "    if i%3==0:\n",
    "        continue\n",
    "    if i%3!=0:\n",
    "        hap += i\n",
    "        i+=1\n",
    "print(hap)"
   ]
  },
  {
   "cell_type": "code",
   "execution_count": 84,
   "id": "e552886c-505b-4e56-9c47-729b8db4a8e6",
   "metadata": {},
   "outputs": [
    {
     "name": "stdout",
     "output_type": "stream",
     "text": [
      "*\n",
      "**\n",
      "***\n",
      "****\n",
      "*****\n"
     ]
    }
   ],
   "source": [
    "#복습 1\n",
    "for i in range(1,6):\n",
    "    print('*'*i)"
   ]
  },
  {
   "cell_type": "code",
   "execution_count": 85,
   "id": "0771f4b4-dff6-47b2-a25f-e066e01155ef",
   "metadata": {},
   "outputs": [
    {
     "name": "stdin",
     "output_type": "stream",
     "text": [
      "정수를 입력하세요:  523\n"
     ]
    },
    {
     "name": "stdout",
     "output_type": "stream",
     "text": [
      "10\n"
     ]
    }
   ],
   "source": [
    "num=input('정수를 입력하세요: ')\n",
    "hap,i=0,0\n",
    "for i in num:\n",
    "    hap += int(i)\n",
    "\n",
    "print(hap)"
   ]
  },
  {
   "cell_type": "code",
   "execution_count": 95,
   "id": "d581c131-73da-4848-a2c5-3e7308c26f13",
   "metadata": {},
   "outputs": [
    {
     "name": "stdout",
     "output_type": "stream",
     "text": [
      "369게임\n"
     ]
    },
    {
     "name": "stdin",
     "output_type": "stream",
     "text": [
      "1부터 어디까지 진행할까요?  23\n"
     ]
    },
    {
     "name": "stdout",
     "output_type": "stream",
     "text": [
      "1 2 짝 4 5 짝 7 8 짝 10 11 12 짝 14 15 짝 17 18 짝 20 21 22 짝 "
     ]
    }
   ],
   "source": [
    "#복습 2\n",
    "\n",
    "print('369게임')\n",
    "start=int(input('1부터 어디까지 진행할까요? '))\n",
    "\n",
    "for i in range(1,start+1):\n",
    "    if i%10==3 or i%10==6 or i%10==9:\n",
    "        print('짝', end=' ')\n",
    "        continue\n",
    "    else:\n",
    "        print(i, end=' ')"
   ]
  },
  {
   "cell_type": "code",
   "execution_count": null,
   "id": "e2faadcf-1af2-438b-9364-6111cc10bd38",
   "metadata": {},
   "outputs": [],
   "source": []
  },
  {
   "cell_type": "code",
   "execution_count": null,
   "id": "41c54866-c013-4025-bf24-8ccafe5d3269",
   "metadata": {},
   "outputs": [],
   "source": [
    "#test하하하"
   ]
  },
  {
   "cell_type": "code",
   "execution_count": 102,
   "id": "0e57461e-1a1e-4e08-a71c-4e3b7f843856",
   "metadata": {},
   "outputs": [
    {
     "data": {
      "text/plain": [
       "[1, 2, 4]"
      ]
     },
     "execution_count": 102,
     "metadata": {},
     "output_type": "execute_result"
    }
   ],
   "source": [
    "#del()\n",
    "\n",
    "a = [1,2,3,4]\n",
    "\n",
    "del(a[2])\n",
    "a"
   ]
  },
  {
   "cell_type": "code",
   "execution_count": 115,
   "id": "a4606e0d-1bb4-419a-bbaf-d927d6303203",
   "metadata": {},
   "outputs": [
    {
     "name": "stdout",
     "output_type": "stream",
     "text": [
      "198 0\n"
     ]
    }
   ],
   "source": [
    "aa=[]\n",
    "for i in range(100):\n",
    "    aa.append(0)\n",
    "\n",
    "i=0\n",
    "k=0\n",
    "while i<100:\n",
    "    aa[i]=k\n",
    "    k += 2\n",
    "    i +=1\n",
    "\n",
    "bb=[]\n",
    "bb=aa.copy()\n",
    "bb.reverse()\n",
    "\n",
    "print(bb[0], bb[99])"
   ]
  },
  {
   "cell_type": "code",
   "execution_count": 116,
   "id": "3f007927-3830-4e31-bce1-92ea5d8873b0",
   "metadata": {},
   "outputs": [
    {
     "name": "stdout",
     "output_type": "stream",
     "text": [
      "3.100000\n"
     ]
    }
   ],
   "source": [
    "print('%f' %3.1)"
   ]
  },
  {
   "cell_type": "code",
   "execution_count": 132,
   "id": "05085a46-2cdf-4905-97cd-f574acd9414c",
   "metadata": {},
   "outputs": [
    {
     "name": "stdout",
     "output_type": "stream",
     "text": [
      "[1, 2, 3, 4, 5]\n",
      "[1, 2, 3, 4, 5]\n",
      "[2, 5, 3, 1, 4]\n"
     ]
    }
   ],
   "source": [
    "a = [2,5,3,1,4]\n",
    "\n",
    "a.sort()\n",
    "print(a)\n",
    "\n",
    "a = [2,5,3,1,4]\n",
    "\n",
    "b=sorted(a)\n",
    "print(b)\n",
    "print(a)"
   ]
  },
  {
   "cell_type": "code",
   "execution_count": 129,
   "id": "6e026c43-c4da-4697-80f1-96e3de5e8c0d",
   "metadata": {},
   "outputs": [
    {
     "data": {
      "text/plain": [
       "1"
      ]
     },
     "execution_count": 129,
     "metadata": {},
     "output_type": "execute_result"
    }
   ],
   "source": [
    "a.count(1)"
   ]
  },
  {
   "cell_type": "code",
   "execution_count": 130,
   "id": "9aa25b84-e856-461d-8b28-8e827d6e931c",
   "metadata": {},
   "outputs": [
    {
     "data": {
      "text/plain": [
       "2"
      ]
     },
     "execution_count": 130,
     "metadata": {},
     "output_type": "execute_result"
    }
   ],
   "source": [
    "a.index(3)"
   ]
  },
  {
   "cell_type": "code",
   "execution_count": 133,
   "id": "0cd264fd-f96d-4269-9b53-e021b72fd8fe",
   "metadata": {},
   "outputs": [
    {
     "data": {
      "text/plain": [
       "[2, 5, 3, 1]"
      ]
     },
     "execution_count": 133,
     "metadata": {},
     "output_type": "execute_result"
    }
   ],
   "source": [
    "a.pop()\n",
    "a"
   ]
  },
  {
   "cell_type": "code",
   "execution_count": 134,
   "id": "550654aa-c9f1-4c23-bc6d-af5e5e8be643",
   "metadata": {},
   "outputs": [],
   "source": [
    "a.insert(0,4)"
   ]
  },
  {
   "cell_type": "code",
   "execution_count": 135,
   "id": "832b1910-d397-428c-aebc-7d8252153d53",
   "metadata": {},
   "outputs": [
    {
     "data": {
      "text/plain": [
       "[4, 2, 5, 3, 1]"
      ]
     },
     "execution_count": 135,
     "metadata": {},
     "output_type": "execute_result"
    }
   ],
   "source": [
    "a"
   ]
  },
  {
   "cell_type": "code",
   "execution_count": 137,
   "id": "cbe4d8df-3dd3-4382-b1f0-b2ad1ec58f25",
   "metadata": {},
   "outputs": [
    {
     "data": {
      "text/plain": [
       "[4, 2, 5, 3, 1]"
      ]
     },
     "execution_count": 137,
     "metadata": {},
     "output_type": "execute_result"
    }
   ],
   "source": [
    "aa=a.copy()\n",
    "aa"
   ]
  },
  {
   "cell_type": "code",
   "execution_count": 141,
   "id": "3a20ae1a-6fbd-43f8-8065-0d6100dc4d7e",
   "metadata": {},
   "outputs": [
    {
     "name": "stdout",
     "output_type": "stream",
     "text": [
      "[]\n",
      "[1, 2, 3, 4, 5]\n",
      "[]\n",
      "[]\n"
     ]
    }
   ],
   "source": [
    "a = [1,2,3,4,5,6,7,8]\n",
    "a.append(0)\n",
    "a.pop()\n",
    "a.pop(2)\n",
    "a.sort()\n",
    "c=sorted(a)\n",
    "a.reverse()\n",
    "a.index(1)\n",
    "a.insert(0,3)\n",
    "a.remove(3)\n",
    "a.extend(c)\n",
    "a.count(3)\n",
    "a.clear()\n",
    "del(c[:])\n",
    "len(c)\n",
    "d=a.copy()\n",
    "print(a)\n",
    "print(b)\n",
    "print(c)\n",
    "print(d)"
   ]
  },
  {
   "cell_type": "code",
   "execution_count": 143,
   "id": "9a636e45-4b06-4482-bb03-3c22bb39e9de",
   "metadata": {},
   "outputs": [
    {
     "data": {
      "text/plain": [
       "[1, 2, 3]"
      ]
     },
     "execution_count": 143,
     "metadata": {},
     "output_type": "execute_result"
    }
   ],
   "source": [
    "a = [1,2,3]\n",
    "\n",
    "b = a[:]\n",
    "b"
   ]
  },
  {
   "cell_type": "code",
   "execution_count": 149,
   "id": "94c872c9-9c59-4f93-afa1-9c6773018a7d",
   "metadata": {},
   "outputs": [
    {
     "name": "stdout",
     "output_type": "stream",
     "text": [
      "바나나\n"
     ]
    }
   ],
   "source": [
    "print('%s' %'바나나')"
   ]
  },
  {
   "cell_type": "code",
   "execution_count": 159,
   "id": "7022f1f3-f1ad-46af-ab4b-5a5b427cbf69",
   "metadata": {},
   "outputs": [
    {
     "name": "stdout",
     "output_type": "stream",
     "text": [
      "034\n"
     ]
    }
   ],
   "source": [
    "print('%03d' %34)"
   ]
  },
  {
   "cell_type": "code",
   "execution_count": 160,
   "id": "0d759fa8-d9dd-4b41-9945-ba747572066c",
   "metadata": {},
   "outputs": [
    {
     "name": "stdout",
     "output_type": "stream",
     "text": [
      "black 5\n",
      "blue 4\n",
      "yellow 6\n",
      "red 3\n"
     ]
    }
   ],
   "source": [
    "colors = ['black', 'blue', 'yellow', 'red']\n",
    "\n",
    "for color in colors:\n",
    "    print(color, len(color))"
   ]
  },
  {
   "cell_type": "code",
   "execution_count": 162,
   "id": "36dd8a96-ddce-4317-9822-d3065df1cfa8",
   "metadata": {},
   "outputs": [
    {
     "data": {
      "text/plain": [
       "'Hi'"
      ]
     },
     "execution_count": 162,
     "metadata": {},
     "output_type": "execute_result"
    }
   ],
   "source": [
    "a=2\n",
    "result=\"Hi\" if a==2 else \"Bye\"\n",
    "result"
   ]
  },
  {
   "cell_type": "code",
   "execution_count": null,
   "id": "3e7903a0-6023-4049-ae94-5e0c4a8f0e60",
   "metadata": {},
   "outputs": [],
   "source": []
  }
 ],
 "metadata": {
  "kernelspec": {
   "display_name": "Python 3 (ipykernel)",
   "language": "python",
   "name": "python3"
  },
  "language_info": {
   "codemirror_mode": {
    "name": "ipython",
    "version": 3
   },
   "file_extension": ".py",
   "mimetype": "text/x-python",
   "name": "python",
   "nbconvert_exporter": "python",
   "pygments_lexer": "ipython3",
   "version": "3.12.5"
  }
 },
 "nbformat": 4,
 "nbformat_minor": 5
}
