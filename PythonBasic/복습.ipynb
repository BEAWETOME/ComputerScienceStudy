{
 "cells": [
  {
   "cell_type": "code",
   "execution_count": 1,
   "id": "25f8e4b7-a252-4949-8001-407e5c545b30",
   "metadata": {},
   "outputs": [
    {
     "name": "stdout",
     "output_type": "stream",
     "text": [
      "1: 이름 Alice    나이: 24\n",
      "2: 이름 Bob      나이: 50\n",
      "3: 이름 Charlie  나이: 18\n"
     ]
    }
   ],
   "source": [
    "#복습1\n",
    "names = ['Alice','Bob','Charlie']\n",
    "ages = [24, 50, 18]\n",
    "\n",
    "for i in range(3):\n",
    "    print('%d: 이름 %-8s 나이:%3d' %(i+1, names[i],ages[i]))"
   ]
  },
  {
   "cell_type": "code",
   "execution_count": 2,
   "id": "41d00b0f-578b-4b2e-a4a6-554524ac4879",
   "metadata": {},
   "outputs": [
    {
     "name": "stdin",
     "output_type": "stream",
     "text": [
      "이름을 입력하세요: 이 현 진\n"
     ]
    },
    {
     "name": "stdout",
     "output_type": "stream",
     "text": [
      "중간 이름은: 현\n"
     ]
    }
   ],
   "source": [
    "#복습2-1\n",
    "#다음과 같이 3 단어로 된 영문 이름을 입력 받은 후 중간이름을 출력하여라\n",
    "name = input('이름을 입력하세요:')\n",
    "print('중간 이름은:',name.split()[1])"
   ]
  },
  {
   "cell_type": "code",
   "execution_count": 3,
   "id": "d2107654-6944-4b82-9cdd-418f9fd08808",
   "metadata": {},
   "outputs": [
    {
     "name": "stdout",
     "output_type": "stream",
     "text": [
      "korea의 출현 횟수: 2\n"
     ]
    }
   ],
   "source": [
    "#복습2-2\n",
    "s = 'Korea is awesome! I REALLY LOVE KOREA.'\n",
    "print('korea의 출현 횟수:',s.lower().count('korea'))"
   ]
  },
  {
   "cell_type": "code",
   "execution_count": null,
   "id": "cf2fa30c-4275-4273-8e96-067e9541bcf4",
   "metadata": {},
   "outputs": [],
   "source": []
  }
 ],
 "metadata": {
  "kernelspec": {
   "display_name": "Python 3 (ipykernel)",
   "language": "python",
   "name": "python3"
  },
  "language_info": {
   "codemirror_mode": {
    "name": "ipython",
    "version": 3
   },
   "file_extension": ".py",
   "mimetype": "text/x-python",
   "name": "python",
   "nbconvert_exporter": "python",
   "pygments_lexer": "ipython3",
   "version": "3.12.5"
  }
 },
 "nbformat": 4,
 "nbformat_minor": 5
}
