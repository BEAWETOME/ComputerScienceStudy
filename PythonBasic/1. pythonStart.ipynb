{
 "cells": [
  {
   "cell_type": "code",
   "execution_count": 1,
   "id": "07e134aa-0b9d-4ce4-b3d9-b865b231047c",
   "metadata": {},
   "outputs": [
    {
     "name": "stdout",
     "output_type": "stream",
     "text": [
      "Hello World\n"
     ]
    }
   ],
   "source": [
    "print(\"Hello World\")"
   ]
  },
  {
   "cell_type": "code",
   "execution_count": 2,
   "id": "09f58c33-7c77-40b3-8644-686c2e3bd168",
   "metadata": {},
   "outputs": [
    {
     "name": "stdout",
     "output_type": "stream",
     "text": [
      "9곱하기6는 54이다\n"
     ]
    }
   ],
   "source": [
    "print(\"%d곱하기%d는 %d이다\" %(9,6,54))"
   ]
  },
  {
   "cell_type": "code",
   "execution_count": 5,
   "id": "a5a92602-f4f5-41b9-8cf1-1abc18095195",
   "metadata": {},
   "outputs": [
    {
     "name": "stdout",
     "output_type": "stream",
     "text": [
      "철수의 수학 점수는 96이다\n"
     ]
    }
   ],
   "source": [
    "print(\"%s의 %s 점수는 %d이다\" %(\"철수\",\"수학\",96))"
   ]
  },
  {
   "cell_type": "code",
   "execution_count": 7,
   "id": "a240834a-6af1-4de1-b150-c4099a66e4bb",
   "metadata": {},
   "outputs": [
    {
     "name": "stdout",
     "output_type": "stream",
     "text": [
      "원주율 3.141592....\n"
     ]
    }
   ],
   "source": [
    "print(\"원주율 %f....\" %3.141592)"
   ]
  },
  {
   "cell_type": "code",
   "execution_count": 13,
   "id": "e084c818-c486-471e-ae35-8cf6a9be4d48",
   "metadata": {},
   "outputs": [
    {
     "name": "stdout",
     "output_type": "stream",
     "text": [
      "사과   \n",
      "바나나  \n",
      "귤    \n",
      "애플망고 \n",
      "샤인머스킷\n"
     ]
    }
   ],
   "source": [
    "print(\"%-5s\" %(\"사과\"))\n",
    "print(\"%-5s\" %(\"바나나\"))\n",
    "print(\"%-5s\" %(\"귤\"))\n",
    "print(\"%-5s\" %(\"애플망고\"))\n",
    "print(\"%-5s\" %(\"샤인머스킷\"))"
   ]
  },
  {
   "cell_type": "code",
   "execution_count": 17,
   "id": "8cabeec9-a3d3-412c-af38-f98e30d73456",
   "metadata": {},
   "outputs": [
    {
     "name": "stdout",
     "output_type": "stream",
     "text": [
      "4.33\n",
      "1.50\n"
     ]
    }
   ],
   "source": [
    "print(\"%.2f\" %4.33)\n",
    "print(\"%.2f\" %1.5)"
   ]
  },
  {
   "cell_type": "code",
   "execution_count": 26,
   "id": "4830dd51-b50c-4fc8-881b-945977e06063",
   "metadata": {},
   "outputs": [
    {
     "name": "stdout",
     "output_type": "stream",
     "text": [
      "32.135530\n",
      " 32.136\n"
     ]
    }
   ],
   "source": [
    "print(\"%f\" %32.13553)\n",
    "print(\"%7.3f\" %32.13553)"
   ]
  },
  {
   "cell_type": "code",
   "execution_count": 27,
   "id": "76f56b21-b854-4bc1-b67c-cab80c91e3d0",
   "metadata": {},
   "outputs": [
    {
     "name": "stdout",
     "output_type": "stream",
     "text": [
      "123  12300123\n"
     ]
    }
   ],
   "source": [
    "print(\"{0:d}{1:5d}{2:05d}\".format(123,123,123))"
   ]
  },
  {
   "cell_type": "code",
   "execution_count": 29,
   "id": "9d569f56-9d60-4967-b050-0642079429a5",
   "metadata": {},
   "outputs": [
    {
     "name": "stdout",
     "output_type": "stream",
     "text": [
      "321 123 231\n"
     ]
    }
   ],
   "source": [
    "print(\"{2:d}{0:4d}{1:4d}\".format(123,231,321))"
   ]
  },
  {
   "cell_type": "code",
   "execution_count": 30,
   "id": "a472f5c1-5aa3-4359-8551-c31e23d1c056",
   "metadata": {},
   "outputs": [
    {
     "name": "stdout",
     "output_type": "stream",
     "text": [
      "한 행입니다. \n",
      "또 한 행입니다.\n"
     ]
    }
   ],
   "source": [
    "print(\"한 행입니다. \\n또 한 행입니다.\")"
   ]
  },
  {
   "cell_type": "code",
   "execution_count": 31,
   "id": "36259918-a537-4a48-a5a8-54fdae9ede57",
   "metadata": {},
   "outputs": [
    {
     "name": "stdout",
     "output_type": "stream",
     "text": [
      "한 행입니다. \n",
      "\t또 한 행입니다.\n"
     ]
    }
   ],
   "source": [
    "print(\"한 행입니다. \\n\\t또 한 행입니다.\")"
   ]
  },
  {
   "cell_type": "code",
   "execution_count": 32,
   "id": "29a57fb0-92ed-482d-ae3d-b6dff18e68b3",
   "metadata": {},
   "outputs": [
    {
     "name": "stdout",
     "output_type": "stream",
     "text": [
      "사과\\배\\감\\귤\n"
     ]
    }
   ],
   "source": [
    "print(\"사과\\\\배\\\\감\\\\귤\")"
   ]
  },
  {
   "cell_type": "code",
   "execution_count": 34,
   "id": "e270f3d6-0bd2-48e3-93b4-06dc33deac53",
   "metadata": {},
   "outputs": [
    {
     "name": "stdout",
     "output_type": "stream",
     "text": [
      "'사과'\\'배'\\'감'\\'귤'\n"
     ]
    }
   ],
   "source": [
    "print(\"\\'사과\\'\\\\\\'배\\'\\\\\\'감\\'\\\\\\'귤\\'\")"
   ]
  },
  {
   "cell_type": "code",
   "execution_count": 35,
   "id": "7deb7de5-51d8-43b7-9e98-4498e44d9d23",
   "metadata": {},
   "outputs": [
    {
     "name": "stdout",
     "output_type": "stream",
     "text": [
      "사과\\\\배\\\\감\\\\귤\n"
     ]
    }
   ],
   "source": [
    "print(r\"사과\\\\배\\\\감\\\\귤\")"
   ]
  },
  {
   "cell_type": "code",
   "execution_count": 3,
   "id": "b7229b20-2e34-4b3e-ae39-1acd8d5cbb7c",
   "metadata": {},
   "outputs": [
    {
     "name": "stdout",
     "output_type": "stream",
     "text": [
      "이\n",
      "\t민\n",
      "\t\t희\n",
      "\t\t\t지\n",
      "\t\t\t\t모\n"
     ]
    }
   ],
   "source": [
    "print(\"이\\n\\t민\\n\\t\\t희\\n\\t\\t\\t지\\n\\t\\t\\t\\t모\")"
   ]
  },
  {
   "cell_type": "code",
   "execution_count": null,
   "id": "83fe7b31-bd90-43f5-8d08-f56e0dc3e142",
   "metadata": {},
   "outputs": [],
   "source": []
  }
 ],
 "metadata": {
  "kernelspec": {
   "display_name": "Python 3 (ipykernel)",
   "language": "python",
   "name": "python3"
  },
  "language_info": {
   "codemirror_mode": {
    "name": "ipython",
    "version": 3
   },
   "file_extension": ".py",
   "mimetype": "text/x-python",
   "name": "python",
   "nbconvert_exporter": "python",
   "pygments_lexer": "ipython3",
   "version": "3.12.5"
  }
 },
 "nbformat": 4,
 "nbformat_minor": 5
}
