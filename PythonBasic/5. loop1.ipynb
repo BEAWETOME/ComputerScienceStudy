{
 "cells": [
  {
   "cell_type": "code",
   "execution_count": 1,
   "id": "c2157cbc-23ff-4ba6-832d-81d102dc79ba",
   "metadata": {},
   "outputs": [
    {
     "name": "stdout",
     "output_type": "stream",
     "text": [
      "55\n"
     ]
    }
   ],
   "source": [
    "total=0\n",
    "i=1\n",
    "while i < 11:\n",
    "    total += i\n",
    "    i += 1\n",
    "print(total)"
   ]
  },
  {
   "cell_type": "code",
   "execution_count": 5,
   "id": "917639b0-c057-4c99-8230-36a1c2d8c1e8",
   "metadata": {},
   "outputs": [
    {
     "name": "stdout",
     "output_type": "stream",
     "text": [
      "0부터 100까지의 짝수합: 2550\n"
     ]
    }
   ],
   "source": [
    "i=1\n",
    "total=0\n",
    "while i < 101:\n",
    "    if i % 2 ==0:\n",
    "        total += i\n",
    "    i += 1\n",
    "print(\"0부터 100까지의 짝수합: %d\" %total)"
   ]
  },
  {
   "cell_type": "code",
   "execution_count": 8,
   "id": "3581338b-c127-4561-bab3-bfb7159ef999",
   "metadata": {},
   "outputs": [
    {
     "name": "stdin",
     "output_type": "stream",
     "text": [
      "충전 또는 사용한 연료를 +/-와 함께 입력하시오:  -450\n"
     ]
    },
    {
     "name": "stdout",
     "output_type": "stream",
     "text": [
      "현재 탱크의 양은 50 입니다.\n"
     ]
    },
    {
     "name": "stdin",
     "output_type": "stream",
     "text": [
      "충전 또는 사용한 연료를 +/-와 함께 입력하시오:  -10\n"
     ]
    },
    {
     "name": "stdout",
     "output_type": "stream",
     "text": [
      "현재 탱크의 양은 40 입니다.\n",
      "연료가 10%미만이니 충전하세요!\n"
     ]
    }
   ],
   "source": [
    "초기연료 = 500\n",
    "while 초기연료 >= 50:\n",
    "    fuel=int(input(\"충전 또는 사용한 연료를 +/-와 함께 입력하시오: \"))\n",
    "    초기연료 += fuel\n",
    "    print(\"현재 탱크의 양은 %d 입니다.\" %초기연료)\n",
    "\n",
    "print(\"연료가 10%미만이니 충전하세요!\")\n",
    "    \n",
    "    "
   ]
  },
  {
   "cell_type": "code",
   "execution_count": null,
   "id": "bdfcc933-142d-4ae2-bba0-775b4f6c989b",
   "metadata": {},
   "outputs": [],
   "source": [
    "while True :\n",
    "    a = int(input(\"더할 첫 번째 수를 입력하세요: \"))\n",
    "    b = int(input(\"더할 두 번째 수를 입력하세요: \"))\n",
    "    hap = a + b\n",
    "    print(\"%d + %d = %d\" %(a,b,hap))"
   ]
  },
  {
   "cell_type": "code",
   "execution_count": null,
   "id": "cc47c3b9-3ff4-42e3-94ca-cdaaccf96d8f",
   "metadata": {},
   "outputs": [],
   "source": [
    "while True :\n",
    "    a = int(input(\"더할 첫 번째 수를 입력하세요: \"))\n",
    "    if a == 0:\n",
    "        break\n",
    "    b = int(input(\"더할 두 번째 수를 입력하세요: \"))\n",
    "    hap = a + b\n",
    "    print(\"%d + %d = %d\" %(a,b,hap))\n",
    "\n",
    "print(\"0을 입력해 반복문을 탈출했습니다.\")"
   ]
  },
  {
   "cell_type": "code",
   "execution_count": null,
   "id": "566d968a-ccfd-4519-a995-2a18af3185c2",
   "metadata": {},
   "outputs": [],
   "source": [
    "while True :\n",
    "    a = int(input(\"계산할 첫 번째 수를 입력하세요: \"))\n",
    "    b = int(input(\"계산할 두 번째 수를 입력하세요: \"))\n",
    "    ch = input(\"계산할 연산자를 입력하세요: \")\n",
    "\n",
    "    if ch == \"+\":\n",
    "        print(\"%d + %d = %d\" %(a,b,a+b))\n",
    "    elif ch == \"-\":\n",
    "        print(\"%d - %d = %d\" %(a,b,a-b))\n",
    "    elif ch == \"*\":\n",
    "        print(\"%d * %d = %d\" %(a,b,a*b))\n",
    "    elif ch == \"/\":\n",
    "        print(\"%d / %d = %d\" %(a,b,a/b))\n",
    "    elif ch == \"%\":\n",
    "        print(\"%d % %d = %d\" %(a,b,a%b))\n",
    "    elif ch == \"//\":\n",
    "        print(\"%d // %d = %d\" %(a,b,a//b))\n",
    "    elif ch == \"**\":\n",
    "        print(\"%d ** %d = %d\" %(a,b,a**b))\n",
    "    else:\n",
    "        print(\"연산자를 잘못 입력했습니다.\")\n",
    "        break"
   ]
  },
  {
   "cell_type": "code",
   "execution_count": null,
   "id": "9b2f7b47-3dc0-4955-bd7e-e515f068b03d",
   "metadata": {},
   "outputs": [],
   "source": [
    "hap = 0\n",
    "i=1\n",
    "while i < 101:\n",
    "    if i%3 == 0:\n",
    "        continue\n",
    "    hap += i\n",
    "    i += 1\n",
    "print(\"1~100의 합계(3의 배수 제외): %d\" %hap)"
   ]
  },
  {
   "cell_type": "code",
   "execution_count": null,
   "id": "77365ed5-490a-47fd-afaf-1409738e05d6",
   "metadata": {},
   "outputs": [],
   "source": []
  }
 ],
 "metadata": {
  "kernelspec": {
   "display_name": "Python 3 (ipykernel)",
   "language": "python",
   "name": "python3"
  },
  "language_info": {
   "codemirror_mode": {
    "name": "ipython",
    "version": 3
   },
   "file_extension": ".py",
   "mimetype": "text/x-python",
   "name": "python",
   "nbconvert_exporter": "python",
   "pygments_lexer": "ipython3",
   "version": "3.12.5"
  }
 },
 "nbformat": 4,
 "nbformat_minor": 5
}
