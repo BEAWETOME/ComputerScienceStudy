{
 "cells": [
  {
   "cell_type": "code",
   "execution_count": 2,
   "id": "2734cb85-284e-4862-83d0-2efcd6d439b1",
   "metadata": {},
   "outputs": [
    {
     "name": "stdin",
     "output_type": "stream",
     "text": [
      "사용자의 나이를 입력하세요. 22\n",
      "사용자의 키(단위:cm)를 입력하세요. 181\n"
     ]
    },
    {
     "data": {
      "text/plain": [
       "'롤러코스터를 타셔도 좋습니다.'"
      ]
     },
     "execution_count": 2,
     "metadata": {},
     "output_type": "execute_result"
    }
   ],
   "source": [
    "age = int(input(\"사용자의 나이를 입력하세요.\"))\n",
    "height = int(input(\"사용자의 키(단위:cm)를 입력하세요.\"))\n",
    "\"롤러코스터를 타셔도 좋습니다.\" if age >= 10 and height >= 140 else \"롤러코스터를 타실 수 없습니다.\"\n",
    "\n"
   ]
  },
  {
   "cell_type": "code",
   "execution_count": 11,
   "id": "7ccb46aa-ca47-474b-a62d-a6a50c13d924",
   "metadata": {},
   "outputs": [
    {
     "name": "stdin",
     "output_type": "stream",
     "text": [
      "사용자의 나이를 입력하세요. 22\n",
      "사용자의 키(단위:cm)를 입력하세요. 181\n"
     ]
    },
    {
     "name": "stdout",
     "output_type": "stream",
     "text": [
      "롤러코스터를 타셔도 좋습니다.\n"
     ]
    }
   ],
   "source": [
    "age = int(input(\"사용자의 나이를 입력하세요.\"))\n",
    "height = int(input(\"사용자의 키(단위:cm)를 입력하세요.\"))\n",
    "if age >= 10 :\n",
    "    if height >= 140 :\n",
    "        print(\"롤러코스터를 타셔도 좋습니다.\")\n",
    "    else :\n",
    "        print(\"키가 조건에 맞지 않아 탑승하지 못합니다\")\n",
    "else :\n",
    "    if height < 140 :\n",
    "        print(\"두 조건 모두 맞지 않아 탑승하지 못합니다.\")\n",
    "    else :\n",
    "        print(\"나이가 조건에 맞지 않아 탑승하지 못합니다.\")"
   ]
  },
  {
   "cell_type": "code",
   "execution_count": 12,
   "id": "e4d34dde-606d-4930-af1e-e70cbfbd60c2",
   "metadata": {},
   "outputs": [
    {
     "name": "stdin",
     "output_type": "stream",
     "text": [
      "사용자의 점수를 입력하세요. 90\n"
     ]
    },
    {
     "name": "stdout",
     "output_type": "stream",
     "text": [
      "A\n"
     ]
    }
   ],
   "source": [
    "score = int(input(\"사용자의 점수를 입력하세요.\"))\n",
    "if score >= 90 :\n",
    "    print(\"A\")\n",
    "elif score >= 80:\n",
    "    print(\"B\")\n",
    "elif score >= 70:\n",
    "    print(\"C\")\n",
    "elif score >= 60:\n",
    "    print(\"D\")\n",
    "else :\n",
    "    print(\"F\")"
   ]
  },
  {
   "cell_type": "code",
   "execution_count": 17,
   "id": "e5d9df48-02c2-4788-acb0-4b5817ece666",
   "metadata": {},
   "outputs": [
    {
     "name": "stdin",
     "output_type": "stream",
     "text": [
      "사용자의 점수를 입력하세요. 80\n"
     ]
    },
    {
     "name": "stdout",
     "output_type": "stream",
     "text": [
      "B\n"
     ]
    }
   ],
   "source": [
    "score = int(input(\"사용자의 점수를 입력하세요.\"))\n",
    "if score < 60:\n",
    "    print(\"F\")\n",
    "elif score < 70:\n",
    "    print(\"D\")\n",
    "elif score < 80:\n",
    "    print(\"C\")\n",
    "elif score < 90:\n",
    "    print(\"B\")\n",
    "else:\n",
    "    print(\"A\")"
   ]
  },
  {
   "cell_type": "code",
   "execution_count": 19,
   "id": "e943e4fe-2637-4ce5-9fd2-bf30a695a942",
   "metadata": {},
   "outputs": [
    {
     "name": "stdin",
     "output_type": "stream",
     "text": [
      "마음에 드는 옷이 있습니까?(예/아니요) 예\n",
      "10만원 이하인가요?(예/아니요) 예\n"
     ]
    },
    {
     "name": "stdout",
     "output_type": "stream",
     "text": [
      "구매\n"
     ]
    }
   ],
   "source": [
    "answer = input(\"마음에 드는 옷이 있습니까?(예/아니요)\")\n",
    "if(answer == \"예\"):\n",
    "    price = input(\"10만원 이하인가요?(예/아니요)\")\n",
    "    if(price == \"예\"):\n",
    "        print(\"구매\")\n",
    "    elif(price == \"아니요\"):\n",
    "        print(\"구매 포기\")\n",
    "elif(answer == \"아니요\"):\n",
    "    print(\"마음에 드는 옷이 없습니다.\")\n",
    "else:\n",
    "    print(\"입력 값을 다시 확인해주세요.\")"
   ]
  },
  {
   "cell_type": "code",
   "execution_count": 20,
   "id": "6b4f9468-0e12-4acb-83b7-cdf72849861d",
   "metadata": {},
   "outputs": [
    {
     "name": "stdin",
     "output_type": "stream",
     "text": [
      "마음에 드는 옷이 있습니까?(예/아니요) 예\n",
      "10만원 이하인가요?(예/아니요) 아니요\n"
     ]
    },
    {
     "name": "stdout",
     "output_type": "stream",
     "text": [
      "구매 포기\n"
     ]
    }
   ],
   "source": [
    "answer = input(\"마음에 드는 옷이 있습니까?(예/아니요)\")\n",
    "if(answer == \"예\"):\n",
    "    price = input(\"10만원 이하인가요?(예/아니요)\")\n",
    "    if(price == \"예\"):\n",
    "        print(\"구매\")\n",
    "    elif(price == \"아니요\"):\n",
    "        print(\"구매 포기\")\n",
    "elif(answer == \"아니요\"):\n",
    "    print(\"마음에 드는 옷이 없습니다.\")\n",
    "else:\n",
    "    print(\"입력 값을 다시 확인해주세요.\")"
   ]
  },
  {
   "cell_type": "code",
   "execution_count": 22,
   "id": "73dfd44c-1c76-4011-a9c4-cd5ddc7ce855",
   "metadata": {},
   "outputs": [
    {
     "name": "stdin",
     "output_type": "stream",
     "text": [
      "마음에 드는 옷이 있습니까?(예/아니요) 아니요\n"
     ]
    },
    {
     "name": "stdout",
     "output_type": "stream",
     "text": [
      "마음에 드는 옷이 없습니다.\n"
     ]
    }
   ],
   "source": [
    "answer = input(\"마음에 드는 옷이 있습니까?(예/아니요)\")\n",
    "if(answer == \"예\"):\n",
    "    price = input(\"10만원 이하인가요?(예/아니요)\")\n",
    "    if(price == \"예\"):\n",
    "        print(\"구매\")\n",
    "    elif(price == \"아니요\"):\n",
    "        print(\"구매 포기\")\n",
    "elif(answer == \"아니요\"):\n",
    "    print(\"마음에 드는 옷이 없습니다.\")\n",
    "else:\n",
    "    print(\"입력 값을 다시 확인해주세요.\")"
   ]
  },
  {
   "cell_type": "code",
   "execution_count": 23,
   "id": "d422c56d-889d-4f26-a12f-0078bc29bb24",
   "metadata": {},
   "outputs": [
    {
     "name": "stdin",
     "output_type": "stream",
     "text": [
      "마음에 드는 옷이 있습니까?(예/아니요) XXX\n"
     ]
    },
    {
     "name": "stdout",
     "output_type": "stream",
     "text": [
      "입력 값을 다시 확인해주세요.\n"
     ]
    }
   ],
   "source": [
    "answer = input(\"마음에 드는 옷이 있습니까?(예/아니요)\")\n",
    "\n",
    "if(answer == \"예\"):\n",
    "    price = input(\"10만원 이하인가요?(예/아니요)\")\n",
    "    if(price == \"예\"):\n",
    "        print(\"구매\")\n",
    "    elif(price == \"아니요\"):\n",
    "        print(\"구매 포기\")\n",
    "    else :\n",
    "        print(\"입력 값을 다시 확인해주세요.\")\n",
    "        \n",
    "elif(answer == \"아니요\"):\n",
    "    print(\"더 찾아보세요.\")\n",
    "    \n",
    "else:\n",
    "    print(\"입력 값을 다시 확인해주세요.\")"
   ]
  },
  {
   "cell_type": "code",
   "execution_count": null,
   "id": "89d5f52e-c9b4-4da4-8a4f-f457b37f9584",
   "metadata": {},
   "outputs": [],
   "source": [
    "opr = input(\"연산자를 고르세요(ex 덧셈) \\n1: 덧셈, 2: 뺄셈, 3: 곱셈, 4:나눗셈\")\n",
    "ans1 = int(input(\"첫번째 값을 입력하세요: \"))\n",
    "ans2 = int(input(\"두번째 값을 입력하세요: \"))\n",
    "if opr == \"덧셈\":\n",
    "    print(ans1+ans2)\n",
    "elif opr == \"뺄셈\":\n",
    "    print(ans1-ans2)\n",
    "elif opr == \"곱셈\":\n",
    "    print(ans1*ans2)\n",
    "elif opr == \"나눗셈\":\n",
    "    print(ans1/ans2)\n",
    "else:\n",
    "    print(\"다시 입력해주세요\")"
   ]
  },
  {
   "cell_type": "code",
   "execution_count": null,
   "id": "2a6f7151-2bca-4359-ab0c-69ac21ad0fe2",
   "metadata": {},
   "outputs": [],
   "source": []
  }
 ],
 "metadata": {
  "kernelspec": {
   "display_name": "Python 3 (ipykernel)",
   "language": "python",
   "name": "python3"
  },
  "language_info": {
   "codemirror_mode": {
    "name": "ipython",
    "version": 3
   },
   "file_extension": ".py",
   "mimetype": "text/x-python",
   "name": "python",
   "nbconvert_exporter": "python",
   "pygments_lexer": "ipython3",
   "version": "3.12.5"
  }
 },
 "nbformat": 4,
 "nbformat_minor": 5
}
