{
 "cells": [
  {
   "cell_type": "code",
   "execution_count": null,
   "id": "576681ab-4274-4c08-a151-bb3825c81b53",
   "metadata": {},
   "outputs": [],
   "source": [
    "###7강_리스트###"
   ]
  },
  {
   "cell_type": "code",
   "execution_count": null,
   "id": "9a53f680-e6d6-4781-a37c-08662cd953fb",
   "metadata": {},
   "outputs": [],
   "source": []
  }
 ],
 "metadata": {
  "kernelspec": {
   "display_name": "Python 3 (ipykernel)",
   "language": "python",
   "name": "python3"
  },
  "language_info": {
   "codemirror_mode": {
    "name": "ipython",
    "version": 3
   },
   "file_extension": ".py",
   "mimetype": "text/x-python",
   "name": "python",
   "nbconvert_exporter": "python",
   "pygments_lexer": "ipython3",
   "version": "3.12.5"
  }
 },
 "nbformat": 4,
 "nbformat_minor": 5
}
