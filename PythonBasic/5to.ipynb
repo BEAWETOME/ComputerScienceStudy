{
 "cells": [
  {
   "cell_type": "code",
   "execution_count": 12,
   "id": "5e62fae9-d669-4c8d-b4b1-8e284bd1d006",
   "metadata": {},
   "outputs": [
    {
     "name": "stdin",
     "output_type": "stream",
     "text": [
      "비밀번호는 무엇입니까? 0610\n"
     ]
    },
    {
     "name": "stdout",
     "output_type": "stream",
     "text": [
      "문이 열렸습니다.\n"
     ]
    }
   ],
   "source": [
    "password = \"0610\"\n",
    "answer = input(\"비밀번호는 무엇입니까?\")\n",
    "if password==answer:\n",
    "    print(\"문이 열렸습니다.\")\n"
   ]
  },
  {
   "cell_type": "code",
   "execution_count": 7,
   "id": "d7e0ecb3-3607-4b87-a19d-0712b4cc1add",
   "metadata": {},
   "outputs": [
    {
     "data": {
      "text/plain": [
       "312"
      ]
     },
     "execution_count": 7,
     "metadata": {},
     "output_type": "execute_result"
    }
   ],
   "source": [
    "A = \"0312\"\n",
    "int(A)"
   ]
  },
  {
   "cell_type": "code",
   "execution_count": 11,
   "id": "ada64bf6-8ecc-40dc-adbd-b2fe48dce81c",
   "metadata": {},
   "outputs": [
    {
     "data": {
      "text/plain": [
       "'Turn on'"
      ]
     },
     "execution_count": 11,
     "metadata": {},
     "output_type": "execute_result"
    }
   ],
   "source": [
    "current_light = 50\n",
    "target_light = 60\n",
    "result = \"Turn on\" if current_light < target_light else \"Turn off\"\n",
    "result\n",
    "    "
   ]
  },
  {
   "cell_type": "code",
   "execution_count": 16,
   "id": "92e10c75-e12b-42f4-9931-864a5e531225",
   "metadata": {},
   "outputs": [
    {
     "name": "stdin",
     "output_type": "stream",
     "text": [
      "나이를 입력하세요: 39\n"
     ]
    },
    {
     "name": "stdout",
     "output_type": "stream",
     "text": [
      "해당사항 없습니다.\n"
     ]
    }
   ],
   "source": [
    "age = int(input(\"나이를 입력하세요:\"))\n",
    "if age <= 19:\n",
    "    print(\"할인되었습니다.\")\n",
    "else :\n",
    "    print(\"해당사항 없습니다.\")"
   ]
  },
  {
   "cell_type": "code",
   "execution_count": 17,
   "id": "94b0a7f9-db34-4d33-bfae-f9b4af1562bd",
   "metadata": {},
   "outputs": [
    {
     "name": "stdin",
     "output_type": "stream",
     "text": [
      "나이를 입력하세요: 17\n"
     ]
    },
    {
     "name": "stdout",
     "output_type": "stream",
     "text": [
      "할인되었습니다.\n"
     ]
    }
   ],
   "source": [
    "age = int(input(\"나이를 입력하세요:\"))\n",
    "if age <= 19:\n",
    "    print(\"할인되었습니다.\")\n",
    "else :\n",
    "    print(\"해당사항 없습니다.\")"
   ]
  },
  {
   "cell_type": "code",
   "execution_count": 19,
   "id": "73100e13-f54f-4b5b-a363-110b86761f47",
   "metadata": {},
   "outputs": [
    {
     "name": "stdin",
     "output_type": "stream",
     "text": [
      "본인의 이름을 입력하세요: 이현진\n"
     ]
    },
    {
     "name": "stdout",
     "output_type": "stream",
     "text": [
      "본인입니다.\n"
     ]
    }
   ],
   "source": [
    "name = \"이현진\"\n",
    "answer = input(\"본인의 이름을 입력하세요:\")\n",
    "if name == answer:\n",
    "    print(\"본인입니다.\")\n",
    "else :\n",
    "    print(\"본인이 아닙니다.\")"
   ]
  },
  {
   "cell_type": "code",
   "execution_count": 21,
   "id": "d36758b6-2a9a-4742-9fa2-30fb4dcd47dd",
   "metadata": {},
   "outputs": [
    {
     "name": "stdin",
     "output_type": "stream",
     "text": [
      "정수를 하나 입력하세요: 3\n"
     ]
    },
    {
     "name": "stdout",
     "output_type": "stream",
     "text": [
      "입력한 수 3는 홀수입니다\n"
     ]
    }
   ],
   "source": [
    "integer = int(input(\"정수를 하나 입력하세요:\"))\n",
    "if integer%2 == 0 :\n",
    "    print(\"입력한 수 %d는 짝수입니다\" %integer)\n",
    "else :\n",
    "    print(\"입력한 수 %d는 홀수입니다\" %integer)"
   ]
  },
  {
   "cell_type": "code",
   "execution_count": 23,
   "id": "f3d59f4c-949f-4147-bbc2-744df3c7b40f",
   "metadata": {},
   "outputs": [
    {
     "name": "stdin",
     "output_type": "stream",
     "text": [
      "키 입력:  181\n"
     ]
    },
    {
     "name": "stdout",
     "output_type": "stream",
     "text": [
      "height\n",
      "<class 'str'>\n"
     ]
    }
   ],
   "source": [
    "height = input(\"키 입력: \")\n",
    "#문자열 타입이기 때문에 대수비교를위해 int로 변환해야함\n",
    "print(\"height\")\n",
    "print(type(height))"
   ]
  },
  {
   "cell_type": "code",
   "execution_count": 25,
   "id": "68a648a6-2dde-4866-81a9-1baa5bacec8d",
   "metadata": {},
   "outputs": [
    {
     "name": "stdin",
     "output_type": "stream",
     "text": [
      "정수를 하나 입력하세요: 5\n"
     ]
    },
    {
     "name": "stdout",
     "output_type": "stream",
     "text": [
      "입력한 수 5는 홀수입니다\n"
     ]
    }
   ],
   "source": [
    "integer = int(input(\"정수를 하나 입력하세요:\"))\n",
    "result = \"입력한 수 %d는 짝수입니다.\"%integer if integer%2==0 else \"입력한 수 %d는 홀수입니다.\"%integer\n",
    "print(result)"
   ]
  },
  {
   "cell_type": "code",
   "execution_count": null,
   "id": "b750b672-127b-4c96-8e10-e74da9a63dc9",
   "metadata": {},
   "outputs": [],
   "source": []
  }
 ],
 "metadata": {
  "kernelspec": {
   "display_name": "Python 3 (ipykernel)",
   "language": "python",
   "name": "python3"
  },
  "language_info": {
   "codemirror_mode": {
    "name": "ipython",
    "version": 3
   },
   "file_extension": ".py",
   "mimetype": "text/x-python",
   "name": "python",
   "nbconvert_exporter": "python",
   "pygments_lexer": "ipython3",
   "version": "3.12.5"
  }
 },
 "nbformat": 4,
 "nbformat_minor": 5
}
