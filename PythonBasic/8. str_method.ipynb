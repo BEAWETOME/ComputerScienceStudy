{
 "cells": [
  {
   "cell_type": "code",
   "execution_count": 10,
   "id": "c999c9cd-2175-4347-94ce-0a20698ba297",
   "metadata": {},
   "outputs": [
    {
     "name": "stdout",
     "output_type": "stream",
     "text": [
      "파#썬#완#재#있#요"
     ]
    }
   ],
   "source": [
    "#self study 8-1\n",
    "\n",
    "word = '파이썬은완전재미있어요'\n",
    "long = len(word)\n",
    "\n",
    "for i in range(long):\n",
    "    if i%2==0:\n",
    "        print(word[i],end='')\n",
    "    elif i%2==1:\n",
    "        print('#',end='')"
   ]
  },
  {
   "cell_type": "code",
   "execution_count": 18,
   "id": "0ea12487-4779-4e0c-aeab-7ab4854d40e9",
   "metadata": {},
   "outputs": [
    {
     "name": "stdin",
     "output_type": "stream",
     "text": [
      "문자열을 입력하세요 안녕하세요\n"
     ]
    },
    {
     "name": "stdout",
     "output_type": "stream",
     "text": [
      "안녕하세요 요세하녕안\n"
     ]
    }
   ],
   "source": [
    "instr, outstr = \"\",\"\"\n",
    "count, i = 0,0\n",
    "\n",
    "instr = input('문자열을 입력하세요')\n",
    "count=len(instr)\n",
    "\n",
    "for i in range(0,count):\n",
    "    outstr += instr[count-(i+1)]\n",
    "\n",
    "print(instr,outstr)"
   ]
  },
  {
   "cell_type": "code",
   "execution_count": 17,
   "id": "6930676c-2054-4c66-bdca-c7fe69bbe6c7",
   "metadata": {},
   "outputs": [
    {
     "name": "stdin",
     "output_type": "stream",
     "text": [
      "문자열을 입력하세요 안녕하세요\n"
     ]
    },
    {
     "name": "stdout",
     "output_type": "stream",
     "text": [
      "안녕하세요 요세하녕안\n"
     ]
    }
   ],
   "source": [
    "in_str = input('문자열을 입력하세요')\n",
    "out_str=in_str[::-1]\n",
    "print(in_str,out_str)"
   ]
  },
  {
   "cell_type": "code",
   "execution_count": 2,
   "id": "4de2a575-2b8f-4f14-97ff-9231c617647e",
   "metadata": {},
   "outputs": [
    {
     "data": {
      "text/plain": [
       "['사이사이', '오이오이', '그이그이']"
      ]
     },
     "execution_count": 2,
     "metadata": {},
     "output_type": "execute_result"
    }
   ],
   "source": [
    "ss = '사이사이  오이오이  그이그이'\n",
    "ss.split()"
   ]
  },
  {
   "cell_type": "code",
   "execution_count": 3,
   "id": "cea8fc1d-9397-428e-9d40-3cf747db4964",
   "metadata": {},
   "outputs": [
    {
     "data": {
      "text/plain": [
       "'사!이!사!이! ! !오!이!오!이! ! !그!이!그!이'"
      ]
     },
     "execution_count": 3,
     "metadata": {},
     "output_type": "execute_result"
    }
   ],
   "source": [
    "'!'.join(ss)"
   ]
  },
  {
   "cell_type": "code",
   "execution_count": 4,
   "id": "00dc58e0-0b22-4945-9eaf-738fb7aa6b6a",
   "metadata": {},
   "outputs": [
    {
     "data": {
      "text/plain": [
       "['사이사이  오이오이 ', '그이그이']"
      ]
     },
     "execution_count": 4,
     "metadata": {},
     "output_type": "execute_result"
    }
   ],
   "source": [
    "ss.rsplit(' ',1)"
   ]
  },
  {
   "cell_type": "code",
   "execution_count": 7,
   "id": "6aeced12-7162-465a-9581-bede201c0825",
   "metadata": {},
   "outputs": [
    {
     "name": "stdout",
     "output_type": "stream",
     "text": [
      "[1, 8, 5, 7]\n"
     ]
    },
    {
     "data": {
      "text/plain": [
       "'1857'"
      ]
     },
     "execution_count": 7,
     "metadata": {},
     "output_type": "execute_result"
    }
   ],
   "source": [
    "#실습1\n",
    "import random\n",
    "\n",
    "otp=random.sample([1,2,3,4,5,6,7,8,9],4)\n",
    "otp_join,i='',0\n",
    "print(otp)\n",
    "for i in range(len(otp)):\n",
    "    otp_join+=str(otp[i])\n",
    "\n",
    "otp_join"
   ]
  },
  {
   "cell_type": "code",
   "execution_count": 5,
   "id": "0e9a3a4c-e590-42c1-b3b8-b56883088c5a",
   "metadata": {},
   "outputs": [
    {
     "name": "stdout",
     "output_type": "stream",
     "text": [
      "[6, 0, 4, 1]\n",
      "6041\n"
     ]
    }
   ],
   "source": [
    "import random\n",
    "\n",
    "otp=''\n",
    "pw = random.sample(range(0,10),4)\n",
    "print(pw)\n",
    "for i in range(len(pw)):\n",
    "    otp += str(pw[i])\n",
    "print(otp)"
   ]
  },
  {
   "cell_type": "code",
   "execution_count": 14,
   "id": "5bb72c56-bb3d-4517-95d0-bcc880626ebc",
   "metadata": {},
   "outputs": [
    {
     "name": "stdout",
     "output_type": "stream",
     "text": [
      "['2', '1', '4', '3']\n",
      "2143\n"
     ]
    }
   ],
   "source": [
    "import random\n",
    "\n",
    "otp=''\n",
    "otplist= random.sample(\"0123456789\",4)\n",
    "print(otplist)\n",
    "otp=''.join(otplist)\n",
    "print(otp)"
   ]
  },
  {
   "cell_type": "code",
   "execution_count": null,
   "id": "c4401c33-7572-4898-854f-f57b2b92d05b",
   "metadata": {},
   "outputs": [],
   "source": []
  },
  {
   "cell_type": "code",
   "execution_count": null,
   "id": "5906bd41-c341-449b-8024-e8d6aee8152e",
   "metadata": {},
   "outputs": [],
   "source": []
  },
  {
   "cell_type": "code",
   "execution_count": 21,
   "id": "e6fbfc74-74ce-4b19-8fce-6483d6322fbe",
   "metadata": {},
   "outputs": [
    {
     "name": "stdin",
     "output_type": "stream",
     "text": [
      "날짜(연/월/일) 입력:  2024/11/11\n"
     ]
    },
    {
     "name": "stdout",
     "output_type": "stream",
     "text": [
      "2034년 11월 11일\n"
     ]
    }
   ],
   "source": [
    "#연/월/일 --> 10년 후 연/월/일\n",
    "ss = input('날짜(연/월/일) 입력: ')\n",
    "\n",
    "ss_list = ss.split('/')\n",
    "print((str(int(ss_list[0])+10))+\"년\", end=' ')\n",
    "print(ss_list[1]+\"월\", end=' ')\n",
    "print(ss_list[2]+\"일\")"
   ]
  },
  {
   "cell_type": "code",
   "execution_count": 22,
   "id": "19732d68-b792-4fbb-9d92-7a580d3dee0b",
   "metadata": {},
   "outputs": [
    {
     "name": "stdout",
     "output_type": "stream",
     "text": [
      "['Half', 'of', 'my', 'heart', 'is', 'in', 'Havana']\n",
      "[('Half', 'HALF'), ('of', 'OF'), ('my', 'MY'), ('heart', 'HEART'), ('is', 'IS'), ('in', 'IN'), ('Havana', 'HAVANA')]\n"
     ]
    }
   ],
   "source": [
    "#실습 2\n",
    "lyrics = 'Half of my heart is in Havana'\n",
    "word = []\n",
    "split_lyrics = lyrics.split(' ')\n",
    "print(split_lyrics)\n",
    "\n",
    "for i in split_lyrics:\n",
    "    word.append((i,i.upper()))\n",
    "\n",
    "print(word)"
   ]
  },
  {
   "cell_type": "code",
   "execution_count": 24,
   "id": "95a8d0b6-3569-4555-b90b-6b9301f9fb4c",
   "metadata": {},
   "outputs": [
    {
     "name": "stdout",
     "output_type": "stream",
     "text": [
      "[('Half', 'HALF'), ('of', 'OF'), ('my', 'MY'), ('heart', 'HEART'), ('is', 'IS'), ('in', 'IN'), ('Havana', 'HAVANA')]\n"
     ]
    }
   ],
   "source": [
    "lyrics1 = 'Half of my heart is in Havana'\n",
    "word1 = []\n",
    "for i in lyrics1.split():\n",
    "    word1.append((i,i.upper()))\n",
    "print(word1)"
   ]
  },
  {
   "cell_type": "code",
   "execution_count": 25,
   "id": "fa4a6a0b-ea1d-42b9-91b6-487e4ea79045",
   "metadata": {},
   "outputs": [
    {
     "data": {
      "text/plain": [
       "2"
      ]
     },
     "execution_count": 25,
     "metadata": {},
     "output_type": "execute_result"
    }
   ],
   "source": [
    "ss = '파이썬 공부는 즐겁습니다. 물론 모든 공부가 다 재미있지는 않죠. ^^'\n",
    "\n",
    "ss.count('공부')"
   ]
  },
  {
   "cell_type": "code",
   "execution_count": 27,
   "id": "bc37154c-fa05-49ae-99ba-b7515ecc83c0",
   "metadata": {},
   "outputs": [
    {
     "data": {
      "text/plain": [
       "(4, 21)"
      ]
     },
     "execution_count": 27,
     "metadata": {},
     "output_type": "execute_result"
    }
   ],
   "source": [
    "ss.find('공부'),ss.rfind('공부') #왼쪽부터, 오른쪽부터"
   ]
  },
  {
   "cell_type": "code",
   "execution_count": 29,
   "id": "08cea77d-75bd-4de8-999d-ffbac12a21ff",
   "metadata": {},
   "outputs": [
    {
     "data": {
      "text/plain": [
       "21"
      ]
     },
     "execution_count": 29,
     "metadata": {},
     "output_type": "execute_result"
    }
   ],
   "source": [
    "ss.find('공부',5) #왼쪽부터, 인덱스 5번부터 찾기 시작"
   ]
  },
  {
   "cell_type": "code",
   "execution_count": 35,
   "id": "c2cb4dc6-44f6-485f-ac46-88525cb81afa",
   "metadata": {},
   "outputs": [
    {
     "data": {
      "text/plain": [
       "-1"
      ]
     },
     "execution_count": 35,
     "metadata": {},
     "output_type": "execute_result"
    }
   ],
   "source": [
    "ss.find('없다') #오류나지 않고 그냥 -1"
   ]
  },
  {
   "cell_type": "code",
   "execution_count": 40,
   "id": "64ebc857-0cba-480e-822f-1c2a72b081a3",
   "metadata": {},
   "outputs": [
    {
     "data": {
      "text/plain": [
       "4"
      ]
     },
     "execution_count": 40,
     "metadata": {},
     "output_type": "execute_result"
    }
   ],
   "source": [
    "ss.index('공부') #없는것은 오류남(find와의 차이)"
   ]
  },
  {
   "cell_type": "code",
   "execution_count": 41,
   "id": "1cc56ee4-b9f7-4131-8923-671b58527cc6",
   "metadata": {},
   "outputs": [
    {
     "data": {
      "text/plain": [
       "(True, False, True)"
      ]
     },
     "execution_count": 41,
     "metadata": {},
     "output_type": "execute_result"
    }
   ],
   "source": [
    "ss.startswith('파이썬'),ss.startswith('파이썬',10),ss.endswith('^^')"
   ]
  },
  {
   "cell_type": "code",
   "execution_count": 49,
   "id": "9ec428d6-a76c-44e7-9408-60d272a0f924",
   "metadata": {},
   "outputs": [
    {
     "name": "stdin",
     "output_type": "stream",
     "text": [
      "문자열 입력 --> Hello Python)\n"
     ]
    },
    {
     "name": "stdout",
     "output_type": "stream",
     "text": [
      "(Hello Python)\n"
     ]
    }
   ],
   "source": [
    "sss = input('문자열 입력 -->')\n",
    "ss_=''\n",
    "if sss.startswith('(')==False:\n",
    "    sss= '('+sss\n",
    "if sss.endswith(')')==False:\n",
    "    sss=sss+')'\n",
    "print(sss)"
   ]
  },
  {
   "cell_type": "code",
   "execution_count": 56,
   "id": "7edee75d-51c5-4207-b9b7-f3c2c45219a3",
   "metadata": {},
   "outputs": [
    {
     "data": {
      "text/plain": [
       "'가나다라마바사아자차카타파하'"
      ]
     },
     "execution_count": 56,
     "metadata": {},
     "output_type": "execute_result"
    }
   ],
   "source": [
    "text = '!!??가나다라마바사아자차카타파하??@@'\n",
    "\n",
    "text.strip('!?@') # ' '<--이 안에 있는 포함된 양쪽에 있는 문자 제거"
   ]
  },
  {
   "cell_type": "code",
   "execution_count": 60,
   "id": "ab3e731b-d5b0-4201-bab7-3e690bd0723a",
   "metadata": {},
   "outputs": [
    {
     "data": {
      "text/plain": [
       "'!!??가나다라마바사아자차카타파하'"
      ]
     },
     "execution_count": 60,
     "metadata": {},
     "output_type": "execute_result"
    }
   ],
   "source": [
    "text.rstrip('!?@')"
   ]
  },
  {
   "cell_type": "code",
   "execution_count": 69,
   "id": "812e61bd-1963-4e4d-a870-00816a412e58",
   "metadata": {},
   "outputs": [
    {
     "name": "stdout",
     "output_type": "stream",
     "text": [
      "파이썬\n"
     ]
    }
   ],
   "source": [
    "#SELF STUDY 8-2\n",
    "inStr = '<<파<<이>>썬>>>'\n",
    "outStr = ''\n",
    "\n",
    "for i in inStr.strip('<>'):\n",
    "    if i != '<' and i != '>':\n",
    "        outStr += i\n",
    "print(outStr)"
   ]
  },
  {
   "cell_type": "code",
   "execution_count": 3,
   "id": "9e9ccfb5-a83c-4714-919e-172f215ed74c",
   "metadata": {},
   "outputs": [
    {
     "name": "stdin",
     "output_type": "stream",
     "text": [
      "문자열을 입력하세요: korea internet security agency\n"
     ]
    },
    {
     "data": {
      "text/plain": [
       "'KISA'"
      ]
     },
     "execution_count": 3,
     "metadata": {},
     "output_type": "execute_result"
    }
   ],
   "source": [
    "#실습 3\n",
    "\n",
    "Ss=input('문자열을 입력하세요:')\n",
    "Ss_list=''\n",
    "for i in Ss.split():\n",
    "    Ss_list += i[0].upper()\n",
    "Ss_list"
   ]
  },
  {
   "cell_type": "code",
   "execution_count": 4,
   "id": "8ed880b8-b0c5-4963-8bec-8d7fe4aae15d",
   "metadata": {},
   "outputs": [
    {
     "name": "stdin",
     "output_type": "stream",
     "text": [
      "문자열을 입력하세요:  korea internet security agency\n"
     ]
    },
    {
     "name": "stdout",
     "output_type": "stream",
     "text": [
      "KISA\n"
     ]
    }
   ],
   "source": [
    "intstr=input('문자열을 입력하세요: ')\n",
    "outstr = [i[0].upper() for i in intstr.split()]\n",
    "print(\"\".join(outstr))"
   ]
  },
  {
   "cell_type": "code",
   "execution_count": 80,
   "id": "fed2bcb8-8701-45a0-b7e6-0eeef8755700",
   "metadata": {},
   "outputs": [
    {
     "name": "stdin",
     "output_type": "stream",
     "text": [
      "주민등록번호를 입력하세요: 000000-100000\n"
     ]
    },
    {
     "name": "stdout",
     "output_type": "stream",
     "text": [
      "남성입니다.\n"
     ]
    }
   ],
   "source": [
    "#실습 4\n",
    "\n",
    "Dd = input('주민등록번호를 입력하세요:')\n",
    "if Dd.split('-')[1].startswith('1'):\n",
    "    print('남성입니다.')\n",
    "else:\n",
    "    print('여성입니다.')"
   ]
  },
  {
   "cell_type": "code",
   "execution_count": 23,
   "id": "03dcee30-9960-4974-a311-7aa5be1e3c72",
   "metadata": {},
   "outputs": [
    {
     "name": "stdin",
     "output_type": "stream",
     "text": [
      "아무거나 입력하세요:  아아11\n"
     ]
    },
    {
     "name": "stdout",
     "output_type": "stream",
     "text": [
      "글자 + 숫자\n"
     ]
    }
   ],
   "source": [
    "intstr = input('아무거나 입력하세요: ')\n",
    "\n",
    "if intstr.isdigit():\n",
    "    print('숫자')\n",
    "elif intstr.isalpha():\n",
    "    print('글자')\n",
    "elif intstr.isalnum():\n",
    "    print('글자 + 숫자')\n",
    "else:\n",
    "    print('?')"
   ]
  },
  {
   "cell_type": "code",
   "execution_count": 84,
   "id": "6aeeac6c-ae68-4845-8dda-161762bd5716",
   "metadata": {},
   "outputs": [
    {
     "name": "stdin",
     "output_type": "stream",
     "text": [
      "문자열을 입력하세요:  안녕하세요 저는 123 파이썬 123 입니다\n"
     ]
    },
    {
     "name": "stdout",
     "output_type": "stream",
     "text": [
      " alphas:13개  digits:6개  spaces:5개 "
     ]
    }
   ],
   "source": [
    "#실습5\n",
    "dic = {'alphas':[],'digits':[],'spaces':[]}\n",
    "intstr = input('문자열을 입력하세요: ')\n",
    "\n",
    "for i in intstr:\n",
    "    if i.isalpha():\n",
    "        dic['alphas'].append(i)\n",
    "    elif i.isdigit():\n",
    "        dic['digits'].append(i)\n",
    "    elif i.isspace():\n",
    "        dic['spaces'].append(i)\n",
    "    else:\n",
    "        pass\n",
    "for i in dic:\n",
    "    print(f' {i}:{len(dic[i])}개', end=' ')"
   ]
  },
  {
   "cell_type": "code",
   "execution_count": 111,
   "id": "9dae0d8f-b549-4602-8905-c5951efd5e36",
   "metadata": {},
   "outputs": [
    {
     "name": "stdin",
     "output_type": "stream",
     "text": [
      "문자열을 입력하세요:  D  a    d\n"
     ]
    },
    {
     "name": "stdout",
     "output_type": "stream",
     "text": [
      "회문\n"
     ]
    }
   ],
   "source": [
    "#실습6\n",
    "a = input('문자열을 입력하세요: ').lower()\n",
    "b=''\n",
    "for i in a:\n",
    "    if i.isspace()==False:\n",
    "        b += i\n",
    "c = b[::-1]\n",
    "\n",
    "if c==b:\n",
    "    print('회문')\n",
    "else:\n",
    "    print('회문X')"
   ]
  },
  {
   "cell_type": "code",
   "execution_count": null,
   "id": "e213b541-8d4f-46e9-aad7-6778b86449d2",
   "metadata": {},
   "outputs": [],
   "source": []
  }
 ],
 "metadata": {
  "kernelspec": {
   "display_name": "Python 3 (ipykernel)",
   "language": "python",
   "name": "python3"
  },
  "language_info": {
   "codemirror_mode": {
    "name": "ipython",
    "version": 3
   },
   "file_extension": ".py",
   "mimetype": "text/x-python",
   "name": "python",
   "nbconvert_exporter": "python",
   "pygments_lexer": "ipython3",
   "version": "3.12.5"
  }
 },
 "nbformat": 4,
 "nbformat_minor": 5
}
