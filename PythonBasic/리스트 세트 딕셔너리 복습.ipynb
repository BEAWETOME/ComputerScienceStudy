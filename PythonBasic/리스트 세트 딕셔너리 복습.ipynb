{
 "cells": [
  {
   "cell_type": "code",
   "execution_count": 6,
   "id": "5f40226f-ea27-4063-9388-d1381b3f379a",
   "metadata": {},
   "outputs": [
    {
     "name": "stdout",
     "output_type": "stream",
     "text": [
      "동아리에 가입한 모든 학생:  {'kim', 'lee', 'choi', 'park', 'hwang'}\n",
      "두 동아리에 모두 가입한 학생:  {'park'}\n",
      "A동아리에만 가입한 학생:  {'kim', 'hwang'}\n",
      "B동아리에만 가입한 학생:  {'choi', 'lee'}\n",
      "A동아리에 'yang'회원이 새로 가입: \n",
      "B동아리에 'lee'회원이 탈퇴:\n"
     ]
    }
   ],
   "source": [
    "#추가문제\n",
    "\n",
    "clubA=(\"kim\",\"park\",\"hwang\")\n",
    "clubB=(\"park\",\"lee\",\"choi\")\n",
    "\n",
    "print(\"동아리에 가입한 모든 학생: \",set(clubA+clubB))\n",
    "print(\"두 동아리에 모두 가입한 학생: \",(set(clubA)&set(clubB)))\n",
    "print(\"A동아리에만 가입한 학생: \",(set(clubA)-set(clubB)))\n",
    "print(\"B동아리에만 가입한 학생: \",(set(clubB)-set(clubA)))\n",
    "print(\"A동아리에 'yang'회원이 새로 가입: \",) #변수.add()\n",
    "print(\"B동아리에 'lee'회원이 탈퇴:\",)"
   ]
  },
  {
   "cell_type": "code",
   "execution_count": null,
   "id": "6c94ce91-d6a9-454a-92de-e3b7a9348a27",
   "metadata": {},
   "outputs": [],
   "source": []
  }
 ],
 "metadata": {
  "kernelspec": {
   "display_name": "Python 3 (ipykernel)",
   "language": "python",
   "name": "python3"
  },
  "language_info": {
   "codemirror_mode": {
    "name": "ipython",
    "version": 3
   },
   "file_extension": ".py",
   "mimetype": "text/x-python",
   "name": "python",
   "nbconvert_exporter": "python",
   "pygments_lexer": "ipython3",
   "version": "3.12.5"
  }
 },
 "nbformat": 4,
 "nbformat_minor": 5
}
