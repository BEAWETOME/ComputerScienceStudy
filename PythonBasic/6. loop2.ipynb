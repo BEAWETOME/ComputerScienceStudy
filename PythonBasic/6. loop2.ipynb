{
 "cells": [
  {
   "cell_type": "code",
   "execution_count": 3,
   "id": "30520790-99d2-487a-be39-d4d7c2790e64",
   "metadata": {},
   "outputs": [
    {
     "name": "stdout",
     "output_type": "stream",
     "text": [
      "집가고싶다.\n",
      "집가고싶다.\n",
      "집가고싶다.\n"
     ]
    }
   ],
   "source": [
    "for i in range(0,3,1):\n",
    "    print(\"집가고싶다.\")"
   ]
  },
  {
   "cell_type": "code",
   "execution_count": 6,
   "id": "437453cb-0873-42dc-bbee-c7c6c83f8c2c",
   "metadata": {},
   "outputs": [
    {
     "name": "stdout",
     "output_type": "stream",
     "text": [
      "집가고싶다.\n",
      "집가고싶다.\n",
      "집가고싶다.\n"
     ]
    }
   ],
   "source": [
    "ans = [0,1,2]\n",
    "for i in [0,3,1]:\n",
    "    print(\"집가고싶다.\")"
   ]
  },
  {
   "cell_type": "code",
   "execution_count": null,
   "id": "b0a2069f-9cb8-42fa-9ebb-a5a498c429cb",
   "metadata": {},
   "outputs": [],
   "source": []
  },
  {
   "cell_type": "code",
   "execution_count": 16,
   "id": "090d4ccb-b096-47f1-8f70-37362186a217",
   "metadata": {},
   "outputs": [
    {
     "name": "stdout",
     "output_type": "stream",
     "text": [
      "홀수 카운트다운 9\n",
      "홀수 카운트다운 7\n",
      "홀수 카운트다운 5\n",
      "홀수 카운트다운 3\n",
      "홀수 카운트다운 1\n"
     ]
    }
   ],
   "source": [
    "for i in range(9,-1,-2):\n",
    "    print(\"홀수 카운트다운 %d\" %i)"
   ]
  },
  {
   "cell_type": "code",
   "execution_count": 25,
   "id": "b535bb85-927d-450b-8f92-554b0c494fac",
   "metadata": {},
   "outputs": [
    {
     "name": "stdout",
     "output_type": "stream",
     "text": [
      "55\n"
     ]
    }
   ],
   "source": [
    "hap=0\n",
    "for i in range(1,11,1):\n",
    "    hap = hap + i\n",
    "print(hap)"
   ]
  },
  {
   "cell_type": "code",
   "execution_count": 21,
   "id": "587be13b-57a8-4152-93ed-486aef2e3d59",
   "metadata": {},
   "outputs": [
    {
     "name": "stdout",
     "output_type": "stream",
     "text": [
      "735\n"
     ]
    }
   ],
   "source": [
    "#실습 1-1\n",
    "total = 0\n",
    "for i in range(0,101,7):\n",
    "    total += i\n",
    "print(total)"
   ]
  },
  {
   "cell_type": "code",
   "execution_count": null,
   "id": "3845747e-6579-4f66-8b87-12205dd01b13",
   "metadata": {},
   "outputs": [],
   "source": [
    "#실습 1-1(2)\n",
    "total = 0\n",
    "\n",
    "for i in range(0,101,7):\n",
    "    if i%==0:\n",
    "        total+=i\n",
    "\n",
    "print(total)"
   ]
  },
  {
   "cell_type": "code",
   "execution_count": null,
   "id": "b7eb8b32-39bf-46cd-8cf3-b6c263e3515c",
   "metadata": {},
   "outputs": [],
   "source": []
  },
  {
   "cell_type": "code",
   "execution_count": 38,
   "id": "3112be3a-6b4b-4427-94b3-b9435eeab6a6",
   "metadata": {},
   "outputs": [
    {
     "name": "stdin",
     "output_type": "stream",
     "text": [
      "값을 입력하세요 :  10\n"
     ]
    },
    {
     "name": "stdout",
     "output_type": "stream",
     "text": [
      "55\n"
     ]
    }
   ],
   "source": [
    "#실습 1-2\n",
    "end = int(input(\"값을 입력하세요 : \")) + 1\n",
    "total2 = 0\n",
    "i=0\n",
    "for i in range(1,end,1):\n",
    "    total2 += i\n",
    "print(total2)"
   ]
  },
  {
   "cell_type": "code",
   "execution_count": 92,
   "id": "dc1e3d08-d265-4c20-8e93-ffef609fafb8",
   "metadata": {},
   "outputs": [
    {
     "name": "stdout",
     "output_type": "stream",
     "text": [
      "0 1 1 2 3 5 8 13 21 34 "
     ]
    }
   ],
   "source": [
    "#실습 2-1\n",
    "a=0\n",
    "b=1\n",
    "for i in range(10):\n",
    "    print(a,end=' ')\n",
    "    a,b=b,a+b"
   ]
  },
  {
   "cell_type": "code",
   "execution_count": 58,
   "id": "b2eab493-f881-431a-99ce-ac81c2cd3ef1",
   "metadata": {},
   "outputs": [
    {
     "name": "stdin",
     "output_type": "stream",
     "text": [
      "수를 입력하세요:  5\n"
     ]
    },
    {
     "name": "stdout",
     "output_type": "stream",
     "text": [
      "5! = 120\n"
     ]
    }
   ],
   "source": [
    "#실습 2-2\n",
    "total=1\n",
    "num=int(input(\"수를 입력하세요: \"))+1\n",
    "for i in range(1,num,1):\n",
    "    total = total*i\n",
    "print(num-1,\"\\b! =\",total)"
   ]
  },
  {
   "cell_type": "code",
   "execution_count": 1,
   "id": "5860b3f0-72bf-4957-8d94-7ce7b26cd885",
   "metadata": {},
   "outputs": [
    {
     "name": "stdin",
     "output_type": "stream",
     "text": [
      "수를 입력하세요:  5\n"
     ]
    },
    {
     "name": "stdout",
     "output_type": "stream",
     "text": [
      "5! = 120\n"
     ]
    }
   ],
   "source": [
    "fact = 1\n",
    "num = int(input(\"수를 입력하세요: \"))\n",
    "\n",
    "for i in range(num,0,-1):\n",
    "    fact*= i\n",
    "print(\"%d! = %d\" %(num, fact))"
   ]
  },
  {
   "cell_type": "code",
   "execution_count": null,
   "id": "33e93c5b-16b5-4da8-ab09-bbdb54d442f3",
   "metadata": {},
   "outputs": [],
   "source": []
  },
  {
   "cell_type": "code",
   "execution_count": 55,
   "id": "fd8e8d04-0adf-40aa-96b3-4e9787eb6ac3",
   "metadata": {},
   "outputs": [
    {
     "name": "stdin",
     "output_type": "stream",
     "text": [
      "시작값을 입력하세요 :  2\n",
      "끝값을 입력하세요 :  300\n",
      "증가값을 입력하세요 :  3\n"
     ]
    },
    {
     "name": "stdout",
     "output_type": "stream",
     "text": [
      "2에서 300까지 3씩 중가사킨 값의 합계 :  15050\n"
     ]
    }
   ],
   "source": [
    "#실습 3-1\n",
    "total=0\n",
    "start=int(input(\"시작값을 입력하세요 : \"))\n",
    "end=int(input(\"끝값을 입력하세요 : \"))\n",
    "plus=int(input(\"증가값을 입력하세요 : \"))\n",
    "for i in range(start,end,plus):\n",
    "    total += i\n",
    "print(\"2에서 300까지 3씩 중가사킨 값의 합계 : \",total)"
   ]
  },
  {
   "cell_type": "code",
   "execution_count": 57,
   "id": "c9ea02a5-0a06-4bcf-a58f-338f755d4c86",
   "metadata": {},
   "outputs": [
    {
     "name": "stdin",
     "output_type": "stream",
     "text": [
      "단을 입력하세요 :  7\n"
     ]
    },
    {
     "name": "stdout",
     "output_type": "stream",
     "text": [
      "7 x 1 = 7\n",
      "7 x 2 = 14\n",
      "7 x 3 = 21\n",
      "7 x 4 = 28\n",
      "7 x 5 = 35\n",
      "7 x 6 = 42\n",
      "7 x 7 = 49\n",
      "7 x 8 = 56\n",
      "7 x 9 = 63\n"
     ]
    }
   ],
   "source": [
    "#실습 3-2\n",
    "dan=int(input(\"단을 입력하세요 : \"))\n",
    "for i in range(1,10,1):\n",
    "    print(dan,\"x\",i,\"=\",dan*i)"
   ]
  },
  {
   "cell_type": "code",
   "execution_count": 2,
   "id": "5d2fa18f-a6b1-4970-a9cc-b2c3bd6aaddf",
   "metadata": {},
   "outputs": [
    {
     "name": "stdout",
     "output_type": "stream",
     "text": [
      "중첩 for 문.(i값: 0, k값: 0)\n",
      "중첩 for 문.(i값: 0, k값: 1)\n",
      "중첩 for 문.(i값: 1, k값: 0)\n",
      "중첩 for 문.(i값: 1, k값: 1)\n",
      "중첩 for 문.(i값: 2, k값: 0)\n",
      "중첩 for 문.(i값: 2, k값: 1)\n",
      "\n"
     ]
    }
   ],
   "source": [
    "for i in range(0,3,1):\n",
    "    for k in range(0,2,1):\n",
    "        print(\"중첩 for 문.(i값:\",i,\"\\b, k값:\",k,\"\\b)\")\n",
    "\n"
   ]
  },
  {
   "cell_type": "code",
   "execution_count": 10,
   "id": "3c5d2311-7bbd-4b38-8ccd-7523a230fb2a",
   "metadata": {},
   "outputs": [
    {
     "name": "stdout",
     "output_type": "stream",
     "text": [
      "1 x 2 = 2 2 x 2 = 4 3 x 2 = 6 4 x 2 = 8 5 x 2 = 10 6 x 2 = 12 7 x 2 = 14 8 x 2 = 16 9 x 2 = 18 \n",
      "1 x 3 = 3 2 x 3 = 6 3 x 3 = 9 4 x 3 = 12 5 x 3 = 15 6 x 3 = 18 7 x 3 = 21 8 x 3 = 24 9 x 3 = 27 \n",
      "1 x 4 = 4 2 x 4 = 8 3 x 4 = 12 4 x 4 = 16 5 x 4 = 20 6 x 4 = 24 7 x 4 = 28 8 x 4 = 32 9 x 4 = 36 \n",
      "1 x 5 = 5 2 x 5 = 10 3 x 5 = 15 4 x 5 = 20 5 x 5 = 25 6 x 5 = 30 7 x 5 = 35 8 x 5 = 40 9 x 5 = 45 \n",
      "1 x 6 = 6 2 x 6 = 12 3 x 6 = 18 4 x 6 = 24 5 x 6 = 30 6 x 6 = 36 7 x 6 = 42 8 x 6 = 48 9 x 6 = 54 \n",
      "1 x 7 = 7 2 x 7 = 14 3 x 7 = 21 4 x 7 = 28 5 x 7 = 35 6 x 7 = 42 7 x 7 = 49 8 x 7 = 56 9 x 7 = 63 \n",
      "1 x 8 = 8 2 x 8 = 16 3 x 8 = 24 4 x 8 = 32 5 x 8 = 40 6 x 8 = 48 7 x 8 = 56 8 x 8 = 64 9 x 8 = 72 \n",
      "1 x 9 = 9 2 x 9 = 18 3 x 9 = 27 4 x 9 = 36 5 x 9 = 45 6 x 9 = 54 7 x 9 = 63 8 x 9 = 72 9 x 9 = 81 \n"
     ]
    }
   ],
   "source": [
    "for i in range(2,10,1):\n",
    "        for k in range(1,10,1):\n",
    "            print(\"%d x %d = %d\" %(k,i,i*k), end =' ')\n",
    "        print()"
   ]
  },
  {
   "cell_type": "code",
   "execution_count": 11,
   "id": "ee545417-ee9a-4913-998e-d3865b443d95",
   "metadata": {},
   "outputs": [
    {
     "name": "stdout",
     "output_type": "stream",
     "text": [
      "9 x 9 = 81 8 x 9 = 72 7 x 9 = 63 6 x 9 = 54 5 x 9 = 45 4 x 9 = 36 3 x 9 = 27 2 x 9 = 18 1 x 9 =  9 \n",
      "9 x 8 = 72 8 x 8 = 64 7 x 8 = 56 6 x 8 = 48 5 x 8 = 40 4 x 8 = 32 3 x 8 = 24 2 x 8 = 16 1 x 8 =  8 \n",
      "9 x 7 = 63 8 x 7 = 56 7 x 7 = 49 6 x 7 = 42 5 x 7 = 35 4 x 7 = 28 3 x 7 = 21 2 x 7 = 14 1 x 7 =  7 \n",
      "9 x 6 = 54 8 x 6 = 48 7 x 6 = 42 6 x 6 = 36 5 x 6 = 30 4 x 6 = 24 3 x 6 = 18 2 x 6 = 12 1 x 6 =  6 \n",
      "9 x 5 = 45 8 x 5 = 40 7 x 5 = 35 6 x 5 = 30 5 x 5 = 25 4 x 5 = 20 3 x 5 = 15 2 x 5 = 10 1 x 5 =  5 \n",
      "9 x 4 = 36 8 x 4 = 32 7 x 4 = 28 6 x 4 = 24 5 x 4 = 20 4 x 4 = 16 3 x 4 = 12 2 x 4 =  8 1 x 4 =  4 \n",
      "9 x 3 = 27 8 x 3 = 24 7 x 3 = 21 6 x 3 = 18 5 x 3 = 15 4 x 3 = 12 3 x 3 =  9 2 x 3 =  6 1 x 3 =  3 \n",
      "9 x 2 = 18 8 x 2 = 16 7 x 2 = 14 6 x 2 = 12 5 x 2 = 10 4 x 2 =  8 3 x 2 =  6 2 x 2 =  4 1 x 2 =  2 \n",
      "9 x 1 =  9 8 x 1 =  8 7 x 1 =  7 6 x 1 =  6 5 x 1 =  5 4 x 1 =  4 3 x 1 =  3 2 x 1 =  2 1 x 1 =  1 \n"
     ]
    }
   ],
   "source": [
    "for i in range(9,0,-1):\n",
    "    for k in range(9,0,-1):\n",
    "        print(\"%d x %d = %2d\" %(k,i,i*k), end=' ')\n",
    "    print()\n",
    "    "
   ]
  },
  {
   "cell_type": "code",
   "execution_count": null,
   "id": "40e12be4-02f1-4029-8b4b-f60290698a60",
   "metadata": {},
   "outputs": [],
   "source": [
    "for i in range(7):\n",
    "    print(\" \"*i,\"#\")"
   ]
  }
 ],
 "metadata": {
  "kernelspec": {
   "display_name": "Python 3 (ipykernel)",
   "language": "python",
   "name": "python3"
  },
  "language_info": {
   "codemirror_mode": {
    "name": "ipython",
    "version": 3
   },
   "file_extension": ".py",
   "mimetype": "text/x-python",
   "name": "python",
   "nbconvert_exporter": "python",
   "pygments_lexer": "ipython3",
   "version": "3.12.5"
  }
 },
 "nbformat": 4,
 "nbformat_minor": 5
}
