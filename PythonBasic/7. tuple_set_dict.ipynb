{
 "cells": [
  {
   "cell_type": "code",
   "execution_count": 2,
   "id": "cdb6f592-9b17-4cc2-81fd-dfe73032e53b",
   "metadata": {},
   "outputs": [
    {
     "name": "stdout",
     "output_type": "stream",
     "text": [
      "10\n",
      "10\n",
      "(10,)\n",
      "(10,)\n"
     ]
    }
   ],
   "source": [
    "###튜플###\n",
    "#튜플(변경할 수 없는 집합 / (,)가 있어야 튜플로 인식)\n",
    "\n",
    "tt1 = 10; print(tt1) #int\n",
    "tt2 = (10); print(tt2) #int\n",
    "tt3 = 10,; print(tt3) #tuple\n",
    "tt4 = (10,); print(tt4) #tuple"
   ]
  },
  {
   "cell_type": "code",
   "execution_count": 21,
   "id": "fa12f38d-88d2-4e1e-ac2a-667e133012c9",
   "metadata": {},
   "outputs": [
    {
     "name": "stdout",
     "output_type": "stream",
     "text": [
      "<class 'tuple'>\n"
     ]
    }
   ],
   "source": [
    "#일부분의 삭제를 비롯한 변경은 불가능(=튜플변경)\n",
    "#전체 삭제는 가능(=튜플삭제)\n",
    "#조회는 가능(인덱스 O / 슬라이싱 O)\n",
    "\n",
    "tt1 = (10,20,30,40,50)\n",
    "print(type(tt1))"
   ]
  },
  {
   "cell_type": "code",
   "execution_count": 22,
   "id": "c0e03ccb-76c5-45f3-a129-815befabada8",
   "metadata": {},
   "outputs": [
    {
     "ename": "TypeError",
     "evalue": "'tuple' object does not support item assignment",
     "output_type": "error",
     "traceback": [
      "\u001b[0;31m---------------------------------------------------------------------------\u001b[0m",
      "\u001b[0;31mTypeError\u001b[0m                                 Traceback (most recent call last)",
      "Cell \u001b[0;32mIn[22], line 1\u001b[0m\n\u001b[0;32m----> 1\u001b[0m \u001b[43mtt1\u001b[49m\u001b[43m[\u001b[49m\u001b[38;5;241;43m0\u001b[39;49m\u001b[43m]\u001b[49m \u001b[38;5;241m=\u001b[39m \u001b[38;5;241m10\u001b[39m\n",
      "\u001b[0;31mTypeError\u001b[0m: 'tuple' object does not support item assignment"
     ]
    }
   ],
   "source": [
    "tt1[0] = 10"
   ]
  },
  {
   "cell_type": "code",
   "execution_count": 23,
   "id": "43520b6e-9258-4262-8b9b-839a9640b493",
   "metadata": {},
   "outputs": [
    {
     "ename": "AttributeError",
     "evalue": "'tuple' object has no attribute 'append'",
     "output_type": "error",
     "traceback": [
      "\u001b[0;31m---------------------------------------------------------------------------\u001b[0m",
      "\u001b[0;31mAttributeError\u001b[0m                            Traceback (most recent call last)",
      "Cell \u001b[0;32mIn[23], line 1\u001b[0m\n\u001b[0;32m----> 1\u001b[0m \u001b[43mtt1\u001b[49m\u001b[38;5;241;43m.\u001b[39;49m\u001b[43mappend\u001b[49m(\u001b[38;5;241m0\u001b[39m)\n",
      "\u001b[0;31mAttributeError\u001b[0m: 'tuple' object has no attribute 'append'"
     ]
    }
   ],
   "source": [
    "tt1.append(0)"
   ]
  },
  {
   "cell_type": "code",
   "execution_count": 24,
   "id": "c4198848-8493-44e8-bad6-2541120c7003",
   "metadata": {},
   "outputs": [],
   "source": [
    "#del(tt1)  #이건 가능\n",
    "\n",
    "#del(tt1[0]) #이건 오류"
   ]
  },
  {
   "cell_type": "code",
   "execution_count": 25,
   "id": "a20b9893-7059-48eb-b37b-ae683c6d050d",
   "metadata": {},
   "outputs": [
    {
     "name": "stdout",
     "output_type": "stream",
     "text": [
      "20\n",
      "40\n",
      "(10, 20)\n"
     ]
    }
   ],
   "source": [
    "print(tt1[1])\n",
    "\n",
    "print(tt1[0]+tt1[2])\n",
    "\n",
    "print(tt1[0:2])"
   ]
  },
  {
   "cell_type": "code",
   "execution_count": 27,
   "id": "f06fe90d-29c2-4e2a-b42e-bdf6fa7413ad",
   "metadata": {},
   "outputs": [
    {
     "name": "stdout",
     "output_type": "stream",
     "text": [
      "(1, 2, 3, 'A', 'B', 'C')\n",
      "(1, 2, 3, 1, 2, 3, 1, 2, 3)\n"
     ]
    }
   ],
   "source": [
    "#튜플의 덧셈 및 곱셈 연산은 가능 !!\n",
    "tt1=(1,2,3)\n",
    "tt2=('A','B','C')\n",
    "\n",
    "print(tt1+tt2)\n",
    "print(tt1*3)"
   ]
  },
  {
   "cell_type": "code",
   "execution_count": 35,
   "id": "6a8f592e-061c-4755-b0db-50b1aaed3787",
   "metadata": {},
   "outputs": [
    {
     "name": "stdout",
     "output_type": "stream",
     "text": [
      "1 2 3 \n",
      "4 5 6 \n",
      "7 8 9 \n"
     ]
    }
   ],
   "source": [
    "#SELF STUDY 7-4\n",
    "tt1=((1,2,3),(4,5,6),(7,8,9))\n",
    "\n",
    "for i in range(len(tt1)):\n",
    "    for k in range(len(tt1[i])):\n",
    "        print(tt1[i][k], end=' ')\n",
    "    print()"
   ]
  },
  {
   "cell_type": "code",
   "execution_count": 36,
   "id": "83a07c81-36a4-4c8c-aa8e-64793fa41ac8",
   "metadata": {},
   "outputs": [
    {
     "name": "stdout",
     "output_type": "stream",
     "text": [
      "<class 'tuple'>\n",
      "<class 'list'>\n"
     ]
    }
   ],
   "source": [
    "# 튜플의 형변환\n",
    "\n",
    "Mytuple = (10,20,30,40)\n",
    "print(type(Mytuple))\n",
    "\n",
    "Mylist = list(Mytuple)\n",
    "print(type(Mylist))"
   ]
  },
  {
   "cell_type": "code",
   "execution_count": 42,
   "id": "49500614-379e-47a2-9a35-0570ef382663",
   "metadata": {},
   "outputs": [
    {
     "name": "stdout",
     "output_type": "stream",
     "text": [
      "10 20 30 40\n"
     ]
    }
   ],
   "source": [
    "a,b,c,d = Mytuple\n",
    "print(a,b,c,d)"
   ]
  },
  {
   "cell_type": "code",
   "execution_count": 46,
   "id": "bb1deca4-ce9a-48da-b388-458460f8b904",
   "metadata": {},
   "outputs": [
    {
     "data": {
      "text/plain": [
       "{'C', 'C++', 'Python', 'python'}"
      ]
     },
     "execution_count": 46,
     "metadata": {},
     "output_type": "execute_result"
    }
   ],
   "source": [
    "###세트###\n",
    "#중복을 허용하지 않고, 순서가 없는 것이 특징 !\n",
    "\n",
    "language = {'C++', 'Python', 'C', 'C', 'C++','python'}\n",
    "language"
   ]
  },
  {
   "cell_type": "code",
   "execution_count": 47,
   "id": "c945d369-ea7b-41a1-8379-c4a0138bb84f",
   "metadata": {},
   "outputs": [
    {
     "data": {
      "text/plain": [
       "True"
      ]
     },
     "execution_count": 47,
     "metadata": {},
     "output_type": "execute_result"
    }
   ],
   "source": [
    "'Python' in language"
   ]
  },
  {
   "cell_type": "code",
   "execution_count": 53,
   "id": "3a14dc17-335b-416f-a176-bc1468045aca",
   "metadata": {},
   "outputs": [],
   "source": [
    "a=set('abracadabra')\n",
    "b=set('alacazam')"
   ]
  },
  {
   "cell_type": "code",
   "execution_count": 54,
   "id": "b020b4e5-9804-4947-b375-bb07096ae0ea",
   "metadata": {},
   "outputs": [
    {
     "data": {
      "text/plain": [
       "{'a', 'b', 'c', 'd', 'r'}"
      ]
     },
     "execution_count": 54,
     "metadata": {},
     "output_type": "execute_result"
    }
   ],
   "source": [
    "a"
   ]
  },
  {
   "cell_type": "code",
   "execution_count": 55,
   "id": "19036d89-0e9f-4eda-8e3f-e35d5bffc723",
   "metadata": {},
   "outputs": [
    {
     "data": {
      "text/plain": [
       "{'a', 'c', 'l', 'm', 'z'}"
      ]
     },
     "execution_count": 55,
     "metadata": {},
     "output_type": "execute_result"
    }
   ],
   "source": [
    "b"
   ]
  },
  {
   "cell_type": "code",
   "execution_count": 56,
   "id": "249a5b7c-4739-434a-a91f-d3f4c1d6cc49",
   "metadata": {},
   "outputs": [
    {
     "data": {
      "text/plain": [
       "{'b', 'd', 'r'}"
      ]
     },
     "execution_count": 56,
     "metadata": {},
     "output_type": "execute_result"
    }
   ],
   "source": [
    "a-b #차집합"
   ]
  },
  {
   "cell_type": "code",
   "execution_count": 57,
   "id": "c6f6ea48-7be8-4575-84ec-643d254485e1",
   "metadata": {},
   "outputs": [
    {
     "data": {
      "text/plain": [
       "{'a', 'b', 'c', 'd', 'l', 'm', 'r', 'z'}"
      ]
     },
     "execution_count": 57,
     "metadata": {},
     "output_type": "execute_result"
    }
   ],
   "source": [
    "a|b #합집합"
   ]
  },
  {
   "cell_type": "code",
   "execution_count": 59,
   "id": "89c9d6f0-3566-4ec9-ba97-4233fb1c043a",
   "metadata": {},
   "outputs": [
    {
     "data": {
      "text/plain": [
       "{'a', 'c'}"
      ]
     },
     "execution_count": 59,
     "metadata": {},
     "output_type": "execute_result"
    }
   ],
   "source": [
    "a&b #교집합"
   ]
  },
  {
   "cell_type": "code",
   "execution_count": 60,
   "id": "c18339fb-16ba-4743-b0b7-11566b7212d6",
   "metadata": {},
   "outputs": [
    {
     "data": {
      "text/plain": [
       "{'b', 'd', 'l', 'm', 'r', 'z'}"
      ]
     },
     "execution_count": 60,
     "metadata": {},
     "output_type": "execute_result"
    }
   ],
   "source": [
    "a^b #여집합(합집합-교집합)"
   ]
  },
  {
   "cell_type": "code",
   "execution_count": 61,
   "id": "a5dba043-7a0a-47e9-b194-8d15a15a8383",
   "metadata": {},
   "outputs": [
    {
     "data": {
      "text/plain": [
       "{'b', 'd', 'l', 'm', 'r', 'z'}"
      ]
     },
     "execution_count": 61,
     "metadata": {},
     "output_type": "execute_result"
    }
   ],
   "source": [
    "(a|b) - (a&b) #여집합"
   ]
  },
  {
   "cell_type": "code",
   "execution_count": 65,
   "id": "03a2838a-4e4c-4d23-b81b-cfbc5ce80d95",
   "metadata": {},
   "outputs": [
    {
     "name": "stdout",
     "output_type": "stream",
     "text": [
      "{'c', 'a'}\n",
      "{'d', 'c', 'l', 'a', 'm', 'r', 'z', 'b'}\n",
      "{'d', 'r', 'b'}\n",
      "{'m', 'd', 'r', 'z', 'l', 'b'}\n"
     ]
    }
   ],
   "source": [
    "print(a.intersection(b)) #교집합\n",
    "print(a.union(b)) #합집합\n",
    "print(a.difference(b)) #차집합\n",
    "print(a.symmetric_difference(b)) #대칭 차집합"
   ]
  },
  {
   "cell_type": "code",
   "execution_count": 67,
   "id": "7df846a0-3482-44cb-98e6-44f29131bbe6",
   "metadata": {},
   "outputs": [],
   "source": [
    "#대칭 차집합과 여집합은 같은 의미 "
   ]
  },
  {
   "cell_type": "code",
   "execution_count": 5,
   "id": "6fcd80a6-6de0-4f70-a144-c7907d0686f7",
   "metadata": {},
   "outputs": [
    {
     "data": {
      "text/plain": [
       "['강남', '서초']"
      ]
     },
     "execution_count": 5,
     "metadata": {},
     "output_type": "execute_result"
    }
   ],
   "source": [
    "###딕셔너리###\n",
    "\n",
    "dn = {'서울':['강남','서초'],'시간':146, '날씨':'맑음'}\n",
    "\n",
    "dn['서울']"
   ]
  },
  {
   "cell_type": "code",
   "execution_count": 25,
   "id": "5a168084-07ed-410b-ac1f-92ffc507a32c",
   "metadata": {},
   "outputs": [
    {
     "name": "stdin",
     "output_type": "stream",
     "text": [
      "물품선택:  자\n",
      "사는건 +X/ 파는건 -X 10\n"
     ]
    },
    {
     "name": "stdout",
     "output_type": "stream",
     "text": [
      "자:  12\n"
     ]
    },
    {
     "name": "stdin",
     "output_type": "stream",
     "text": [
      "물품선택:  연필\n",
      "사는건 +X/ 파는건 -X 10\n"
     ]
    },
    {
     "name": "stdout",
     "output_type": "stream",
     "text": [
      "연필:  14\n"
     ]
    },
    {
     "name": "stdin",
     "output_type": "stream",
     "text": [
      "물품선택:  지우개\n",
      "사는건 +X/ 파는건 -X 10\n"
     ]
    },
    {
     "name": "stdout",
     "output_type": "stream",
     "text": [
      "지우개:  13\n"
     ]
    },
    {
     "name": "stdin",
     "output_type": "stream",
     "text": [
      "물품선택:  자\n",
      "사는건 +X/ 파는건 -X -10\n"
     ]
    },
    {
     "name": "stdout",
     "output_type": "stream",
     "text": [
      "자:  2\n"
     ]
    },
    {
     "name": "stdin",
     "output_type": "stream",
     "text": [
      "물품선택:  자\n",
      "사는건 +X/ 파는건 -X -2\n"
     ]
    },
    {
     "name": "stdout",
     "output_type": "stream",
     "text": [
      "자:  0\n"
     ]
    },
    {
     "name": "stdin",
     "output_type": "stream",
     "text": [
      "물품선택:  자\n",
      "사는건 +X/ 파는건 -X -6\n"
     ]
    },
    {
     "name": "stdout",
     "output_type": "stream",
     "text": [
      "품목 부족 6 개\n"
     ]
    }
   ],
   "source": [
    "items = {'지우개':3,'연필':4,'자':2}\n",
    "\n",
    "while True:\n",
    "    obj=input('물품선택: ')\n",
    "    count=int(input('사는건 +X/ 파는건 -X'))\n",
    "    if obj=='지우개':\n",
    "        items['지우개']+=count\n",
    "        if items['지우개']<0:\n",
    "            print('품목 부족',items['지우개']*(-1),'개')\n",
    "            break\n",
    "        else:\n",
    "            print('지우개: ',items['지우개'])\n",
    "            continue\n",
    "    elif obj=='연필':\n",
    "        items['연필']+=count\n",
    "        if items['연필']<0:\n",
    "            print('품목 부족',items['연필']*(-1),'개')\n",
    "            break\n",
    "        else:\n",
    "            print('연필: ',items['연필'])\n",
    "            continue\n",
    "    elif obj=='자':\n",
    "        items['자']+=count\n",
    "        if items['자']<0:\n",
    "            print('품목 부족',items['자']*(-1),'개')\n",
    "            break\n",
    "        else:\n",
    "            print('자: ',items['자'])\n",
    "            continue\n",
    "    else:\n",
    "        print('다시입력하세요')\n"
   ]
  },
  {
   "cell_type": "code",
   "execution_count": 26,
   "id": "ca5b6420-8a1c-4438-83b9-d48b72fa87c5",
   "metadata": {},
   "outputs": [
    {
     "data": {
      "text/plain": [
       "{'지우개': 1, '연필': 1}"
      ]
     },
     "execution_count": 26,
     "metadata": {},
     "output_type": "execute_result"
    }
   ],
   "source": [
    "items = {'지우개':3,'연필':4,'자':2}\n",
    "\n",
    "items['지우개']-=2\n",
    "items['연필']-=3\n",
    "del(items['자'])\n",
    "\n",
    "items"
   ]
  },
  {
   "cell_type": "code",
   "execution_count": 33,
   "id": "a1cf64cf-2df1-4f0b-be3c-72e81337211d",
   "metadata": {},
   "outputs": [
    {
     "name": "stdout",
     "output_type": "stream",
     "text": [
      "이름 --> 트와이스\n",
      "구성원 수 --> 9\n",
      "데뷔 --> 서바이벌 식스틴\n",
      "대표곡 --> SIGNAL\n"
     ]
    }
   ],
   "source": [
    "singer={}\n",
    "\n",
    "singer['이름']='트와이스'\n",
    "singer['구성원 수']=9\n",
    "singer['데뷔']='서바이벌 식스틴'\n",
    "singer['대표곡']='SIGNAL'\n",
    "\n",
    "for i in singer.keys(): ##\n",
    "    print('%s --> %s' %(i,singer[i]))"
   ]
  },
  {
   "cell_type": "code",
   "execution_count": 35,
   "id": "84007cd0-3030-4d82-bdb9-b53ccfdd8df4",
   "metadata": {},
   "outputs": [
    {
     "name": "stdout",
     "output_type": "stream",
     "text": [
      "이름 --> 트와이스\n",
      "구성원 수 --> 9\n",
      "데뷔 --> 서바이벌 식스틴\n",
      "대표곡 --> SIGNAL\n"
     ]
    }
   ],
   "source": [
    "singer={}\n",
    "\n",
    "singer['이름']='트와이스'\n",
    "singer['구성원 수']=9\n",
    "singer['데뷔']='서바이벌 식스틴'\n",
    "singer['대표곡']='SIGNAL'\n",
    "\n",
    "for i,k in singer.items(): ##\n",
    "    print('%s --> %s' %(i,k))"
   ]
  },
  {
   "cell_type": "code",
   "execution_count": 37,
   "id": "f8025f10-ea4e-41d7-b214-a3e067eb66bc",
   "metadata": {},
   "outputs": [
    {
     "name": "stdout",
     "output_type": "stream",
     "text": [
      "이름 --> 트와이스\n",
      "구성원 수 --> 9\n",
      "데뷔 --> 서바이벌 식스틴\n",
      "대표곡 --> SIGNAL\n"
     ]
    }
   ],
   "source": [
    "singer={}\n",
    "\n",
    "singer['이름']='트와이스'\n",
    "singer['구성원 수']=9\n",
    "singer['데뷔']='서바이벌 식스틴'\n",
    "singer['대표곡']='SIGNAL'\n",
    "\n",
    "for i in singer: ##\n",
    "    print('%s --> %s' %(i,singer[i]))"
   ]
  },
  {
   "cell_type": "code",
   "execution_count": 47,
   "id": "2336c760-4a93-40aa-8d83-54e4fc45e04c",
   "metadata": {},
   "outputs": [
    {
     "name": "stdin",
     "output_type": "stream",
     "text": [
      "단어를 입력하세요:  five\n"
     ]
    },
    {
     "name": "stdout",
     "output_type": "stream",
     "text": [
      "없는 단어입니다\n"
     ]
    }
   ],
   "source": [
    "#실습 1\n",
    "\n",
    "num={'one':'하나','two':'둘','three':'셋','four':'넷'}\n",
    "\n",
    "word=input('단어를 입력하세요: ')\n",
    "if word in num:\n",
    "    print(num[word])\n",
    "else:\n",
    "    print('없는 단어입니다')"
   ]
  },
  {
   "cell_type": "code",
   "execution_count": 16,
   "id": "4823a524-f0d5-40dd-9552-2686d8d416f1",
   "metadata": {},
   "outputs": [
    {
     "name": "stdin",
     "output_type": "stream",
     "text": [
      "위의 메뉴중 하나를 선택하세요:  Americano\n"
     ]
    },
    {
     "name": "stdout",
     "output_type": "stream",
     "text": [
      "Americano는 3000원 입니다.\n"
     ]
    }
   ],
   "source": [
    "#실습 2-1\n",
    "\n",
    "menu={'Americano':3000,'Ice Americano':3500,\n",
    "      'Cappuccino':4000,'Caffe Latte':4500,'Espresso':3600}\n",
    "\n",
    "pick=input('위의 메뉴중 하나를 선택하세요: ')\n",
    "print('%s는 %d원 입니다.' %(pick,menu[pick]))"
   ]
  },
  {
   "cell_type": "code",
   "execution_count": 46,
   "id": "2b21729a-c6b5-4c12-a328-8093038f488c",
   "metadata": {},
   "outputs": [
    {
     "name": "stdin",
     "output_type": "stream",
     "text": [
      "위의 메뉴중 하나를 선택하세요:  Americano\n",
      "몇 잔을 주문하시겠습니까?:  3\n"
     ]
    },
    {
     "name": "stdout",
     "output_type": "stream",
     "text": [
      "Americano, 3잔 나왔습니다. 9000원 입니다.\n"
     ]
    }
   ],
   "source": [
    "#실습 2-2\n",
    "menu={'Americano':3000,'Ice Americano':3500,\n",
    "      'Cappuccino':4000,'Caffe Latte':4500,'Espresso':3600\n",
    "     }\n",
    "pick=input('위의 메뉴중 하나를 선택하세요: ')\n",
    "num=int(input('몇 잔을 주문하시겠습니까?: '))\n",
    "\n",
    "print(f'{pick}, {num}잔 나왔습니다. {num*menu[pick]}원 입니다.')"
   ]
  },
  {
   "cell_type": "code",
   "execution_count": 49,
   "id": "9111c186-9cd0-493c-9e57-b46525a7a406",
   "metadata": {},
   "outputs": [
    {
     "name": "stdin",
     "output_type": "stream",
     "text": [
      "위의 메뉴중 하나를 선택하세요:  Americano\n",
      "몇 잔을 주문하시겠습니까?:  3\n",
      "계속 주문하시겠습니까? (y/n) y\n",
      "위의 메뉴중 하나를 선택하세요:  Espresso\n",
      "몇 잔을 주문하시겠습니까?:  4\n",
      "계속 주문하시겠습니까? (y/n) n\n"
     ]
    },
    {
     "name": "stdout",
     "output_type": "stream",
     "text": [
      "Americano, 3잔 나왔습니다.\n",
      "Espresso, 4잔 나왔습니다.\n",
      "총 금액은 23400원 입니다.\n"
     ]
    }
   ],
   "source": [
    "#실습 2-3\n",
    "\n",
    "menu={'Americano':3000,'Ice Americano':3500,\n",
    "      'Cappuccino':4000,'Caffe Latte':4500,'Espresso':3600\n",
    "     }\n",
    "\n",
    "buy={}\n",
    "con='y'\n",
    "while con=='y':\n",
    "    pick=input('위의 메뉴중 하나를 선택하세요: ')\n",
    "    num=int(input('몇 잔을 주문하시겠습니까?: '))\n",
    "    buy[pick]=num\n",
    "    con=input('계속 주문하시겠습니까? (y/n)')\n",
    "\n",
    "total=0\n",
    "for i in menu:\n",
    "    if i in buy:\n",
    "        print(f'{i}, {buy[i]}잔 나왔습니다.')\n",
    "        total += buy[i]*menu[i]\n",
    "print(f'총 금액은 {total}원 입니다.')"
   ]
  },
  {
   "cell_type": "code",
   "execution_count": 7,
   "id": "aed54559-a3fe-4837-bcf2-d8f51478089a",
   "metadata": {},
   "outputs": [
    {
     "name": "stdout",
     "output_type": "stream",
     "text": [
      "1\n",
      "None\n"
     ]
    }
   ],
   "source": [
    "A={'a':1,'b':2,'c':3}\n",
    "\n",
    "print(A.get('a'))\n",
    "print(A.get('d'))"
   ]
  },
  {
   "cell_type": "code",
   "execution_count": 14,
   "id": "2a63e1e1-7be2-4e4a-a08e-de3896e75410",
   "metadata": {},
   "outputs": [
    {
     "name": "stdin",
     "output_type": "stream",
     "text": [
      "['떡볶이', '짜장면', '라면', '피자', '맥주', '치킨', '삼겹살']중 좋아하는 음식은? 라면\n"
     ]
    },
    {
     "name": "stdout",
     "output_type": "stream",
     "text": [
      "궁합 음식은: 김치\n"
     ]
    },
    {
     "name": "stdin",
     "output_type": "stream",
     "text": [
      "['떡볶이', '짜장면', '라면', '피자', '맥주', '치킨', '삼겹살']중 좋아하는 음식은? 피자\n"
     ]
    },
    {
     "name": "stdout",
     "output_type": "stream",
     "text": [
      "궁합 음식은: 피클\n"
     ]
    },
    {
     "name": "stdin",
     "output_type": "stream",
     "text": [
      "['떡볶이', '짜장면', '라면', '피자', '맥주', '치킨', '삼겹살']중 좋아하는 음식은? 치킨\n"
     ]
    },
    {
     "name": "stdout",
     "output_type": "stream",
     "text": [
      "궁합 음식은: 치킨무\n"
     ]
    },
    {
     "name": "stdin",
     "output_type": "stream",
     "text": [
      "['떡볶이', '짜장면', '라면', '피자', '맥주', '치킨', '삼겹살']중 좋아하는 음식은? 끝\n"
     ]
    }
   ],
   "source": [
    "\n",
    "food = {\n",
    "    \"떡볶이\":'오뎅',\n",
    "    \"짜장면\":\"단무지\",\n",
    "    \"라면\":\"김치\",\n",
    "    \"피자\":\"피클\",\n",
    "    \"맥주\":\"땅콩\",\n",
    "    \"치킨\":\"치킨무\",\n",
    "    \"삼겹살\":\"상추\"\n",
    "}\n",
    "\n",
    "while True:\n",
    "    myfood=input(str(list(food.keys()))+\"중 좋아하는 음식은?\")\n",
    "    if myfood in food:\n",
    "        print('궁합 음식은: %s' %food[myfood])\n",
    "    elif myfood=='끝':\n",
    "        break\n",
    "    else:\n",
    "        print('다시 확인해라')\n"
   ]
  },
  {
   "cell_type": "code",
   "execution_count": 57,
   "id": "3c1d830a-e096-4821-8746-aee91c4af433",
   "metadata": {},
   "outputs": [
    {
     "name": "stdin",
     "output_type": "stream",
     "text": [
      "1) 전화번호 저장, 2) 전화번호 검색, 3) 종료 1\n",
      "저장할 사용자의 이름을 입력하세요. 이현진\n",
      "전화번호를 입력하세요. 01034554950\n",
      "1) 전화번호 저장, 2) 전화번호 검색, 3) 종료 1\n",
      "저장할 사용자의 이름을 입력하세요. 이민희\n",
      "전화번호를 입력하세요. 01086974117\n",
      "1) 전화번호 저장, 2) 전화번호 검색, 3) 종료 2\n",
      "검색할 사용자의 이름을 입력하세요. 이현진\n"
     ]
    },
    {
     "name": "stdout",
     "output_type": "stream",
     "text": [
      "01034554950\n"
     ]
    },
    {
     "name": "stdin",
     "output_type": "stream",
     "text": [
      "1) 전화번호 저장, 2) 전화번호 검색, 3) 종료 3\n"
     ]
    },
    {
     "name": "stdout",
     "output_type": "stream",
     "text": [
      "종료합니다.\n"
     ]
    }
   ],
   "source": [
    "call_number={}\n",
    "\n",
    "while True:\n",
    "    pick=int(input(\"1) 전화번호 저장, 2) 전화번호 검색, 3) 종료\"))\n",
    "    if pick==1:\n",
    "        save=input(\"저장할 사용자의 이름을 입력하세요.\")\n",
    "        num=input(\"전화번호를 입력하세요.\")\n",
    "        call_number[save]=num\n",
    "    elif pick==2:\n",
    "        find=input(\"검색할 사용자의 이름을 입력하세요.\")\n",
    "        print(call_number[find])\n",
    "    elif pick==3:\n",
    "        print(\"종료합니다.\")\n",
    "        break"
   ]
  },
  {
   "cell_type": "code",
   "execution_count": 33,
   "id": "0bfd8df2-8127-481b-862f-094ed3de8c25",
   "metadata": {},
   "outputs": [
    {
     "data": {
      "text/plain": [
       "[1, 4, 9, 16, 25]"
      ]
     },
     "execution_count": 33,
     "metadata": {},
     "output_type": "execute_result"
    }
   ],
   "source": [
    "#컴프리헨션 구성(괄호가 '[]'인지 '{}'인지 확인!)\n",
    "#리스트 변수명 = [수식 for 항목 in range() if 조건식]\n",
    "numlist = [num*num for num in range(1,6)]\n",
    "numlist"
   ]
  },
  {
   "cell_type": "code",
   "execution_count": 29,
   "id": "4b4ae22f-b0c6-47af-b7be-f687ae5753d2",
   "metadata": {},
   "outputs": [
    {
     "data": {
      "text/plain": [
       "[3, 6, 9, 12, 15, 18]"
      ]
     },
     "execution_count": 29,
     "metadata": {},
     "output_type": "execute_result"
    }
   ],
   "source": [
    "numlist = [num for num in range(1,21) if num%3==0]\n",
    "numlist"
   ]
  },
  {
   "cell_type": "code",
   "execution_count": 34,
   "id": "c34c1c24-9214-4a0d-a5d8-9b5d48108b50",
   "metadata": {},
   "outputs": [
    {
     "data": {
      "text/plain": [
       "{'d', 'r'}"
      ]
     },
     "execution_count": 34,
     "metadata": {},
     "output_type": "execute_result"
    }
   ],
   "source": [
    "a = {x for x in 'abracadabra' if x not in 'abc'}\n",
    "a"
   ]
  },
  {
   "cell_type": "code",
   "execution_count": 35,
   "id": "294fcb10-4f46-4703-a231-04ad24041ce1",
   "metadata": {},
   "outputs": [
    {
     "data": {
      "text/plain": [
       "{2: 4, 4: 16, 6: 36}"
      ]
     },
     "execution_count": 35,
     "metadata": {},
     "output_type": "execute_result"
    }
   ],
   "source": [
    "square_dic = {x:x**2 for x in (2,4,6)}\n",
    "square_dic"
   ]
  },
  {
   "cell_type": "code",
   "execution_count": 36,
   "id": "6f619f94-240c-4601-b5a9-73d9b6e20bd9",
   "metadata": {},
   "outputs": [
    {
     "data": {
      "text/plain": [
       "[0, 2, 4, 6, 8, 10, 12, 14, 16, 18]"
      ]
     },
     "execution_count": 36,
     "metadata": {},
     "output_type": "execute_result"
    }
   ],
   "source": [
    "#실습4\n",
    "\n",
    "evens = [even*2 for even in range(10)]\n",
    "evens"
   ]
  },
  {
   "cell_type": "code",
   "execution_count": 54,
   "id": "154939eb-e082-4883-8a65-3e934fd30973",
   "metadata": {},
   "outputs": [
    {
     "data": {
      "text/plain": [
       "[(1, 2), (1, 3), (1, 4), (2, 3), (2, 4), (3, 2), (3, 4)]"
      ]
     },
     "execution_count": 54,
     "metadata": {},
     "output_type": "execute_result"
    }
   ],
   "source": [
    "A=[1,2,3]\n",
    "B=[2,3,4]\n",
    "\n",
    "pairs = [(a,b) for a in A for b in B if a!=b]\n",
    "pairs"
   ]
  },
  {
   "cell_type": "code",
   "execution_count": 40,
   "id": "c5842351-3fdb-4345-8e98-6ff6a7ebd5e0",
   "metadata": {},
   "outputs": [
    {
     "data": {
      "text/plain": [
       "{2: 8, 3: 27, 4: 64}"
      ]
     },
     "execution_count": 40,
     "metadata": {},
     "output_type": "execute_result"
    }
   ],
   "source": [
    "triple_dic = {x:x**3 for x in (2,3,4)}\n",
    "triple_dic"
   ]
  },
  {
   "cell_type": "code",
   "execution_count": 41,
   "id": "d0bc001f-3f5d-4293-9cf0-fbe65534ff27",
   "metadata": {},
   "outputs": [
    {
     "data": {
      "text/plain": [
       "[24, 144]"
      ]
     },
     "execution_count": 41,
     "metadata": {},
     "output_type": "execute_result"
    }
   ],
   "source": [
    "#실습5\n",
    "\n",
    "a_list = [44,66,34,24,144,98,38,568,234,345]\n",
    "A_list = [x for x in a_list if x%12==0]\n",
    "A_list"
   ]
  },
  {
   "cell_type": "code",
   "execution_count": 58,
   "id": "16687bef-c1fc-4055-9369-7abdf991a723",
   "metadata": {},
   "outputs": [
    {
     "data": {
      "text/plain": [
       "[29, 902, 45]"
      ]
     },
     "execution_count": 58,
     "metadata": {},
     "output_type": "execute_result"
    }
   ],
   "source": [
    "b_list = [-22.3,29.44,902.2,45.7,-887.1,-56.3]\n",
    "B_list = [int(x) for x in b_list if x>0]\n",
    "B_list"
   ]
  },
  {
   "cell_type": "code",
   "execution_count": 61,
   "id": "8ca0f72a-6578-41c5-af43-a077f3ca4fc9",
   "metadata": {},
   "outputs": [
    {
     "name": "stdout",
     "output_type": "stream",
     "text": [
      "A --> a\n",
      "B --> b\n",
      "C --> c\n",
      "D --> d\n"
     ]
    }
   ],
   "source": [
    "big = ['A','B','C','D','E']\n",
    "small = ['a','b','c','d']\n",
    "for B_word,S_word in zip(big,small):\n",
    "    print(B_word,'-->',S_word)"
   ]
  },
  {
   "cell_type": "code",
   "execution_count": 63,
   "id": "b5829662-c36c-46eb-9e75-b816de1ef37d",
   "metadata": {},
   "outputs": [
    {
     "data": {
      "text/plain": [
       "{'A': 'a', 'B': 'b', 'C': 'c', 'D': 'd'}"
      ]
     },
     "execution_count": 63,
     "metadata": {},
     "output_type": "execute_result"
    }
   ],
   "source": [
    "dic = dict(zip(big,small))\n",
    "dic"
   ]
  },
  {
   "cell_type": "code",
   "execution_count": null,
   "id": "ca6b42d4-d2b7-431a-b773-c452437abe3c",
   "metadata": {},
   "outputs": [],
   "source": []
  }
 ],
 "metadata": {
  "kernelspec": {
   "display_name": "Python 3 (ipykernel)",
   "language": "python",
   "name": "python3"
  },
  "language_info": {
   "codemirror_mode": {
    "name": "ipython",
    "version": 3
   },
   "file_extension": ".py",
   "mimetype": "text/x-python",
   "name": "python",
   "nbconvert_exporter": "python",
   "pygments_lexer": "ipython3",
   "version": "3.12.5"
  }
 },
 "nbformat": 4,
 "nbformat_minor": 5
}
