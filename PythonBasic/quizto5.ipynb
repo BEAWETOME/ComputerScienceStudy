{
 "cells": [
  {
   "cell_type": "code",
   "execution_count": 18,
   "id": "f8a65adc-489d-43ea-b0a3-456e80ad8f22",
   "metadata": {},
   "outputs": [
    {
     "name": "stdin",
     "output_type": "stream",
     "text": [
      "연산자를 고르세요(ex. 1) \n",
      "1: 덧셈, 2: 뺄셈, 3: 곱셈, 4:나눗셈 4\n",
      "첫번째 값을 입력하세요:  10\n",
      "두번째 값을 입력하세요:  0\n"
     ]
    },
    {
     "name": "stdout",
     "output_type": "stream",
     "text": [
      "0으로 나누시면 안됩니다.\n"
     ]
    }
   ],
   "source": [
    "opr = input(\"연산자를 고르세요(ex. 1) \\n1: 덧셈, 2: 뺄셈, 3: 곱셈, 4:나눗셈\")\n",
    "\n",
    "if opr == \"1\":\n",
    "    ans1 = int(input(\"첫번째 값을 입력하세요: \"))\n",
    "    ans2 = int(input(\"두번째 값을 입력하세요: \"))\n",
    "    print(ans1+ans2)\n",
    "elif opr == \"2\":\n",
    "    ans1 = int(input(\"첫번째 값을 입력하세요: \"))\n",
    "    ans2 = int(input(\"두번째 값을 입력하세요: \"))\n",
    "    print(ans1-ans2)\n",
    "elif opr == \"3\":\n",
    "    ans1 = int(input(\"첫번째 값을 입력하세요: \"))\n",
    "    ans2 = int(input(\"두번째 값을 입력하세요: \"))\n",
    "    print(ans1*ans2)\n",
    "elif opr == \"4\":\n",
    "    ans1 = int(input(\"첫번째 값을 입력하세요: \"))\n",
    "    ans2 = int(input(\"두번째 값을 입력하세요: \"))\n",
    "    if ans2 == 0:\n",
    "        print(\"0으로 나누시면 안됩니다.\")\n",
    "    else:\n",
    "        print(ans1/ans2)\n",
    "else:\n",
    "    print(\"연산자를 잘못 고르셨습니다.\")"
   ]
  },
  {
   "cell_type": "code",
   "execution_count": 24,
   "id": "6b956c2f-15d3-4813-9f22-e92cb92ce6c2",
   "metadata": {},
   "outputs": [
    {
     "name": "stdout",
     "output_type": "stream",
     "text": [
      "##철수와 영이의 가위, 바위, 보 게임\n"
     ]
    },
    {
     "name": "stdin",
     "output_type": "stream",
     "text": [
      "철수는 무엇을 낼까요? 강위\n",
      "영이는 무엇을 낼까요? 주머억\n"
     ]
    },
    {
     "name": "stdout",
     "output_type": "stream",
     "text": [
      "철수의 값입력 오류 =>  강위\n",
      "영이의 값입력 오류 =>  주머억\n"
     ]
    }
   ],
   "source": [
    "print(\"##철수와 영이의 가위, 바위, 보 게임\")\n",
    "chul = input(\"철수는 무엇을 낼까요?\" )\n",
    "young = input(\"영이는 무엇을 낼까요?\" )\n",
    "if chul == \"가위\":\n",
    "    if young == \"가위\":\n",
    "        print(\"무승부입니다.\")\n",
    "    elif young == \"바위\":\n",
    "        print(\"영이가 이겼습니다.\")\n",
    "    elif young == \"보\":\n",
    "        print(\"철수가 이겼습니다.\")\n",
    "    else:\n",
    "        print(\"영이의 값입력 오류 => \",young)\n",
    "elif chul == \"바위\":\n",
    "    if young == \"가위\":\n",
    "        print(\"철수가 이겼습니다.\")\n",
    "    elif young == \"바위\":\n",
    "        print(\"무승부입니다.\")\n",
    "    elif young == \"보\":\n",
    "        print(\"영이가 이겼습니다.\")\n",
    "    else:\n",
    "        print(\"영이의 값입력 오류 => \",young)\n",
    "elif chul == \"보\":\n",
    "    if young == \"가위\":\n",
    "        print(\"영이가 이겼습니다.\")\n",
    "    elif young == \"바위\":\n",
    "        print(\"철수가 이겼습니다.\")\n",
    "    elif young == \"보\":\n",
    "        print(\"무승부입니다.\")\n",
    "    else:\n",
    "        print(\"영이의 값입력 오류 => \",young)\n",
    "else:\n",
    "    if young != \"가위\" and young != \"바위\" and young != \"보\":\n",
    "        print(\"철수의 값입력 오류 => \",chul)\n",
    "        print(\"영이의 값입력 오류 => \",young)\n",
    "    else:\n",
    "        print(\"철수의 값입력 오류 => \",chul)"
   ]
  },
  {
   "cell_type": "code",
   "execution_count": null,
   "id": "81f6d67e-7b08-42d9-bfa8-c2dbaa323cdd",
   "metadata": {},
   "outputs": [],
   "source": []
  }
 ],
 "metadata": {
  "kernelspec": {
   "display_name": "Python 3 (ipykernel)",
   "language": "python",
   "name": "python3"
  },
  "language_info": {
   "codemirror_mode": {
    "name": "ipython",
    "version": 3
   },
   "file_extension": ".py",
   "mimetype": "text/x-python",
   "name": "python",
   "nbconvert_exporter": "python",
   "pygments_lexer": "ipython3",
   "version": "3.12.5"
  }
 },
 "nbformat": 4,
 "nbformat_minor": 5
}
