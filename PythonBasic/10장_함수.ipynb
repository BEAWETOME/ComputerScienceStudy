{
 "cells": [
  {
   "cell_type": "code",
   "execution_count": 1,
   "id": "d91c2a9f-a932-4051-a695-9f0f9d95c768",
   "metadata": {},
   "outputs": [
    {
     "name": "stdin",
     "output_type": "stream",
     "text": [
      "무슨 커피? 1:A 2:B 3:C 1\n"
     ]
    },
    {
     "name": "stdout",
     "output_type": "stream",
     "text": [
      "\n",
      "1단계\n",
      "2단계\n",
      "3단계 A커피\n",
      "4단계\n",
      "5단계\n",
      "\n",
      "가 손님\n"
     ]
    },
    {
     "name": "stdin",
     "output_type": "stream",
     "text": [
      "무슨 커피? 1:A 2:B 3:C 2\n"
     ]
    },
    {
     "name": "stdout",
     "output_type": "stream",
     "text": [
      "\n",
      "1단계\n",
      "2단계\n",
      "3단계 B커피\n",
      "4단계\n",
      "5단계\n",
      "\n",
      "나 손님\n"
     ]
    },
    {
     "name": "stdin",
     "output_type": "stream",
     "text": [
      "무슨 커피? 1:A 2:B 3:C 3\n"
     ]
    },
    {
     "name": "stdout",
     "output_type": "stream",
     "text": [
      "\n",
      "1단계\n",
      "2단계\n",
      "3단계 C커피\n",
      "4단계\n",
      "5단계\n",
      "\n",
      "다 손님\n"
     ]
    }
   ],
   "source": [
    "#Code09-04\n",
    "\n",
    "coffee=0\n",
    "\n",
    "def coffee_machine(butten):\n",
    "\n",
    "    print()\n",
    "    print('1단계')\n",
    "    print('2단계')\n",
    "\n",
    "    if butten == 1:\n",
    "        print('3단계 A커피')\n",
    "    elif butten ==2:\n",
    "        print('3단계 B커피')\n",
    "    elif butten==3:\n",
    "        print('3단계 C커피')\n",
    "\n",
    "    print('4단계')\n",
    "    print('5단계')\n",
    "    print()\n",
    "\n",
    "coffee=int(input('무슨 커피? 1:A 2:B 3:C'))\n",
    "coffee_machine(coffee)\n",
    "print('가 손님')\n",
    "\n",
    "coffee=int(input('무슨 커피? 1:A 2:B 3:C'))\n",
    "coffee_machine(coffee)\n",
    "print('나 손님')\n",
    "\n",
    "coffee=int(input('무슨 커피? 1:A 2:B 3:C'))\n",
    "coffee_machine(coffee)\n",
    "print('다 손님')"
   ]
  },
  {
   "cell_type": "code",
   "execution_count": 3,
   "id": "fd2adc92-185d-482f-ab12-3105409c51b6",
   "metadata": {},
   "outputs": [
    {
     "name": "stdout",
     "output_type": "stream",
     "text": [
      "90\n",
      "15\n"
     ]
    }
   ],
   "source": [
    "def hap(a,b):\n",
    "    print(a+b)\n",
    "\n",
    "hap(100,-10)\n",
    "hap(10,5)"
   ]
  },
  {
   "cell_type": "code",
   "execution_count": 4,
   "id": "b66f0171-b518-4df5-9fdd-2507893fa216",
   "metadata": {},
   "outputs": [
    {
     "data": {
      "text/plain": [
       "'지희님'"
      ]
     },
     "execution_count": 4,
     "metadata": {},
     "output_type": "execute_result"
    }
   ],
   "source": [
    "def change_name(name):\n",
    "    return(name+'님')\n",
    "\n",
    "change_name('지희')"
   ]
  },
  {
   "cell_type": "code",
   "execution_count": 5,
   "id": "51386d97-344d-4d4b-959f-2cbf01c682b4",
   "metadata": {},
   "outputs": [
    {
     "name": "stdout",
     "output_type": "stream",
     "text": [
      "지희님\n"
     ]
    }
   ],
   "source": [
    "def change_name(name):\n",
    "    print(name+'님')\n",
    "\n",
    "change_name('지희')"
   ]
  },
  {
   "cell_type": "code",
   "execution_count": 6,
   "id": "55593de0-fc2d-4da0-bab0-0ed8b0486479",
   "metadata": {},
   "outputs": [
    {
     "name": "stdout",
     "output_type": "stream",
     "text": [
      "지희님 안녕하세요\n"
     ]
    }
   ],
   "source": [
    "def change_name(name):\n",
    "    return(name+'님')\n",
    "\n",
    "a=change_name('지희')\n",
    "print(a+' 안녕하세요')"
   ]
  },
  {
   "cell_type": "code",
   "execution_count": 7,
   "id": "23356684-2e64-4cd9-b61b-8725505eeefe",
   "metadata": {},
   "outputs": [
    {
     "name": "stdout",
     "output_type": "stream",
     "text": [
      "지희님\n"
     ]
    },
    {
     "ename": "TypeError",
     "evalue": "unsupported operand type(s) for +: 'NoneType' and 'str'",
     "output_type": "error",
     "traceback": [
      "\u001b[0;31m---------------------------------------------------------------------------\u001b[0m",
      "\u001b[0;31mTypeError\u001b[0m                                 Traceback (most recent call last)",
      "Cell \u001b[0;32mIn[7], line 5\u001b[0m\n\u001b[1;32m      2\u001b[0m     \u001b[38;5;28mprint\u001b[39m(name\u001b[38;5;241m+\u001b[39m\u001b[38;5;124m'\u001b[39m\u001b[38;5;124m님\u001b[39m\u001b[38;5;124m'\u001b[39m)\n\u001b[1;32m      4\u001b[0m a\u001b[38;5;241m=\u001b[39mchange_name(\u001b[38;5;124m'\u001b[39m\u001b[38;5;124m지희\u001b[39m\u001b[38;5;124m'\u001b[39m)\n\u001b[0;32m----> 5\u001b[0m \u001b[38;5;28mprint\u001b[39m(\u001b[43ma\u001b[49m\u001b[38;5;241;43m+\u001b[39;49m\u001b[38;5;124;43m'\u001b[39;49m\u001b[38;5;124;43m 안녕하세요\u001b[39;49m\u001b[38;5;124;43m'\u001b[39;49m)\n",
      "\u001b[0;31mTypeError\u001b[0m: unsupported operand type(s) for +: 'NoneType' and 'str'"
     ]
    }
   ],
   "source": [
    "#함수 안에서 활용한 것을 변수값으로써 활용하려면 return사용\n",
    "def change_name(name):\n",
    "    print(name+'님')\n",
    "\n",
    "a=change_name('지희')\n",
    "print(a+' 안녕하세요')"
   ]
  },
  {
   "cell_type": "code",
   "execution_count": 10,
   "id": "a3eeb950-a053-463c-8ac6-6714eddc2ca9",
   "metadata": {},
   "outputs": [
    {
     "name": "stdout",
     "output_type": "stream",
     "text": [
      "100과 200의 plus()함수 값은 300이다.\n"
     ]
    }
   ],
   "source": [
    "def plus(v1,v2):\n",
    "    result=0\n",
    "    result= v1+v2\n",
    "    return result\n",
    "\n",
    "hap=0\n",
    "\n",
    "hap=plus(100,200)\n",
    "print(f'100과 200의 plus()함수 값은 {hap}이다.')"
   ]
  },
  {
   "cell_type": "code",
   "execution_count": 22,
   "id": "ffa09f53-e92b-40bc-81d0-23bcfc5106c8",
   "metadata": {},
   "outputs": [
    {
     "name": "stdout",
     "output_type": "stream",
     "text": [
      "100과 200의 plus()함수 300값은 이다.\n"
     ]
    }
   ],
   "source": [
    "def plus(v1,v2):\n",
    "    result=v1+v2\n",
    "    print(f'100과 200의 plus()함수 {result}값은 이다.')\n",
    "\n",
    "plus(100,200)"
   ]
  },
  {
   "cell_type": "code",
   "execution_count": 11,
   "id": "3707f730-852f-4d10-a10f-01419e254ab1",
   "metadata": {},
   "outputs": [
    {
     "name": "stdout",
     "output_type": "stream",
     "text": [
      "생일을 축하합니다!\n",
      "사랑하는 매내님의 생일을 축하합니다!\n",
      "생일을 축하합니다!\n",
      "사랑하는 뽀로로님의 생일을 축하합니다!\n",
      "생일을 축하합니다!\n",
      "사랑하는 지모님의 생일을 축하합니다!\n"
     ]
    }
   ],
   "source": [
    "#실습1\n",
    "\n",
    "def happyBirthday(name):\n",
    "    print('생일을 축하합니다!')\n",
    "    print(f'사랑하는 {name}님의 생일을 축하합니다!')\n",
    "\n",
    "happyBirthday('매내')\n",
    "happyBirthday('뽀로로')\n",
    "happyBirthday('지모')"
   ]
  },
  {
   "cell_type": "code",
   "execution_count": 23,
   "id": "a327b545-47a2-4c22-bf9e-d7be2a89dca9",
   "metadata": {},
   "outputs": [
    {
     "name": "stdin",
     "output_type": "stream",
     "text": [
      "단을 입력하세요:  3\n"
     ]
    },
    {
     "name": "stdout",
     "output_type": "stream",
     "text": [
      "3 * 1 = 3\n",
      "3 * 2 = 6\n",
      "3 * 3 = 9\n",
      "3 * 4 = 12\n",
      "3 * 5 = 15\n",
      "3 * 6 = 18\n",
      "3 * 7 = 21\n",
      "3 * 8 = 24\n",
      "3 * 9 = 27\n"
     ]
    }
   ],
   "source": [
    "def multiply(count):\n",
    "    for i in range(1,10):\n",
    "        print(f'{count} * {i} = {count*i}')\n",
    "\n",
    "num =  int(input('단을 입력하세요: '))\n",
    "multiply(num)"
   ]
  },
  {
   "cell_type": "code",
   "execution_count": 32,
   "id": "0e863a08-fdc6-4c01-8b73-7ee72a7968df",
   "metadata": {},
   "outputs": [
    {
     "name": "stdin",
     "output_type": "stream",
     "text": [
      "첫번 째 수를 입력하세요:  10\n",
      "연산자를 입력하세요(+,-,*,/,**):  /\n",
      "두번 째 수를 입력하세요:  0\n"
     ]
    }
   ],
   "source": [
    "def calc(a1,op,a2):\n",
    "    result=0\n",
    "    a=0\n",
    "    if op=='+':\n",
    "        result=a1+a2\n",
    "    elif op=='-':\n",
    "        result=a1-a2\n",
    "    elif op=='*':\n",
    "        result=a1*a2\n",
    "    elif op=='/':\n",
    "        if a2==0:\n",
    "            a=1\n",
    "            return a\n",
    "        else:\n",
    "            result=a1/a2\n",
    "    elif op=='**':\n",
    "        result=a1**a2\n",
    "    return result\n",
    "\n",
    "a1_def = int(input('첫번 째 수를 입력하세요: '))\n",
    "op_def = input('연산자를 입력하세요(+,-,*,/,**): ')\n",
    "a2_def = int(input('두번 째 수를 입력하세요: '))\n",
    "\n",
    "result_def=calc(a1_def,op_def,a2_def)\n",
    "\n",
    "if a==0:\n",
    "    print(f'{a1} {op} {a2} = {result_def}')\n",
    "elif a==1:\n",
    "    print('0으로 나눌 수 없습니다.')"
   ]
  },
  {
   "cell_type": "code",
   "execution_count": 6,
   "id": "33d0ec65-1e2a-4ca1-a075-fa8b7a9b0eb1",
   "metadata": {},
   "outputs": [
    {
     "name": "stdout",
     "output_type": "stream",
     "text": [
      "매개변수 2개인 함수를 호출한 결과 ==> 30\n",
      "매개변수 3개인 함수를 호출한 결과 ==> 60\n"
     ]
    }
   ],
   "source": [
    "#10장_36p(그 사이에 있는 파트는 영상으로 복습 [24~35p])\n",
    "def para2_func(v1,v2):\n",
    "    result = 0\n",
    "    result = v1 + v2\n",
    "    return result\n",
    "    \n",
    "def para3_func(v1,v2,v3=0):\n",
    "    result = 0\n",
    "    result = v1 + v2 + v3\n",
    "    return result\n",
    "\n",
    "\n",
    "hap = 0\n",
    "hap = para2_func(10,20)\n",
    "print('매개변수 2개인 함수를 호출한 결과 ==> %d' %hap)\n",
    "hap = para3_func(10,20,30)\n",
    "print('매개변수 3개인 함수를 호출한 결과 ==> %d' %hap)"
   ]
  },
  {
   "cell_type": "code",
   "execution_count": 2,
   "id": "4942026a-c131-495b-bcf8-2dbe2b9fce21",
   "metadata": {},
   "outputs": [
    {
     "name": "stdout",
     "output_type": "stream",
     "text": [
      "매개변수 2개인 함수를 호출한 결과 ==> 30\n",
      "매개변수 3개인 함수를 호출한 결과 ==> 60\n"
     ]
    }
   ],
   "source": [
    "def para_func(v1,v2,v3=0):\n",
    "    result = 0\n",
    "    result = v1 + v2 + v3\n",
    "    return result\n",
    "\n",
    "hap = 0\n",
    "hap = para_func(10,20)\n",
    "print('매개변수 2개인 함수를 호출한 결과 ==> %d' %hap)\n",
    "hap = para_func(10,20,30)\n",
    "print('매개변수 3개인 함수를 호출한 결과 ==> %d' %hap)"
   ]
  },
  {
   "cell_type": "code",
   "execution_count": 21,
   "id": "361a93cc-3134-449b-ae8c-fe1bb9924eeb",
   "metadata": {},
   "outputs": [
    {
     "name": "stdout",
     "output_type": "stream",
     "text": [
      "이름:이현진, 생년월일:030725, 전공:History, 국적:Korean\n"
     ]
    }
   ],
   "source": [
    "def print_student_info(name,birth,major='History',country='Korean'):\n",
    "    print(f'이름:{name}, 생년월일:{birth}, 전공:{major}, 국적:{country}')\n",
    "\n",
    "print_student_info('이현진','030725')\n"
   ]
  },
  {
   "cell_type": "code",
   "execution_count": 1,
   "id": "b6fe23b8-683a-4459-9b9b-ef838d2962d8",
   "metadata": {},
   "outputs": [
    {
     "name": "stdout",
     "output_type": "stream",
     "text": [
      "10\n",
      "20\n",
      "30\n",
      "10\n",
      "20\n",
      "30\n"
     ]
    }
   ],
   "source": [
    "def print_languages(*para):\n",
    "    for i in para:\n",
    "        print(i)\n",
    "\n",
    "def print_languages_tuple(laguages_tuple):\n",
    "    for k in laguages_tuple:\n",
    "        print(k)\n",
    "\n",
    "print_languages(10,20,30)\n",
    "print_languages_tuple((10,20,30))"
   ]
  },
  {
   "cell_type": "code",
   "execution_count": 32,
   "id": "da5fe7a2-fb15-4446-aa43-f539ffb2ba7c",
   "metadata": {},
   "outputs": [
    {
     "name": "stdout",
     "output_type": "stream",
     "text": [
      "30\n"
     ]
    }
   ],
   "source": [
    "def outFunc(v1,v2):\n",
    "    def inFunc(a,b):\n",
    "        return a+b\n",
    "    return inFunc(v1,v2)\n",
    "\n",
    "print(outFunc(10,20))"
   ]
  },
  {
   "cell_type": "code",
   "execution_count": 33,
   "id": "f93b6d43-503c-4841-a28b-a22ed6fbbae2",
   "metadata": {},
   "outputs": [
    {
     "name": "stdout",
     "output_type": "stream",
     "text": [
      "1 2 3 4 5 6 7 8 9 10 "
     ]
    }
   ],
   "source": [
    "def count(num):\n",
    "    if num>=1:\n",
    "        count(num-1)\n",
    "        print(num, end=' ')\n",
    "\n",
    "    else:\n",
    "        return\n",
    "\n",
    "count(10)"
   ]
  },
  {
   "cell_type": "code",
   "execution_count": null,
   "id": "6d1d1070-a7de-429f-9501-f3ff03744c32",
   "metadata": {},
   "outputs": [],
   "source": []
  },
  {
   "cell_type": "code",
   "execution_count": null,
   "id": "4d298a41-9110-416d-8a1c-a6bc9485f957",
   "metadata": {},
   "outputs": [],
   "source": []
  },
  {
   "cell_type": "code",
   "execution_count": 39,
   "id": "31e6e49c-1fe9-458d-8c88-6648de53031d",
   "metadata": {},
   "outputs": [
    {
     "name": "stdout",
     "output_type": "stream",
     "text": [
      "10 9 8 7 6 5 4 3 2 1 "
     ]
    }
   ],
   "source": [
    "def count(num):\n",
    "    if num>=1:\n",
    "        print(num, end=' ')\n",
    "        count(num-1)\n",
    "    \n",
    "    else:\n",
    "        return\n",
    "\n",
    "count(10)"
   ]
  },
  {
   "cell_type": "code",
   "execution_count": 55,
   "id": "15461c3b-423f-40f4-a2e4-43b2d6fc85a0",
   "metadata": {},
   "outputs": [
    {
     "data": {
      "text/plain": [
       "100"
      ]
     },
     "execution_count": 55,
     "metadata": {},
     "output_type": "execute_result"
    }
   ],
   "source": [
    "#lambda함수 활용\n",
    "(lambda num1, num2 : num1**num2)(10,2)"
   ]
  },
  {
   "cell_type": "code",
   "execution_count": 41,
   "id": "fa566b54-df7b-49ce-8f4c-6f184d935af7",
   "metadata": {},
   "outputs": [
    {
     "name": "stdout",
     "output_type": "stream",
     "text": [
      "30\n",
      "300\n"
     ]
    }
   ],
   "source": [
    "hap1 = lambda num3=10, num4=20 : num3+num4\n",
    "print(hap1())\n",
    "\n",
    "print(hap1(100,200))"
   ]
  },
  {
   "cell_type": "code",
   "execution_count": 56,
   "id": "dbdb5d8e-c779-4724-a4a7-4adf2fee7127",
   "metadata": {},
   "outputs": [
    {
     "data": {
      "text/plain": [
       "[20, 30, 40, 50, 60]"
      ]
     },
     "execution_count": 56,
     "metadata": {},
     "output_type": "execute_result"
    }
   ],
   "source": [
    "#더 단순화 시키고 싶음 --> lambda와 map 사용\n",
    "myList = [10,20,30,40,50]\n",
    "\n",
    "def add_ten(num):\n",
    "    return num+10\n",
    "\n",
    "for i in range(len(myList)):\n",
    "    myList[i] = add_ten(myList[i])\n",
    "\n",
    "myList"
   ]
  },
  {
   "cell_type": "code",
   "execution_count": 57,
   "id": "1043417c-3c0b-4741-a289-0c91f46462d3",
   "metadata": {},
   "outputs": [
    {
     "data": {
      "text/plain": [
       "[20, 30, 40, 50, 60]"
      ]
     },
     "execution_count": 57,
     "metadata": {},
     "output_type": "execute_result"
    }
   ],
   "source": [
    "#map함수 활용\n",
    "map_list = [10,20,30,40,50]\n",
    "map_list = list(map(add_ten, map_list))     #위에 add_ten함수 활용: map(함수, 데이터값들)\n",
    "map_list "
   ]
  },
  {
   "cell_type": "code",
   "execution_count": 1,
   "id": "3dabaad4-594b-4f4c-a4f8-a80ac08253e3",
   "metadata": {},
   "outputs": [
    {
     "data": {
      "text/plain": [
       "[20, 30, 40, 50, 60]"
      ]
     },
     "execution_count": 1,
     "metadata": {},
     "output_type": "execute_result"
    }
   ],
   "source": [
    "#코드 단순화\n",
    "lam_map = [10,20,30,40,50]\n",
    "lam_map = list(map(lambda Num : Num+10, lam_map))\n",
    "lam_map"
   ]
  },
  {
   "cell_type": "code",
   "execution_count": 9,
   "id": "8a852b09-5901-4427-b99b-b55c77dca960",
   "metadata": {},
   "outputs": [
    {
     "name": "stdin",
     "output_type": "stream",
     "text": [
      "정수를 하나 입력하세요 10\n"
     ]
    },
    {
     "name": "stdout",
     "output_type": "stream",
     "text": [
      "3628800\n"
     ]
    }
   ],
   "source": [
    "#실습 6 =================================================================================================================\n",
    "def factorial(num):\n",
    "    if num>=1:\n",
    "        return num*factorial(num-1)\n",
    "    else:\n",
    "        return 1\n",
    "\n",
    "num=int(input('정수를 하나 입력하세요'))\n",
    "print(factorial(num))"
   ]
  },
  {
   "cell_type": "code",
   "execution_count": null,
   "id": "0d7ca2a8-128c-4758-ad45-4b5f2d2893e9",
   "metadata": {},
   "outputs": [],
   "source": []
  }
 ],
 "metadata": {
  "kernelspec": {
   "display_name": "Python 3 (ipykernel)",
   "language": "python",
   "name": "python3"
  },
  "language_info": {
   "codemirror_mode": {
    "name": "ipython",
    "version": 3
   },
   "file_extension": ".py",
   "mimetype": "text/x-python",
   "name": "python",
   "nbconvert_exporter": "python",
   "pygments_lexer": "ipython3",
   "version": "3.12.5"
  }
 },
 "nbformat": 4,
 "nbformat_minor": 5
}
