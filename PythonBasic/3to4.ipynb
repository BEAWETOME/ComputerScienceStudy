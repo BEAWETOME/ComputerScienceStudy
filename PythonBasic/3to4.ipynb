{
 "cells": [
  {
   "cell_type": "code",
   "execution_count": 1,
   "id": "89e01b35-6759-436d-8782-9b2feca1403c",
   "metadata": {},
   "outputs": [
    {
     "name": "stdout",
     "output_type": "stream",
     "text": [
      "내 이름은 슝슝이야. 나이는 20살이지.\n"
     ]
    }
   ],
   "source": [
    "name = '슝슝이'\n",
    "age = 20\n",
    "print(f\"내 이름은 {name}야. 나이는 {age}살이지.\")"
   ]
  },
  {
   "cell_type": "code",
   "execution_count": 2,
   "id": "e10f5157-d6e7-4720-9411-5d22bfd7ac75",
   "metadata": {},
   "outputs": [
    {
     "name": "stdout",
     "output_type": "stream",
     "text": [
      "5.2와 10.78의 합은 16.0입니다.\n",
      "10,000,000원이 입금되었습니다.\n"
     ]
    }
   ],
   "source": [
    "a = 5.2\n",
    "b = 10.78\n",
    "c = 10000000\n",
    "print(f\"{a}와 {b}의 합은 {a+b:.1f}입니다.\")\n",
    "print(f\"{c:,}원이 입금되었습니다.\")"
   ]
  },
  {
   "cell_type": "code",
   "execution_count": 4,
   "id": "0bf7d31d-eb63-433d-87a2-eb6e1b2e1520",
   "metadata": {},
   "outputs": [
    {
     "name": "stdout",
     "output_type": "stream",
     "text": [
      "오늘은 좋은날\n",
      "아자 아자 아자 \n",
      "뽀롱 뽀롱 뽀롱 뽀롱 뽀로로\n"
     ]
    }
   ],
   "source": [
    "print(\"오늘은 \" + \"좋은날\")\n",
    "print(\"아자 \"*3)\n",
    "print(\"뽀롱 \"*4 + \"뽀로로\")"
   ]
  },
  {
   "cell_type": "code",
   "execution_count": 5,
   "id": "4b137065-d051-4a2e-aaea-e66cb4fb35ad",
   "metadata": {},
   "outputs": [
    {
     "name": "stdout",
     "output_type": "stream",
     "text": [
      "pi값(소수 둘째자리까지 반올림): 3.14\n",
      "pi값(소수 둘째자리까지 반올림): 3.14\n",
      "pi값(소수 둘째자리까지 반올림): 3.14\n"
     ]
    }
   ],
   "source": [
    "pi = 3.141592\n",
    "print(\"pi값(소수 둘째자리까지 반올림): %.2f\" %pi)\n",
    "print(\"pi값(소수 둘째자리까지 반올림): {:.2f}\" .format(pi))\n",
    "print(f\"pi값(소수 둘째자리까지 반올림): {pi:.2f}\")"
   ]
  },
  {
   "cell_type": "code",
   "execution_count": 8,
   "id": "acacd05d-e772-4c08-a2d7-b5155410e970",
   "metadata": {},
   "outputs": [
    {
     "name": "stdout",
     "output_type": "stream",
     "text": [
      "she said, \"Hello!\"\n",
      "This is a backslash: \\\n",
      "노는게 제일 좋아\n",
      "친구들 모여라\n",
      "언제나 즐거워\n",
      "개구쟁이 뽀로로\n"
     ]
    }
   ],
   "source": [
    "print('she said, \"Hello!\"')\n",
    "print(\"This is a backslash: \\\\\")\n",
    "print('''노는게 제일 좋아\n",
    "친구들 모여라\n",
    "언제나 즐거워\n",
    "개구쟁이 뽀로로''')"
   ]
  },
  {
   "cell_type": "code",
   "execution_count": 9,
   "id": "39b5c3f2-c949-49d5-9fb1-5eccf7c44d2d",
   "metadata": {},
   "outputs": [],
   "source": [
    "a=10\n",
    "b=20 # 순차적으로 대입\n",
    "a, b=10, 20 #이거는 동시에 대입"
   ]
  },
  {
   "cell_type": "code",
   "execution_count": 10,
   "id": "8d73b92e-a486-4216-8da5-ba586d8a9e6d",
   "metadata": {},
   "outputs": [
    {
     "data": {
      "text/plain": [
       "10"
      ]
     },
     "execution_count": 10,
     "metadata": {},
     "output_type": "execute_result"
    }
   ],
   "source": [
    "a"
   ]
  },
  {
   "cell_type": "code",
   "execution_count": 11,
   "id": "a7093dc0-f1b8-491d-8492-e5493944ad2e",
   "metadata": {},
   "outputs": [
    {
     "data": {
      "text/plain": [
       "20"
      ]
     },
     "execution_count": 11,
     "metadata": {},
     "output_type": "execute_result"
    }
   ],
   "source": [
    "b"
   ]
  },
  {
   "cell_type": "code",
   "execution_count": 18,
   "id": "7c6221ce-d55a-4063-a741-a039bc9b31ba",
   "metadata": {},
   "outputs": [
    {
     "data": {
      "text/plain": [
       "'100.2311'"
      ]
     },
     "execution_count": 18,
     "metadata": {},
     "output_type": "execute_result"
    }
   ],
   "source": [
    "a = 100; b = 100.231\n",
    "str(a) + '1';  str(b) + '1' #? 이거 왜 이렇게 출력됨"
   ]
  },
  {
   "cell_type": "code",
   "execution_count": 21,
   "id": "f16d3306-2f7d-4732-8137-98ebab085433",
   "metadata": {},
   "outputs": [
    {
     "name": "stdout",
     "output_type": "stream",
     "text": [
      "첫번째 정수: 20\n",
      "두번쨰 정수: 5\n",
      "20 + 5 = 25\n",
      "20 - 5 = 15\n",
      "20 * 5 = 100\n",
      "20 / 5 = 4.0\n"
     ]
    }
   ],
   "source": [
    "a = 20\n",
    "b = 5\n",
    "print(\"첫번째 정수: %d\" %a)\n",
    "print(\"두번쨰 정수: %d\" %b)\n",
    "print(f\"{str(a)} + {str(b)} = {a+b}\") \n",
    "print(f\"{str(a)} - {str(b)} = {a-b}\")\n",
    "print(f\"{str(a)} * {str(b)} = {a*b}\")\n",
    "print(f\"{str(a)} / {str(b)} = {a/b}\")"
   ]
  },
  {
   "cell_type": "code",
   "execution_count": 22,
   "id": "936f2c49-4c7e-4b43-be7d-0f5a7b90629e",
   "metadata": {},
   "outputs": [
    {
     "name": "stdout",
     "output_type": "stream",
     "text": [
      "빵을 나누어 줄 수 있는 학생: 32\n",
      "남은 빵의 개수: 1\n"
     ]
    }
   ],
   "source": [
    "food = 97\n",
    "print(f\"빵을 나누어 줄 수 있는 학생: {97//3}\")\n",
    "print(f\"남은 빵의 개수: {97%3}\")"
   ]
  },
  {
   "cell_type": "code",
   "execution_count": 31,
   "id": "4584c850-3381-4ee2-a163-7798ecb7fb61",
   "metadata": {},
   "outputs": [
    {
     "name": "stdin",
     "output_type": "stream",
     "text": [
      "키를 센티미터 단위로 입력하세요:  181\n",
      "몸무게를 킬로미터 단위로 입력하세요:  67\n"
     ]
    },
    {
     "name": "stdout",
     "output_type": "stream",
     "text": [
      "당신의 BMI는 20.5\n"
     ]
    }
   ],
   "source": [
    "tall = int(input(\"키를 센티미터 단위로 입력하세요: \"))/100\n",
    "weight =  int(input(\"몸무게를 킬로미터 단위로 입력하세요: \"))\n",
    "bmi = weight / (tall**2)\n",
    "print(f\"당신의 BMI는 {bmi:.1f}\")"
   ]
  },
  {
   "cell_type": "code",
   "execution_count": 32,
   "id": "220e35b3-eb98-48ed-ac4a-aa70bd2bc11f",
   "metadata": {},
   "outputs": [
    {
     "name": "stdin",
     "output_type": "stream",
     "text": [
      "아메리카노 판매 개수:  2\n",
      "카페라뗴 판매 개수:  3\n",
      "카푸치노 판매 개수:  0\n"
     ]
    },
    {
     "name": "stdout",
     "output_type": "stream",
     "text": [
      "총 매출은 15,500입니다.\n"
     ]
    }
   ],
   "source": [
    "A = int(input(\"아메리카노 판매 개수: \"))\n",
    "B = int(input(\"카페라뗴 판매 개수: \"))\n",
    "C = int(input(\"카푸치노 판매 개수: \"))\n",
    "total = A*2500 + B*3500 + C*4000\n",
    "print(\"총 매출은 {:,}입니다.\" .format(total))"
   ]
  },
  {
   "cell_type": "code",
   "execution_count": null,
   "id": "f946ac67-5a61-4a5b-9c3d-35e19f709e54",
   "metadata": {},
   "outputs": [],
   "source": []
  }
 ],
 "metadata": {
  "kernelspec": {
   "display_name": "Python 3 (ipykernel)",
   "language": "python",
   "name": "python3"
  },
  "language_info": {
   "codemirror_mode": {
    "name": "ipython",
    "version": 3
   },
   "file_extension": ".py",
   "mimetype": "text/x-python",
   "name": "python",
   "nbconvert_exporter": "python",
   "pygments_lexer": "ipython3",
   "version": "3.12.5"
  }
 },
 "nbformat": 4,
 "nbformat_minor": 5
}
