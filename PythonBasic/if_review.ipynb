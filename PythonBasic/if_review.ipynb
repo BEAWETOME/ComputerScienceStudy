{
 "cells": [
  {
   "cell_type": "code",
   "execution_count": 15,
   "id": "a40822c6-7a26-456c-9975-8e7a3769fbe1",
   "metadata": {},
   "outputs": [
    {
     "name": "stdin",
     "output_type": "stream",
     "text": [
      "아이디를 입력하시오:  ilovepython\n",
      "패스워드를 입력하시오:  mypass1234\n"
     ]
    },
    {
     "name": "stdout",
     "output_type": "stream",
     "text": [
      "환영합니다.\n"
     ]
    }
   ],
   "source": [
    "#복습 1\n",
    "ans1=input(\"아이디를 입력하시오: \")\n",
    "if ans1==\"ilovepython\":\n",
    "    ans2 = input(\"패스워드를 입력하시오: \")\n",
    "    if ans2==\"mypass1234\":\n",
    "        print(\"환영합니다.\")\n",
    "    else:\n",
    "        print(\"비밀번호가 틀렸습니다.\")\n",
    "else :\n",
    "    print(\"아이디를 찾을 수 없습니다.\")"
   ]
  },
  {
   "cell_type": "code",
   "execution_count": 10,
   "id": "175e9798-14d2-4a06-b8cd-291decbe8aa1",
   "metadata": {},
   "outputs": [
    {
     "name": "stdin",
     "output_type": "stream",
     "text": [
      "정수를 입력하시오 :  1\n"
     ]
    },
    {
     "name": "stdout",
     "output_type": "stream",
     "text": [
      "1 는 홀수입니다.\n"
     ]
    }
   ],
   "source": [
    "#복습 2\n",
    "num = int(input(\"정수를 입력하시오 : \"))\n",
    "if num%2==1:\n",
    "    print(num,\"는 홀수입니다.\")\n",
    "elif num==0:\n",
    "    print(num,\"을 입력하셨습니다.\")\n",
    "elif num < 0:\n",
    "    print(num,\"는 음수입니다.\")\n",
    "else :\n",
    "    print(num,\"는 짝수입니다.\")"
   ]
  },
  {
   "cell_type": "code",
   "execution_count": 13,
   "id": "7b9abf1f-59bf-4f54-aefc-64069131f08d",
   "metadata": {},
   "outputs": [
    {
     "name": "stdin",
     "output_type": "stream",
     "text": [
      "성별을 입력하세요.(남/여) 남\n",
      "팔굽혀펴기를 몇 회 하셨나요? 10\n"
     ]
    },
    {
     "name": "stdout",
     "output_type": "stream",
     "text": [
      "합격(Pass)입니다.\n"
     ]
    }
   ],
   "source": [
    "ans = input(\"성별을 입력하세요.(남/여)\")\n",
    "if ans==\"남\":\n",
    "    ans2=int(input(\"팔굽혀펴기를 몇 회 하셨나요?\"))\n",
    "    if ans2 >= 10 :\n",
    "        print(\"합격(Pass)입니다.\")\n",
    "    else:\n",
    "        print(\"불합격(Fail)입니다.\")\n",
    "elif ans==\"여\":\n",
    "    ans3=int(input(\"팔굽혀펴기를 몇 회 하셨나요?\"))\n",
    "    if ans3 >= 5:\n",
    "        print(\"합격(Pass)입니다.\")\n",
    "    else:\n",
    "        print(\"불합격(Fail)입니다.\")\n",
    "else:\n",
    "    print(\"성별을 다시 입력해주세요\")"
   ]
  },
  {
   "cell_type": "code",
   "execution_count": null,
   "id": "eff53b59-5a95-4c23-9826-16c39e16c70f",
   "metadata": {},
   "outputs": [],
   "source": []
  }
 ],
 "metadata": {
  "kernelspec": {
   "display_name": "Python 3 (ipykernel)",
   "language": "python",
   "name": "python3"
  },
  "language_info": {
   "codemirror_mode": {
    "name": "ipython",
    "version": 3
   },
   "file_extension": ".py",
   "mimetype": "text/x-python",
   "name": "python",
   "nbconvert_exporter": "python",
   "pygments_lexer": "ipython3",
   "version": "3.12.5"
  }
 },
 "nbformat": 4,
 "nbformat_minor": 5
}
