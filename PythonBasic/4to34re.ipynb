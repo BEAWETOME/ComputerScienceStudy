{
 "cells": [
  {
   "cell_type": "code",
   "execution_count": 3,
   "id": "7e274779-5f6f-4582-b695-84a0efe17de3",
   "metadata": {},
   "outputs": [
    {
     "name": "stdout",
     "output_type": "stream",
     "text": [
      "15\n",
      "10\n",
      "50\n",
      "10.0\n",
      "2.0\n",
      "2.0\n",
      "32.0\n"
     ]
    }
   ],
   "source": [
    "a = 10\n",
    "a += 5; print(a)\n",
    "a -= 5; print(a)\n",
    "a *= 5; print(a)\n",
    "a /= 5; print(a)\n",
    "a //= 5; print(a)\n",
    "a %= 5; print(a)\n",
    "a **= 5; print(a)"
   ]
  },
  {
   "cell_type": "code",
   "execution_count": 10,
   "id": "6888f36b-3880-41c4-a081-c920571a8e93",
   "metadata": {},
   "outputs": [
    {
     "name": "stdin",
     "output_type": "stream",
     "text": [
      "교환할 금액을 입력하세요:  7777\n"
     ]
    },
    {
     "name": "stdout",
     "output_type": "stream",
     "text": [
      "500원 짜리 15개\n",
      "100원 짜리 2개\n",
      "50원 짜리 1개\n",
      "10원 짜리 2개\n",
      "나머지 7 원\n"
     ]
    }
   ],
   "source": [
    "money = int(input(\"교환할 금액을 입력하세요: \"))\n",
    "print(\"500원 짜리 %d개\" %(money//500))\n",
    "money %= 500\n",
    "print(\"100원 짜리 %d개\" %(money//100))\n",
    "money %= 100\n",
    "print(\"50원 짜리 %d개\" %(money//50))\n",
    "money %= 50\n",
    "print(\"10원 짜리 %d개\" %(money//10))\n",
    "money %= 10\n",
    "print(\"나머지\",money,\"원\")"
   ]
  },
  {
   "cell_type": "code",
   "execution_count": 11,
   "id": "1b7cfdd0-93b1-4061-8682-caf42f62e4dd",
   "metadata": {},
   "outputs": [
    {
     "name": "stdout",
     "output_type": "stream",
     "text": [
      "False True False True False True\n"
     ]
    }
   ],
   "source": [
    "a, b=100, 200\n",
    "print(a==b, a!=b, a > b, a < b, a >= b, a <= b)"
   ]
  },
  {
   "cell_type": "code",
   "execution_count": 15,
   "id": "48eb0b8c-a644-491e-b8c3-cd24a7a1362b",
   "metadata": {},
   "outputs": [
    {
     "name": "stdout",
     "output_type": "stream",
     "text": [
      "False True True\n"
     ]
    }
   ],
   "source": [
    "a=99\n",
    "print((a>100) and (a<200), (a>100) or (a<200), not(a==100))"
   ]
  },
  {
   "cell_type": "code",
   "execution_count": 16,
   "id": "4909e1fc-3f66-4426-a7ce-7720cb3a5272",
   "metadata": {},
   "outputs": [],
   "source": [
    "if(0) :\n",
    "    print(\"참이면 보여요\")"
   ]
  },
  {
   "cell_type": "code",
   "execution_count": 17,
   "id": "d881dce3-fb31-4672-a22d-1a7fefe564ad",
   "metadata": {},
   "outputs": [
    {
     "name": "stdout",
     "output_type": "stream",
     "text": [
      "참이면 보여요\n"
     ]
    }
   ],
   "source": [
    "if(1) :\n",
    "    print(\"참이면 보여요\")"
   ]
  },
  {
   "cell_type": "code",
   "execution_count": 19,
   "id": "7caea85e-f012-4132-b424-291b6c0ae208",
   "metadata": {},
   "outputs": [
    {
     "name": "stdout",
     "output_type": "stream",
     "text": [
      "-21\n"
     ]
    }
   ],
   "source": [
    "x = -1\n",
    "y = 3\n",
    "print((-y)**3+2*x**2*y)"
   ]
  },
  {
   "cell_type": "code",
   "execution_count": 25,
   "id": "d678fa56-4a42-473b-927d-4e7f3547da68",
   "metadata": {},
   "outputs": [
    {
     "name": "stdout",
     "output_type": "stream",
     "text": [
      "\"\\n\" is a newline character\n",
      "\"\\n\" is a newline character\n"
     ]
    }
   ],
   "source": [
    "print('\"\\\\n\" is a newline character')\n",
    "print(r'\"\\n\" is a newline character') # 이건 알아두자 몰랐던거"
   ]
  },
  {
   "cell_type": "code",
   "execution_count": 26,
   "id": "21358efe-9d5d-4e65-bfc8-7e8bf92b393e",
   "metadata": {},
   "outputs": [
    {
     "name": "stdin",
     "output_type": "stream",
     "text": [
      "첫 번째 수를 입력하시오. 10\n",
      "두 번째 수를 입력하시오. 20\n",
      "세 번째 수를 입력하시오. 30\n"
     ]
    },
    {
     "name": "stdout",
     "output_type": "stream",
     "text": [
      "\n",
      "평균 = 20.0\n"
     ]
    }
   ],
   "source": [
    "first = int(input(\"첫 번째 수를 입력하시오.\"))\n",
    "second = int(input(\"두 번째 수를 입력하시오.\"))\n",
    "third = int(input(\"세 번째 수를 입력하시오.\"))\n",
    "mean = (first+second+third)/3\n",
    "print(\"\\n평균 = %.1f\" %mean)"
   ]
  },
  {
   "cell_type": "code",
   "execution_count": 24,
   "id": "54689d9f-cf25-432e-a87b-83dcbe91389d",
   "metadata": {},
   "outputs": [
    {
     "name": "stdin",
     "output_type": "stream",
     "text": [
      "세 자리 정수를 입력하시오. 349\n"
     ]
    },
    {
     "name": "stdout",
     "output_type": "stream",
     "text": [
      "백의 자리 : 3\n",
      "십의 자리 : 4\n",
      "일의 자리 : 9\n"
     ]
    }
   ],
   "source": [
    "haha = int(input(\"세 자리 정수를 입력하시오.\"))\n",
    "print(\"백의 자리 :\",haha//100)\n",
    "haha %= 100\n",
    "print(\"십의 자리 :\",haha//10)\n",
    "haha %= 10\n",
    "print(\"일의 자리 :\",haha)"
   ]
  },
  {
   "cell_type": "code",
   "execution_count": null,
   "id": "a1d69ae0-0590-4e96-bc31-cc73cfbfd17c",
   "metadata": {},
   "outputs": [],
   "source": []
  }
 ],
 "metadata": {
  "kernelspec": {
   "display_name": "Python 3 (ipykernel)",
   "language": "python",
   "name": "python3"
  },
  "language_info": {
   "codemirror_mode": {
    "name": "ipython",
    "version": 3
   },
   "file_extension": ".py",
   "mimetype": "text/x-python",
   "name": "python",
   "nbconvert_exporter": "python",
   "pygments_lexer": "ipython3",
   "version": "3.12.5"
  }
 },
 "nbformat": 4,
 "nbformat_minor": 5
}
