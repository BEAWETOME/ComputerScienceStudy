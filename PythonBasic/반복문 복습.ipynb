{
 "cells": [
  {
   "cell_type": "code",
   "execution_count": 4,
   "id": "7faab56b-8c3f-4a97-9cae-3fed959c87f3",
   "metadata": {},
   "outputs": [
    {
     "name": "stdout",
     "output_type": "stream",
     "text": [
      "\n",
      "*\n",
      "**\n",
      "***\n",
      "****\n",
      "*****\n"
     ]
    }
   ],
   "source": [
    "#복습 1-1\n",
    "for i in range(6):\n",
    "    print(\"*\"*i)"
   ]
  },
  {
   "cell_type": "code",
   "execution_count": 10,
   "id": "b92d7e91-9691-4424-995d-157a6b74d9e0",
   "metadata": {},
   "outputs": [
    {
     "name": "stdin",
     "output_type": "stream",
     "text": [
      "수를 입력하세요:  523\n"
     ]
    },
    {
     "name": "stdout",
     "output_type": "stream",
     "text": [
      "10\n"
     ]
    }
   ],
   "source": [
    "#복습 1-2\n",
    "num=input(\"수를 입력하세요: \")\n",
    "total=0\n",
    "for i in num:\n",
    "    total = int(i) + total\n",
    "print(total)"
   ]
  },
  {
   "cell_type": "code",
   "execution_count": 5,
   "id": "533bc251-feed-4bf7-a509-7e3adde65fa3",
   "metadata": {},
   "outputs": [
    {
     "name": "stdin",
     "output_type": "stream",
     "text": [
      "1부터 어디까지 진행할까요?  23\n"
     ]
    },
    {
     "name": "stdout",
     "output_type": "stream",
     "text": [
      "1\n",
      "2\n",
      "짝\n",
      "4\n",
      "5\n",
      "짝\n",
      "7\n",
      "8\n",
      "짝\n",
      "10\n",
      "11\n",
      "12\n",
      "짝\n",
      "14\n",
      "15\n",
      "짝\n",
      "17\n",
      "18\n",
      "짝\n",
      "20\n",
      "21\n",
      "22\n",
      "짝\n"
     ]
    }
   ],
   "source": [
    "#복습 2\n",
    "start=int(input(\"1부터 어디까지 진행할까요? \"))\n",
    "num = start + 1\n",
    "for i in range(1,num,1):\n",
    "    if i%10==3 or i%10==6 or i%10==9:\n",
    "        print(\"짝\")\n",
    "    else:\n",
    "        print(i)"
   ]
  },
  {
   "cell_type": "code",
   "execution_count": 6,
   "id": "6e47d93a-54c5-44e4-80ee-99ecd3dac009",
   "metadata": {},
   "outputs": [
    {
     "name": "stdin",
     "output_type": "stream",
     "text": [
      "숫자를 입력하시오:  10\n",
      "계속?(y/n):  y\n",
      "숫자를 입력하시오:  20\n",
      "계속?(y/n):  y\n",
      "숫자를 입력하시오:  30\n",
      "계속?(y/n):  n\n"
     ]
    },
    {
     "name": "stdout",
     "output_type": "stream",
     "text": [
      "60\n"
     ]
    }
   ],
   "source": [
    "#복습 3\n",
    "total = 0\n",
    "while True:\n",
    "    num=int(input(\"숫자를 입력하시오: \"))\n",
    "    answer=input(\"계속?(y/n): \")\n",
    "    if answer==\"y\":\n",
    "        total = total + num\n",
    "        continue\n",
    "    elif answer==\"n\":\n",
    "        total = total + num\n",
    "        break\n",
    "print(total)"
   ]
  },
  {
   "cell_type": "code",
   "execution_count": 7,
   "id": "a19e445c-54c6-484c-b4bb-ff83e6078e36",
   "metadata": {},
   "outputs": [
    {
     "name": "stdin",
     "output_type": "stream",
     "text": [
      "신호등 색상을 입력하시오:  red\n",
      "신호등 색상을 입력하시오:  yellow\n",
      "신호등 색상을 입력하시오:  green\n"
     ]
    },
    {
     "name": "stdout",
     "output_type": "stream",
     "text": [
      "전진!!!\n"
     ]
    }
   ],
   "source": [
    "#복습 4\n",
    "while True:\n",
    "    color=input(\"신호등 색상을 입력하시오: \")\n",
    "    if color == \"red\":\n",
    "        continue\n",
    "    elif color == \"yellow\":\n",
    "        continue\n",
    "    elif color == \"green\":\n",
    "        break\n",
    "print(\"전진!!!\")"
   ]
  },
  {
   "cell_type": "code",
   "execution_count": null,
   "id": "28c4ce68-1203-4c77-8b75-fa9372cf92ec",
   "metadata": {},
   "outputs": [],
   "source": []
  }
 ],
 "metadata": {
  "kernelspec": {
   "display_name": "Python 3 (ipykernel)",
   "language": "python",
   "name": "python3"
  },
  "language_info": {
   "codemirror_mode": {
    "name": "ipython",
    "version": 3
   },
   "file_extension": ".py",
   "mimetype": "text/x-python",
   "name": "python",
   "nbconvert_exporter": "python",
   "pygments_lexer": "ipython3",
   "version": "3.12.5"
  }
 },
 "nbformat": 4,
 "nbformat_minor": 5
}
